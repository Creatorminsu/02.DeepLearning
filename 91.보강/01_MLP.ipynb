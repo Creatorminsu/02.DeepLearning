{
  "nbformat": 4,
  "nbformat_minor": 0,
  "metadata": {
    "colab": {
      "name": "01.MLP.ipynb",
      "provenance": [],
      "collapsed_sections": []
    },
    "kernelspec": {
      "name": "python3",
      "display_name": "Python 3"
    },
    "language_info": {
      "name": "python"
    }
  },
  "cells": [
    {
      "cell_type": "markdown",
      "source": [
        "## 다층 퍼셉트론 - XOR"
      ],
      "metadata": {
        "id": "YF3Mk5tLEdau"
      }
    },
    {
      "cell_type": "code",
      "source": [
        "import numpy as np"
      ],
      "metadata": {
        "id": "YQWj6gZNEi8S"
      },
      "execution_count": 1,
      "outputs": []
    },
    {
      "cell_type": "code",
      "source": [
        "W1 = np.array([[-2,2], [-2,2]])\n",
        "w11, w12 = W1[:,0], W1[:,1] \n",
        "w11, w12"
      ],
      "metadata": {
        "colab": {
          "base_uri": "https://localhost:8080/"
        },
        "id": "8h6IS-FoHVKQ",
        "outputId": "fa3b9852-7f3d-4db5-f2ce-80fdcc7d9ea6"
      },
      "execution_count": 4,
      "outputs": [
        {
          "output_type": "execute_result",
          "data": {
            "text/plain": [
              "(array([-2, -2]), array([2, 2]))"
            ]
          },
          "metadata": {},
          "execution_count": 4
        }
      ]
    },
    {
      "cell_type": "code",
      "source": [
        "w2 = np.array([1,1])\n",
        "b11, b12 = 3, -1\n",
        "b2 = -1"
      ],
      "metadata": {
        "id": "f9yEhQiFIDU_"
      },
      "execution_count": 5,
      "outputs": []
    },
    {
      "cell_type": "code",
      "source": [
        "# NAND Gate - n1\n",
        "for x1, x2 in [(0,0),(0,1),(1,0),(1,1)]:\n",
        "    sum = w11[0] * x1 + w11[1] * x2 + b11\n",
        "    print(sum)"
      ],
      "metadata": {
        "colab": {
          "base_uri": "https://localhost:8080/"
        },
        "id": "tWJevX14I6bl",
        "outputId": "d64059b8-3f06-483e-e418-f6f2cbbba9f6"
      },
      "execution_count": 6,
      "outputs": [
        {
          "output_type": "stream",
          "name": "stdout",
          "text": [
            "3\n",
            "1\n",
            "1\n",
            "-1\n"
          ]
        }
      ]
    },
    {
      "cell_type": "code",
      "source": [
        "# NAND Gate - n1\n",
        "for x1, x2 in [(0,0),(0,1),(1,0),(1,1)]:\n",
        "    sum = w11[0] * x1 + w11[1] * x2 + b11\n",
        "    print(1 if sum > 0 else 0)"
      ],
      "metadata": {
        "colab": {
          "base_uri": "https://localhost:8080/"
        },
        "id": "kGAS5zGDJ2Ns",
        "outputId": "12621924-2267-48a9-b290-5ce6315e5a66"
      },
      "execution_count": 7,
      "outputs": [
        {
          "output_type": "stream",
          "name": "stdout",
          "text": [
            "1\n",
            "1\n",
            "1\n",
            "0\n"
          ]
        }
      ]
    },
    {
      "cell_type": "code",
      "source": [
        "# OR Gate - n2\n",
        "for x1, x2 in [(0,0), (0,1), (1,0), (1,1)]:\n",
        "    print(perceptron(np.array(x),w12, b12))"
      ],
      "metadata": {
        "colab": {
          "base_uri": "https://localhost:8080/"
        },
        "id": "XviTraevKMPB",
        "outputId": "2f09b41b-e1c4-470d-ff3a-a9bcb7f96ff2"
      },
      "execution_count": 23,
      "outputs": [
        {
          "output_type": "stream",
          "name": "stdout",
          "text": [
            "1\n",
            "1\n",
            "1\n",
            "1\n"
          ]
        }
      ]
    },
    {
      "cell_type": "code",
      "source": [
        "# OR Gate - n2\n",
        "for x1, x2 in [(0,0), (0,1), (1,0), (1,1)]:\n",
        "    sum = w12[0] * x1 + w12[1] * x2 + b12\n",
        "    print(1 if sum > 0 else 0)"
      ],
      "metadata": {
        "colab": {
          "base_uri": "https://localhost:8080/"
        },
        "id": "zxl8PzDTKse7",
        "outputId": "19b43197-7db3-41ef-88a3-52a50b678804"
      },
      "execution_count": 9,
      "outputs": [
        {
          "output_type": "stream",
          "name": "stdout",
          "text": [
            "0\n",
            "1\n",
            "1\n",
            "1\n"
          ]
        }
      ]
    },
    {
      "cell_type": "code",
      "source": [
        "def perceptron(x, w, b):\n",
        "    y = np.sum(w * x) + b\n",
        "    return 1 if y > 0 else 0"
      ],
      "metadata": {
        "id": "aHQFsfGtK0Hl"
      },
      "execution_count": 13,
      "outputs": []
    },
    {
      "cell_type": "code",
      "source": [
        "# NAND 게이트\n",
        "for x1, x2 in [(0,0),(0,1),(1,0),(1,1)]:\n",
        "    x = np.array([x1, x2])\n",
        "    print(perceptron(x, w11, b11))"
      ],
      "metadata": {
        "colab": {
          "base_uri": "https://localhost:8080/"
        },
        "id": "otHa3QeaLc0T",
        "outputId": "f3fa3333-daf3-4e0c-81b1-030a983c3bab"
      },
      "execution_count": 14,
      "outputs": [
        {
          "output_type": "stream",
          "name": "stdout",
          "text": [
            "1\n",
            "1\n",
            "1\n",
            "0\n"
          ]
        }
      ]
    },
    {
      "cell_type": "code",
      "source": [
        "# OR Gate\n",
        "for x in [(0,0),(0,1),(1,0),(1,1)]:\n",
        "    print(perceptron(np.array(x), w12, b12))"
      ],
      "metadata": {
        "colab": {
          "base_uri": "https://localhost:8080/"
        },
        "id": "XkS8lek9Md0G",
        "outputId": "bd24ff91-9ddd-4b85-979d-cdf1814d7248"
      },
      "execution_count": 24,
      "outputs": [
        {
          "output_type": "stream",
          "name": "stdout",
          "text": [
            "0\n",
            "1\n",
            "1\n",
            "1\n"
          ]
        }
      ]
    },
    {
      "cell_type": "code",
      "source": [
        "def nand_gate(x1, x2): \n",
        "    return perceptron(x, w11, b11)\n",
        "\n",
        "def or_gate(x1, x2):\n",
        "    return perceptron(np.array([x1,x2]), w12, b12)\n",
        "\n",
        "def and_gate(x1, x2):\n",
        "    return perceptron(np.array([x1,x2]), w2, b2)"
      ],
      "metadata": {
        "id": "Kf7ONHRdUdi3"
      },
      "execution_count": 25,
      "outputs": []
    },
    {
      "cell_type": "code",
      "source": [
        "for x in [(0,0), (0,1),(1,0),(1,1)]:\n",
        "    ng = nand_gate(*x)\n",
        "    og = or_gate(*x)\n",
        "    xorg = and_gate(ng, og)\n",
        "    print(f'입력값: {x}, 출력값:{xorg}')"
      ],
      "metadata": {
        "colab": {
          "base_uri": "https://localhost:8080/"
        },
        "id": "6jIHNUWHUdsu",
        "outputId": "74353392-767d-4f5f-fd40-d183df28d90e"
      },
      "execution_count": 26,
      "outputs": [
        {
          "output_type": "stream",
          "name": "stdout",
          "text": [
            "입력값: (0, 0), 출력값:0\n",
            "입력값: (0, 1), 출력값:1\n",
            "입력값: (1, 0), 출력값:1\n",
            "입력값: (1, 1), 출력값:0\n"
          ]
        }
      ]
    },
    {
      "cell_type": "code",
      "source": [
        "def xor_gate(x1, x2):\n",
        "    return and_gate(nand_gate(x1, x2), or_gate(x1, x2))"
      ],
      "metadata": {
        "id": "iXOjN8nfUd2K"
      },
      "execution_count": 27,
      "outputs": []
    },
    {
      "cell_type": "code",
      "source": [
        "for x in [(0,0), (0,1),(1,0),(1,1)]:\n",
        "    print(f'입력값:{x}, 출력값:{xor_gate(*x)}')"
      ],
      "metadata": {
        "colab": {
          "base_uri": "https://localhost:8080/"
        },
        "id": "CGhwR_cWWN5i",
        "outputId": "7ca17b92-f0aa-418b-d9b6-68f687f0dd6a"
      },
      "execution_count": 28,
      "outputs": [
        {
          "output_type": "stream",
          "name": "stdout",
          "text": [
            "입력값:(0, 0), 출력값:0\n",
            "입력값:(0, 1), 출력값:1\n",
            "입력값:(1, 0), 출력값:1\n",
            "입력값:(1, 1), 출력값:0\n"
          ]
        }
      ]
    },
    {
      "cell_type": "markdown",
      "source": [
        "- 참고 : 위치형 가변인수, 키워드형 가변인수를 사용할 때\n",
        "- `*args`, `**kwargs` 와 같이 리스트(튜플) 언패킹, 딕셔너리 언패킹을 이용할 수 있음"
      ],
      "metadata": {
        "id": "6-XAdIoTUPvq"
      }
    },
    {
      "cell_type": "code",
      "source": [
        "z = [10, 20, 30]\n",
        "print(z)"
      ],
      "metadata": {
        "colab": {
          "base_uri": "https://localhost:8080/"
        },
        "id": "op3QDBUjNJ71",
        "outputId": "1558892e-1ca8-49e6-d47f-d124e40d3be5"
      },
      "execution_count": 16,
      "outputs": [
        {
          "output_type": "stream",
          "name": "stdout",
          "text": [
            "[10, 20, 30]\n"
          ]
        }
      ]
    },
    {
      "cell_type": "code",
      "source": [
        "# list unpacking\n",
        "print(*z)                   # print(10, 20, 30)"
      ],
      "metadata": {
        "colab": {
          "base_uri": "https://localhost:8080/"
        },
        "id": "hQjAibrCNxnO",
        "outputId": "b2e81111-2410-49fd-cd18-a8ab963b41b6"
      },
      "execution_count": 18,
      "outputs": [
        {
          "output_type": "stream",
          "name": "stdout",
          "text": [
            "10 20 30\n"
          ]
        }
      ]
    },
    {
      "cell_type": "code",
      "source": [
        "# dictionary unpacking\n",
        "d = {'sep':', ', 'end': '#######\\n'}\n",
        "print(d)"
      ],
      "metadata": {
        "colab": {
          "base_uri": "https://localhost:8080/"
        },
        "id": "urIqrSReN0Uj",
        "outputId": "17cc7b76-4bf2-44b3-ccf5-f1032c73e67a"
      },
      "execution_count": 20,
      "outputs": [
        {
          "output_type": "stream",
          "name": "stdout",
          "text": [
            "{'sep': ', ', 'end': '#######\\n'}\n"
          ]
        }
      ]
    },
    {
      "cell_type": "code",
      "source": [
        "print(1, 2, **d)        # print(1, 2, sep=', ', end='########\\n')"
      ],
      "metadata": {
        "colab": {
          "base_uri": "https://localhost:8080/"
        },
        "id": "8G7WTIIBSxDu",
        "outputId": "c3d2a952-2aca-4f40-a1bf-b159f287e4ef"
      },
      "execution_count": 22,
      "outputs": [
        {
          "output_type": "stream",
          "name": "stdout",
          "text": [
            "1, 2#######\n"
          ]
        }
      ]
    },
    {
      "cell_type": "code",
      "source": [
        ""
      ],
      "metadata": {
        "id": "IIx-D9cbTH3P"
      },
      "execution_count": null,
      "outputs": []
    }
  ]
}