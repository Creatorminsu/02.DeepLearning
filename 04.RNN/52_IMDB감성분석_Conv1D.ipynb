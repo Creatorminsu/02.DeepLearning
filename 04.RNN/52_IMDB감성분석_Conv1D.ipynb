{
  "nbformat": 4,
  "nbformat_minor": 0,
  "metadata": {
    "colab": {
      "name": "52_IMDB감성분석_Conv1D.ipynb",
      "provenance": [],
      "collapsed_sections": []
    },
    "kernelspec": {
      "name": "python3",
      "display_name": "Python 3"
    },
    "language_info": {
      "name": "python"
    },
    "accelerator": "GPU"
  },
  "cells": [
    {
      "cell_type": "markdown",
      "source": [
        "# IMDB 영화 리뷰 감성 분석 - Conv1D"
      ],
      "metadata": {
        "id": "gt1wY8OG9ZTL"
      }
    },
    {
      "cell_type": "code",
      "source": [
        "import numpy as np\n",
        "import matplotlib.pyplot as plt\n",
        "from tensorflow.keras.datasets import imdb\n",
        "import warnings\n",
        "warnings.filterwarnings('ignore')"
      ],
      "metadata": {
        "id": "km8E3Xn09twv"
      },
      "execution_count": 1,
      "outputs": []
    },
    {
      "cell_type": "markdown",
      "source": [
        "### Conv1D으로 IMDB 리뷰 감성 분석\n",
        "- 단어 빈도수 : 10,000 (88,584)\n",
        "- 문장의 단어수 : 500 (2,494)\n",
        "- test data중 40%(10,000개)는 검증용으로"
      ],
      "metadata": {
        "id": "SW3ggIMj_Vk-"
      }
    },
    {
      "cell_type": "code",
      "source": [
        "import tensorflow as tf\n",
        "seed = 2022\n",
        "np.random.seed(seed)\n",
        "tf.random.set_seed(seed)"
      ],
      "metadata": {
        "id": "6OXGXNLv_8qX"
      },
      "execution_count": 2,
      "outputs": []
    },
    {
      "cell_type": "code",
      "source": [
        "from tensorflow.keras.models import Sequential, load_model\n",
        "from tensorflow.keras.layers import Embedding, Dense, Dropout\n",
        "from tensorflow.keras.layers import Conv1D, MaxPooling1D, GlobalMaxPooling1D\n",
        "from tensorflow.keras.preprocessing.sequence import pad_sequences\n",
        "from tensorflow.keras.callbacks import ModelCheckpoint, EarlyStopping"
      ],
      "metadata": {
        "id": "yc_VdH7fAqkx"
      },
      "execution_count": 3,
      "outputs": []
    },
    {
      "cell_type": "code",
      "source": [
        "(X_train, y_train), (X_test, y_test) = imdb.load_data(num_words=10000)\n",
        "X_train.shape, X_test.shape, y_train.shape"
      ],
      "metadata": {
        "colab": {
          "base_uri": "https://localhost:8080/"
        },
        "id": "XTCD27PBAsEb",
        "outputId": "056eba10-6902-4c33-815c-6c376fde4769"
      },
      "execution_count": 4,
      "outputs": [
        {
          "output_type": "stream",
          "name": "stdout",
          "text": [
            "Downloading data from https://storage.googleapis.com/tensorflow/tf-keras-datasets/imdb.npz\n",
            "17465344/17464789 [==============================] - 0s 0us/step\n",
            "17473536/17464789 [==============================] - 0s 0us/step\n"
          ]
        },
        {
          "output_type": "execute_result",
          "data": {
            "text/plain": [
              "((25000,), (25000,), (25000,))"
            ]
          },
          "metadata": {},
          "execution_count": 4
        }
      ]
    },
    {
      "cell_type": "code",
      "source": [
        "max_len = 500\n",
        "X_train = pad_sequences(X_train, maxlen=max_len)\n",
        "X_test = pad_sequences(X_test, maxlen=max_len)\n",
        "X_train.shape, X_test.shape"
      ],
      "metadata": {
        "colab": {
          "base_uri": "https://localhost:8080/"
        },
        "id": "FJ8-ih8IA8Ly",
        "outputId": "8e206737-f11d-4af6-ba76-88a18884dcca"
      },
      "execution_count": 5,
      "outputs": [
        {
          "output_type": "execute_result",
          "data": {
            "text/plain": [
              "((25000, 500), (25000, 500))"
            ]
          },
          "metadata": {},
          "execution_count": 5
        }
      ]
    },
    {
      "cell_type": "code",
      "source": [
        "from sklearn.model_selection import train_test_split\n",
        "X_test, X_valid, y_test, y_valid = train_test_split(\n",
        "    X_test, y_test, stratify=y_test, test_size=0.4, random_state=seed\n",
        ")\n",
        "X_test.shape, X_valid.shape, y_test.shape, y_valid.shape"
      ],
      "metadata": {
        "colab": {
          "base_uri": "https://localhost:8080/"
        },
        "id": "1fkWQmHyC9Ux",
        "outputId": "3aaf6160-2f47-428f-f39b-874f5d1f1ab6"
      },
      "execution_count": 6,
      "outputs": [
        {
          "output_type": "execute_result",
          "data": {
            "text/plain": [
              "((15000, 500), (10000, 500), (15000,), (10000,))"
            ]
          },
          "metadata": {},
          "execution_count": 6
        }
      ]
    },
    {
      "cell_type": "markdown",
      "source": [
        "- Case 1) Conv1D x 2, Maxpooling1D x 2, Dropout, GlobalMaxPooling1D\n",
        "    - embedding dim : 100"
      ],
      "metadata": {
        "id": "6ERCL17DBge6"
      }
    },
    {
      "cell_type": "code",
      "source": [
        "model1 = Sequential([\n",
        "    Embedding(10000, 100, input_length=max_len),\n",
        "    Dropout(0.5),\n",
        "    Conv1D(64, 7, activation='relu'),\n",
        "    MaxPooling1D(7),\n",
        "    Conv1D(64, 5, activation='relu'),\n",
        "    MaxPooling1D(5),\n",
        "    GlobalMaxPooling1D(),\n",
        "    Dense(1, activation='sigmoid')\n",
        "])\n",
        "model1.summary()"
      ],
      "metadata": {
        "colab": {
          "base_uri": "https://localhost:8080/"
        },
        "id": "0P0qP__mBsLO",
        "outputId": "9d2a68b0-1580-4569-f5da-e3423904e019"
      },
      "execution_count": 7,
      "outputs": [
        {
          "output_type": "stream",
          "name": "stdout",
          "text": [
            "Model: \"sequential\"\n",
            "_________________________________________________________________\n",
            " Layer (type)                Output Shape              Param #   \n",
            "=================================================================\n",
            " embedding (Embedding)       (None, 500, 100)          1000000   \n",
            "                                                                 \n",
            " dropout (Dropout)           (None, 500, 100)          0         \n",
            "                                                                 \n",
            " conv1d (Conv1D)             (None, 494, 64)           44864     \n",
            "                                                                 \n",
            " max_pooling1d (MaxPooling1D  (None, 70, 64)           0         \n",
            " )                                                               \n",
            "                                                                 \n",
            " conv1d_1 (Conv1D)           (None, 66, 64)            20544     \n",
            "                                                                 \n",
            " max_pooling1d_1 (MaxPooling  (None, 13, 64)           0         \n",
            " 1D)                                                             \n",
            "                                                                 \n",
            " global_max_pooling1d (Globa  (None, 64)               0         \n",
            " lMaxPooling1D)                                                  \n",
            "                                                                 \n",
            " dense (Dense)               (None, 1)                 65        \n",
            "                                                                 \n",
            "=================================================================\n",
            "Total params: 1,065,473\n",
            "Trainable params: 1,065,473\n",
            "Non-trainable params: 0\n",
            "_________________________________________________________________\n"
          ]
        }
      ]
    },
    {
      "cell_type": "code",
      "source": [
        "model1.compile('adam', 'binary_crossentropy', ['accuracy'])\n",
        "\n",
        "model_path = 'best-imdb-conv1d.h5'\n",
        "mc = ModelCheckpoint(model_path, save_best_only=True, verbose=1)\n",
        "es = EarlyStopping(patience=5)"
      ],
      "metadata": {
        "id": "imD91s03CMwC"
      },
      "execution_count": 8,
      "outputs": []
    },
    {
      "cell_type": "code",
      "source": [
        "hist1 = model1.fit(\n",
        "    X_train, y_train, epochs=30, batch_size=128, \n",
        "    validation_data=[X_valid, y_valid],\n",
        "    callbacks=[mc,es]\n",
        ")"
      ],
      "metadata": {
        "colab": {
          "base_uri": "https://localhost:8080/"
        },
        "id": "rE4ZFzrlCid0",
        "outputId": "90304aa6-b51a-4458-96b9-df19e7fdfa65"
      },
      "execution_count": 9,
      "outputs": [
        {
          "output_type": "stream",
          "name": "stdout",
          "text": [
            "Epoch 1/30\n",
            "196/196 [==============================] - ETA: 0s - loss: 0.5406 - accuracy: 0.6987\n",
            "Epoch 00001: val_loss improved from inf to 0.35337, saving model to best-imdb-conv1d.h5\n",
            "196/196 [==============================] - 18s 20ms/step - loss: 0.5406 - accuracy: 0.6987 - val_loss: 0.3534 - val_accuracy: 0.8435\n",
            "Epoch 2/30\n",
            "195/196 [============================>.] - ETA: 0s - loss: 0.2811 - accuracy: 0.8863\n",
            "Epoch 00002: val_loss improved from 0.35337 to 0.32015, saving model to best-imdb-conv1d.h5\n",
            "196/196 [==============================] - 4s 19ms/step - loss: 0.2811 - accuracy: 0.8862 - val_loss: 0.3202 - val_accuracy: 0.8626\n",
            "Epoch 3/30\n",
            "195/196 [============================>.] - ETA: 0s - loss: 0.2068 - accuracy: 0.9205\n",
            "Epoch 00003: val_loss did not improve from 0.32015\n",
            "196/196 [==============================] - 3s 17ms/step - loss: 0.2068 - accuracy: 0.9205 - val_loss: 0.3346 - val_accuracy: 0.8615\n",
            "Epoch 4/30\n",
            "194/196 [============================>.] - ETA: 0s - loss: 0.1549 - accuracy: 0.9417\n",
            "Epoch 00004: val_loss did not improve from 0.32015\n",
            "196/196 [==============================] - 4s 18ms/step - loss: 0.1548 - accuracy: 0.9418 - val_loss: 0.3682 - val_accuracy: 0.8557\n",
            "Epoch 5/30\n",
            "193/196 [============================>.] - ETA: 0s - loss: 0.1183 - accuracy: 0.9561\n",
            "Epoch 00005: val_loss did not improve from 0.32015\n",
            "196/196 [==============================] - 3s 17ms/step - loss: 0.1185 - accuracy: 0.9561 - val_loss: 0.4459 - val_accuracy: 0.8487\n",
            "Epoch 6/30\n",
            "195/196 [============================>.] - ETA: 0s - loss: 0.0870 - accuracy: 0.9691\n",
            "Epoch 00006: val_loss did not improve from 0.32015\n",
            "196/196 [==============================] - 3s 17ms/step - loss: 0.0872 - accuracy: 0.9690 - val_loss: 0.4833 - val_accuracy: 0.8502\n",
            "Epoch 7/30\n",
            "193/196 [============================>.] - ETA: 0s - loss: 0.0660 - accuracy: 0.9771\n",
            "Epoch 00007: val_loss did not improve from 0.32015\n",
            "196/196 [==============================] - 4s 19ms/step - loss: 0.0659 - accuracy: 0.9771 - val_loss: 0.5334 - val_accuracy: 0.8492\n"
          ]
        }
      ]
    },
    {
      "cell_type": "code",
      "source": [
        "best_model = load_model(model_path)\n",
        "best_model.evaluate(X_test, y_test)"
      ],
      "metadata": {
        "colab": {
          "base_uri": "https://localhost:8080/"
        },
        "id": "oel4gSBkDxvD",
        "outputId": "ebd975b8-9f31-41e9-8d39-03ceff95e43f"
      },
      "execution_count": null,
      "outputs": [
        {
          "output_type": "stream",
          "name": "stdout",
          "text": [
            "469/469 [==============================] - 18s 38ms/step - loss: 0.0000e+00 - accuracy: 0.5000\n"
          ]
        },
        {
          "output_type": "execute_result",
          "data": {
            "text/plain": [
              "[0.0, 0.5]"
            ]
          },
          "metadata": {},
          "execution_count": 12
        }
      ]
    },
    {
      "cell_type": "markdown",
      "source": [
        "- Case 2) Conv1D + LSTM"
      ],
      "metadata": {
        "id": "AQB7psxAoApi"
      }
    },
    {
      "cell_type": "code",
      "source": [
        "from tensorflow.keras.layers import LSTM"
      ],
      "metadata": {
        "id": "8dyV5kSFGFrL"
      },
      "execution_count": 10,
      "outputs": []
    },
    {
      "cell_type": "code",
      "source": [
        "model2 = Sequential([\n",
        "    Embedding(10000, 100, input_length=max_len),\n",
        "    Dropout(0.5),\n",
        "    Conv1D(64, 5, activation='relu'),\n",
        "    MaxPooling1D(4),\n",
        "    LSTM(100),\n",
        "    Dense(1, activation='sigmoid')\n",
        "])\n",
        "model2.summary()"
      ],
      "metadata": {
        "colab": {
          "base_uri": "https://localhost:8080/"
        },
        "id": "9s7jQLEloNTC",
        "outputId": "3c1d74dc-9b8f-4a3d-ea08-cf7d4ede520d"
      },
      "execution_count": 12,
      "outputs": [
        {
          "output_type": "stream",
          "name": "stdout",
          "text": [
            "Model: \"sequential_2\"\n",
            "_________________________________________________________________\n",
            " Layer (type)                Output Shape              Param #   \n",
            "=================================================================\n",
            " embedding_2 (Embedding)     (None, 500, 100)          1000000   \n",
            "                                                                 \n",
            " dropout_2 (Dropout)         (None, 500, 100)          0         \n",
            "                                                                 \n",
            " conv1d_3 (Conv1D)           (None, 494, 64)           44864     \n",
            "                                                                 \n",
            " max_pooling1d_3 (MaxPooling  (None, 123, 64)          0         \n",
            " 1D)                                                             \n",
            "                                                                 \n",
            " lstm_1 (LSTM)               (None, 100)               66000     \n",
            "                                                                 \n",
            " dense_2 (Dense)             (None, 1)                 101       \n",
            "                                                                 \n",
            "=================================================================\n",
            "Total params: 1,110,965\n",
            "Trainable params: 1,110,965\n",
            "Non-trainable params: 0\n",
            "_________________________________________________________________\n"
          ]
        }
      ]
    },
    {
      "cell_type": "code",
      "source": [
        "model2.compile('adam', 'binary_crossentropy', ['accuracy'])\n",
        "\n",
        "model_path = 'best-imdb-conv1d-lstm.h5'\n",
        "mc = ModelCheckpoint(model_path, save_best_only=True, verbose=1)\n",
        "es = EarlyStopping(patience=5)"
      ],
      "metadata": {
        "id": "-QwaCIB3ojSF"
      },
      "execution_count": 13,
      "outputs": []
    },
    {
      "cell_type": "code",
      "source": [
        "hist2 = model2.fit(\n",
        "    X_train, y_train, epochs=30, batch_size=128, \n",
        "    validation_data=[X_valid, y_valid],\n",
        "    callbacks=[mc,es]\n",
        ")"
      ],
      "metadata": {
        "colab": {
          "base_uri": "https://localhost:8080/"
        },
        "id": "0rk_TgYNotQm",
        "outputId": "5c42f9b5-7987-461a-9ff6-b59ac06722f7"
      },
      "execution_count": 14,
      "outputs": [
        {
          "output_type": "stream",
          "name": "stdout",
          "text": [
            "Epoch 1/30\n",
            "196/196 [==============================] - ETA: 0s - loss: 0.4399 - accuracy: 0.7742\n",
            "Epoch 00001: val_loss improved from inf to 0.31025, saving model to best-imdb-conv1d-lstm.h5\n",
            "196/196 [==============================] - 11s 30ms/step - loss: 0.4399 - accuracy: 0.7742 - val_loss: 0.3102 - val_accuracy: 0.8662\n",
            "Epoch 2/30\n",
            "195/196 [============================>.] - ETA: 0s - loss: 0.2275 - accuracy: 0.9125\n",
            "Epoch 00002: val_loss did not improve from 0.31025\n",
            "196/196 [==============================] - 5s 26ms/step - loss: 0.2275 - accuracy: 0.9126 - val_loss: 0.3148 - val_accuracy: 0.8634\n",
            "Epoch 3/30\n",
            "194/196 [============================>.] - ETA: 0s - loss: 0.1700 - accuracy: 0.9378\n",
            "Epoch 00003: val_loss did not improve from 0.31025\n",
            "196/196 [==============================] - 5s 25ms/step - loss: 0.1703 - accuracy: 0.9377 - val_loss: 0.3462 - val_accuracy: 0.8704\n",
            "Epoch 4/30\n",
            "194/196 [============================>.] - ETA: 0s - loss: 0.1313 - accuracy: 0.9530\n",
            "Epoch 00004: val_loss did not improve from 0.31025\n",
            "196/196 [==============================] - 5s 26ms/step - loss: 0.1310 - accuracy: 0.9530 - val_loss: 0.3353 - val_accuracy: 0.8574\n",
            "Epoch 5/30\n",
            "196/196 [==============================] - ETA: 0s - loss: 0.1042 - accuracy: 0.9648\n",
            "Epoch 00005: val_loss did not improve from 0.31025\n",
            "196/196 [==============================] - 5s 25ms/step - loss: 0.1042 - accuracy: 0.9648 - val_loss: 0.3774 - val_accuracy: 0.8674\n",
            "Epoch 6/30\n",
            "196/196 [==============================] - ETA: 0s - loss: 0.0868 - accuracy: 0.9716\n",
            "Epoch 00006: val_loss did not improve from 0.31025\n",
            "196/196 [==============================] - 5s 25ms/step - loss: 0.0868 - accuracy: 0.9716 - val_loss: 0.4022 - val_accuracy: 0.8641\n"
          ]
        }
      ]
    },
    {
      "cell_type": "code",
      "source": [
        "best_model = load_model(model_path)\n",
        "best_model.evaluate(X_test, y_test)"
      ],
      "metadata": {
        "colab": {
          "base_uri": "https://localhost:8080/"
        },
        "id": "o-EZURBApJsx",
        "outputId": "e054d84b-db90-42ef-b5c4-4a80f462d569"
      },
      "execution_count": 16,
      "outputs": [
        {
          "output_type": "stream",
          "name": "stdout",
          "text": [
            "469/469 [==============================] - 4s 8ms/step - loss: 0.3108 - accuracy: 0.8676\n"
          ]
        },
        {
          "output_type": "execute_result",
          "data": {
            "text/plain": [
              "[0.31077826023101807, 0.8676000237464905]"
            ]
          },
          "metadata": {},
          "execution_count": 16
        }
      ]
    },
    {
      "cell_type": "markdown",
      "source": [
        "- Case 3) Conv1D + Dense"
      ],
      "metadata": {
        "id": "OsaWqexipaoZ"
      }
    },
    {
      "cell_type": "code",
      "source": [
        "model3 = Sequential([\n",
        "    Embedding(10000, 100, input_length=max_len),\n",
        "    Dropout(0.5),\n",
        "    Conv1D(64, 5, activation='relu'),\n",
        "    MaxPooling1D(4),\n",
        "    GlobalMaxPooling1D(),\n",
        "    Dense(100,activation='relu'),\n",
        "    Dense(1, activation='sigmoid')\n",
        "])\n",
        "model3.summary()"
      ],
      "metadata": {
        "colab": {
          "base_uri": "https://localhost:8080/"
        },
        "id": "1HCNH7skphzG",
        "outputId": "722d6f03-7c9b-40b2-83cc-1b914139caaf"
      },
      "execution_count": 19,
      "outputs": [
        {
          "output_type": "stream",
          "name": "stdout",
          "text": [
            "Model: \"sequential_5\"\n",
            "_________________________________________________________________\n",
            " Layer (type)                Output Shape              Param #   \n",
            "=================================================================\n",
            " embedding_5 (Embedding)     (None, 500, 100)          1000000   \n",
            "                                                                 \n",
            " dropout_5 (Dropout)         (None, 500, 100)          0         \n",
            "                                                                 \n",
            " conv1d_6 (Conv1D)           (None, 496, 64)           32064     \n",
            "                                                                 \n",
            " max_pooling1d_6 (MaxPooling  (None, 124, 64)          0         \n",
            " 1D)                                                             \n",
            "                                                                 \n",
            " global_max_pooling1d_3 (Glo  (None, 64)               0         \n",
            " balMaxPooling1D)                                                \n",
            "                                                                 \n",
            " dense_7 (Dense)             (None, 100)               6500      \n",
            "                                                                 \n",
            " dense_8 (Dense)             (None, 1)                 101       \n",
            "                                                                 \n",
            "=================================================================\n",
            "Total params: 1,038,665\n",
            "Trainable params: 1,038,665\n",
            "Non-trainable params: 0\n",
            "_________________________________________________________________\n"
          ]
        }
      ]
    },
    {
      "cell_type": "code",
      "source": [
        "model3.compile('adam', 'binary_crossentropy', ['accuracy'])\n",
        "\n",
        "model_path = 'best-imdb-conv1d-fcn.h5'\n",
        "mc = ModelCheckpoint(model_path, save_best_only=True, verbose=1)\n",
        "es = EarlyStopping(patience=5)"
      ],
      "metadata": {
        "id": "w6HODtEip4iF"
      },
      "execution_count": 20,
      "outputs": []
    },
    {
      "cell_type": "code",
      "source": [
        "hist3 = model3.fit(\n",
        "    X_train, y_train, epochs=30, batch_size=128, \n",
        "    validation_data=[X_valid, y_valid],\n",
        "    callbacks=[mc,es]\n",
        ")"
      ],
      "metadata": {
        "colab": {
          "base_uri": "https://localhost:8080/"
        },
        "id": "QIC1CBIgqK2T",
        "outputId": "8785936c-1537-44a7-d9ec-159be1210e18"
      },
      "execution_count": 21,
      "outputs": [
        {
          "output_type": "stream",
          "name": "stdout",
          "text": [
            "Epoch 1/30\n",
            "196/196 [==============================] - ETA: 0s - loss: 0.5784 - accuracy: 0.6700\n",
            "Epoch 00001: val_loss improved from inf to 0.36527, saving model to best-imdb-conv1d-fcn.h5\n",
            "196/196 [==============================] - 6s 22ms/step - loss: 0.5784 - accuracy: 0.6700 - val_loss: 0.3653 - val_accuracy: 0.8360\n",
            "Epoch 2/30\n",
            "194/196 [============================>.] - ETA: 0s - loss: 0.2971 - accuracy: 0.8767\n",
            "Epoch 00002: val_loss improved from 0.36527 to 0.27278, saving model to best-imdb-conv1d-fcn.h5\n",
            "196/196 [==============================] - 4s 19ms/step - loss: 0.2969 - accuracy: 0.8768 - val_loss: 0.2728 - val_accuracy: 0.8872\n",
            "Epoch 3/30\n",
            "195/196 [============================>.] - ETA: 0s - loss: 0.2083 - accuracy: 0.9190\n",
            "Epoch 00003: val_loss improved from 0.27278 to 0.26375, saving model to best-imdb-conv1d-fcn.h5\n",
            "196/196 [==============================] - 4s 20ms/step - loss: 0.2086 - accuracy: 0.9189 - val_loss: 0.2637 - val_accuracy: 0.8926\n",
            "Epoch 4/30\n",
            "193/196 [============================>.] - ETA: 0s - loss: 0.1524 - accuracy: 0.9436\n",
            "Epoch 00004: val_loss did not improve from 0.26375\n",
            "196/196 [==============================] - 3s 17ms/step - loss: 0.1520 - accuracy: 0.9437 - val_loss: 0.2737 - val_accuracy: 0.8909\n",
            "Epoch 5/30\n",
            "196/196 [==============================] - ETA: 0s - loss: 0.1068 - accuracy: 0.9630\n",
            "Epoch 00005: val_loss did not improve from 0.26375\n",
            "196/196 [==============================] - 4s 19ms/step - loss: 0.1068 - accuracy: 0.9630 - val_loss: 0.3031 - val_accuracy: 0.8901\n",
            "Epoch 6/30\n",
            "196/196 [==============================] - ETA: 0s - loss: 0.0771 - accuracy: 0.9744\n",
            "Epoch 00006: val_loss did not improve from 0.26375\n",
            "196/196 [==============================] - 3s 16ms/step - loss: 0.0771 - accuracy: 0.9744 - val_loss: 0.3247 - val_accuracy: 0.8940\n",
            "Epoch 7/30\n",
            "194/196 [============================>.] - ETA: 0s - loss: 0.0601 - accuracy: 0.9799\n",
            "Epoch 00007: val_loss did not improve from 0.26375\n",
            "196/196 [==============================] - 3s 17ms/step - loss: 0.0600 - accuracy: 0.9799 - val_loss: 0.3425 - val_accuracy: 0.8904\n",
            "Epoch 8/30\n",
            "194/196 [============================>.] - ETA: 0s - loss: 0.0455 - accuracy: 0.9848\n",
            "Epoch 00008: val_loss did not improve from 0.26375\n",
            "196/196 [==============================] - 3s 17ms/step - loss: 0.0459 - accuracy: 0.9847 - val_loss: 0.3730 - val_accuracy: 0.8879\n"
          ]
        }
      ]
    },
    {
      "cell_type": "code",
      "source": [
        "best_model = load_model(model_path)\n",
        "best_model.evaluate(X_test, y_test)"
      ],
      "metadata": {
        "colab": {
          "base_uri": "https://localhost:8080/"
        },
        "id": "DRJH4HT1qN7q",
        "outputId": "ffdda72b-c65e-48a2-fb5e-8ee5b3344c8c"
      },
      "execution_count": 22,
      "outputs": [
        {
          "output_type": "stream",
          "name": "stdout",
          "text": [
            "469/469 [==============================] - 2s 4ms/step - loss: 0.2682 - accuracy: 0.8901\n"
          ]
        },
        {
          "output_type": "execute_result",
          "data": {
            "text/plain": [
              "[0.26820850372314453, 0.8900666832923889]"
            ]
          },
          "metadata": {},
          "execution_count": 22
        }
      ]
    },
    {
      "cell_type": "code",
      "source": [
        ""
      ],
      "metadata": {
        "id": "Gc8paxz5qdNy"
      },
      "execution_count": null,
      "outputs": []
    }
  ]
}