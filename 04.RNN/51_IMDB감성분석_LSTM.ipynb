{
  "nbformat": 4,
  "nbformat_minor": 0,
  "metadata": {
    "colab": {
      "name": "51.IMDB감성분석-LSTM.ipynb",
      "provenance": [],
      "collapsed_sections": []
    },
    "kernelspec": {
      "name": "python3",
      "display_name": "Python 3"
    },
    "language_info": {
      "name": "python"
    },
    "accelerator": "GPU"
  },
  "cells": [
    {
      "cell_type": "markdown",
      "source": [
        "# IMDB 영화 리뷰 감성 분석 - LSTM"
      ],
      "metadata": {
        "id": "gt1wY8OG9ZTL"
      }
    },
    {
      "cell_type": "code",
      "source": [
        "import numpy as np\n",
        "import matplotlib.pyplot as plt\n",
        "from tensorflow.keras.datasets import imdb\n",
        "import warnings\n",
        "warnings.filterwarnings('ignore')"
      ],
      "metadata": {
        "id": "km8E3Xn09twv"
      },
      "execution_count": 1,
      "outputs": []
    },
    {
      "cell_type": "code",
      "source": [
        "(X_train, y_train), (X_test, y_test) = imdb.load_data()\n",
        "X_train.shape, X_test.shape, y_train.shape"
      ],
      "metadata": {
        "colab": {
          "base_uri": "https://localhost:8080/"
        },
        "id": "fbgW4kuu-FOs",
        "outputId": "c29c5b17-0202-46a5-b190-84627805b3c6"
      },
      "execution_count": 2,
      "outputs": [
        {
          "output_type": "stream",
          "name": "stdout",
          "text": [
            "Downloading data from https://storage.googleapis.com/tensorflow/tf-keras-datasets/imdb.npz\n",
            "17465344/17464789 [==============================] - 0s 0us/step\n",
            "17473536/17464789 [==============================] - 0s 0us/step\n"
          ]
        },
        {
          "output_type": "execute_result",
          "data": {
            "text/plain": [
              "((25000,), (25000,), (25000,))"
            ]
          },
          "metadata": {},
          "execution_count": 2
        }
      ]
    },
    {
      "cell_type": "code",
      "source": [
        "print('등장한 단어수', len(imdb.get_word_index()))\n",
        "print('리뷰 최대 길이', max(len(s) for s in X_train))\n",
        "print('리뷰 평균 길이', sum(map(len, X_train)) / len(X_train))"
      ],
      "metadata": {
        "colab": {
          "base_uri": "https://localhost:8080/"
        },
        "id": "H0tugong-ipJ",
        "outputId": "d5b33bf5-8d8c-4074-a03b-6133848d354f"
      },
      "execution_count": 3,
      "outputs": [
        {
          "output_type": "stream",
          "name": "stdout",
          "text": [
            "Downloading data from https://storage.googleapis.com/tensorflow/tf-keras-datasets/imdb_word_index.json\n",
            "1646592/1641221 [==============================] - 0s 0us/step\n",
            "1654784/1641221 [==============================] - 0s 0us/step\n",
            "등장한 단어수 88584\n",
            "리뷰 최대 길이 2494\n",
            "리뷰 평균 길이 238.71364\n"
          ]
        }
      ]
    },
    {
      "cell_type": "markdown",
      "source": [
        "### LSTM으로 IMDB 리뷰 감성 분석\n",
        "- 단어 빈도수 : 10,000 (88,584)\n",
        "- 문장의 단어수 : 500 (2,494)\n",
        "- test data중 40%(10,000개)는 검증용으로"
      ],
      "metadata": {
        "id": "SW3ggIMj_Vk-"
      }
    },
    {
      "cell_type": "code",
      "source": [
        "import tensorflow as tf\n",
        "seed = 2022\n",
        "np.random.seed(seed)\n",
        "tf.random.set_seed(seed)"
      ],
      "metadata": {
        "id": "6OXGXNLv_8qX"
      },
      "execution_count": 4,
      "outputs": []
    },
    {
      "cell_type": "code",
      "source": [
        "from tensorflow.keras.models import Sequential, load_model\n",
        "from tensorflow.keras.layers import Embedding, LSTM, Dense\n",
        "from tensorflow.keras.preprocessing.sequence import pad_sequences\n",
        "from tensorflow.keras.callbacks import ModelCheckpoint, EarlyStopping"
      ],
      "metadata": {
        "id": "yc_VdH7fAqkx"
      },
      "execution_count": 5,
      "outputs": []
    },
    {
      "cell_type": "code",
      "source": [
        "(X_train, y_train), (X_test, y_test) = imdb.load_data(num_words=10000)\n",
        "X_train.shape, X_test.shape, y_train.shape"
      ],
      "metadata": {
        "colab": {
          "base_uri": "https://localhost:8080/"
        },
        "id": "XTCD27PBAsEb",
        "outputId": "9addebd9-6fc3-446e-e67e-3ad515cdd814"
      },
      "execution_count": 6,
      "outputs": [
        {
          "output_type": "execute_result",
          "data": {
            "text/plain": [
              "((25000,), (25000,), (25000,))"
            ]
          },
          "metadata": {},
          "execution_count": 6
        }
      ]
    },
    {
      "cell_type": "code",
      "source": [
        "max_len = 500\n",
        "X_train = pad_sequences(X_train, maxlen=max_len)\n",
        "X_test = pad_sequences(X_test, maxlen=max_len)\n",
        "X_train.shape, X_test.shape"
      ],
      "metadata": {
        "colab": {
          "base_uri": "https://localhost:8080/"
        },
        "id": "FJ8-ih8IA8Ly",
        "outputId": "e9d723c2-74f6-4db8-d8a6-6db8ad7cc753"
      },
      "execution_count": 7,
      "outputs": [
        {
          "output_type": "execute_result",
          "data": {
            "text/plain": [
              "((25000, 500), (25000, 500))"
            ]
          },
          "metadata": {},
          "execution_count": 7
        }
      ]
    },
    {
      "cell_type": "code",
      "source": [
        "from sklearn.model_selection import train_test_split\n",
        "X_test, X_valid, y_test, y_valid = train_test_split(\n",
        "    X_test, y_test, stratify=y_test, test_size=0.4, random_state=seed\n",
        ")\n",
        "X_test.shape, X_valid.shape, y_test.shape, y_valid.shape"
      ],
      "metadata": {
        "colab": {
          "base_uri": "https://localhost:8080/"
        },
        "id": "1fkWQmHyC9Ux",
        "outputId": "94bd10d0-132d-4180-97a9-85c0dcd6fcbe"
      },
      "execution_count": 8,
      "outputs": [
        {
          "output_type": "execute_result",
          "data": {
            "text/plain": [
              "((15000, 500), (10000, 500), (15000,), (10000,))"
            ]
          },
          "metadata": {},
          "execution_count": 8
        }
      ]
    },
    {
      "cell_type": "markdown",
      "source": [
        "- Case 1) LSTM\n",
        "    - embedding dim : 100\n",
        "    - hidden_units : 128"
      ],
      "metadata": {
        "id": "6ERCL17DBge6"
      }
    },
    {
      "cell_type": "code",
      "source": [
        "model1 = Sequential([\n",
        "    Embedding(10000, 100, input_length=max_len),\n",
        "    LSTM(128),\n",
        "    Dense(1, activation='sigmoid')\n",
        "])\n",
        "model1.summary()"
      ],
      "metadata": {
        "colab": {
          "base_uri": "https://localhost:8080/"
        },
        "id": "0P0qP__mBsLO",
        "outputId": "a99f3dea-5621-4929-845c-6070c378f90b"
      },
      "execution_count": 9,
      "outputs": [
        {
          "output_type": "stream",
          "name": "stdout",
          "text": [
            "Model: \"sequential\"\n",
            "_________________________________________________________________\n",
            " Layer (type)                Output Shape              Param #   \n",
            "=================================================================\n",
            " embedding (Embedding)       (None, 500, 100)          1000000   \n",
            "                                                                 \n",
            " lstm (LSTM)                 (None, 128)               117248    \n",
            "                                                                 \n",
            " dense (Dense)               (None, 1)                 129       \n",
            "                                                                 \n",
            "=================================================================\n",
            "Total params: 1,117,377\n",
            "Trainable params: 1,117,377\n",
            "Non-trainable params: 0\n",
            "_________________________________________________________________\n"
          ]
        }
      ]
    },
    {
      "cell_type": "code",
      "source": [
        "model1.compile('adam', 'binary_crossentropy', ['accuracy'])\n",
        "\n",
        "model_path = 'best-imdb-lstm.h5'\n",
        "mc = ModelCheckpoint(model_path, save_best_only=True, verbose=1)\n",
        "es = EarlyStopping(patience=5)"
      ],
      "metadata": {
        "id": "imD91s03CMwC"
      },
      "execution_count": 13,
      "outputs": []
    },
    {
      "cell_type": "code",
      "source": [
        "hist1 = model1.fit(\n",
        "    X_train, y_train, epochs=30, batch_size=64, \n",
        "    validation_data=[X_valid, y_valid],\n",
        "    callbacks=[mc,es]\n",
        ")"
      ],
      "metadata": {
        "colab": {
          "base_uri": "https://localhost:8080/"
        },
        "id": "rE4ZFzrlCid0",
        "outputId": "3655b397-a132-4446-dbb0-936cb8b8730b"
      },
      "execution_count": 14,
      "outputs": [
        {
          "output_type": "stream",
          "name": "stdout",
          "text": [
            "Epoch 1/30\n",
            "391/391 [==============================] - ETA: 0s - loss: 23.1836 - accuracy: 0.6062\n",
            "Epoch 00001: val_loss improved from inf to 0.59912, saving model to best-imdb-lstm.h5\n",
            "391/391 [==============================] - 43s 104ms/step - loss: 23.1836 - accuracy: 0.6062 - val_loss: 0.5991 - val_accuracy: 0.6687\n",
            "Epoch 2/30\n",
            "391/391 [==============================] - ETA: 0s - loss: 0.4466 - accuracy: 0.7908\n",
            "Epoch 00002: val_loss improved from 0.59912 to 0.51360, saving model to best-imdb-lstm.h5\n",
            "391/391 [==============================] - 39s 101ms/step - loss: 0.4466 - accuracy: 0.7908 - val_loss: 0.5136 - val_accuracy: 0.7637\n",
            "Epoch 3/30\n",
            "391/391 [==============================] - ETA: 0s - loss: 0.2538 - accuracy: 0.8956\n",
            "Epoch 00003: val_loss improved from 0.51360 to 0.43580, saving model to best-imdb-lstm.h5\n",
            "391/391 [==============================] - 39s 101ms/step - loss: 0.2538 - accuracy: 0.8956 - val_loss: 0.4358 - val_accuracy: 0.8262\n",
            "Epoch 4/30\n",
            "391/391 [==============================] - ETA: 0s - loss: 0.1440 - accuracy: 0.9451\n",
            "Epoch 00004: val_loss did not improve from 0.43580\n",
            "391/391 [==============================] - 39s 101ms/step - loss: 0.1440 - accuracy: 0.9451 - val_loss: 0.5640 - val_accuracy: 0.7948\n",
            "Epoch 5/30\n",
            "391/391 [==============================] - ETA: 0s - loss: 0.0833 - accuracy: 0.9700\n",
            "Epoch 00005: val_loss did not improve from 0.43580\n",
            "391/391 [==============================] - 39s 100ms/step - loss: 0.0833 - accuracy: 0.9700 - val_loss: 0.6620 - val_accuracy: 0.8163\n",
            "Epoch 6/30\n",
            "391/391 [==============================] - ETA: 0s - loss: 0.0491 - accuracy: 0.9836\n",
            "Epoch 00006: val_loss did not improve from 0.43580\n",
            "391/391 [==============================] - 39s 99ms/step - loss: 0.0491 - accuracy: 0.9836 - val_loss: 0.7327 - val_accuracy: 0.8287\n",
            "Epoch 7/30\n",
            "391/391 [==============================] - ETA: 0s - loss: 0.0360 - accuracy: 0.9876\n",
            "Epoch 00007: val_loss did not improve from 0.43580\n",
            "391/391 [==============================] - 39s 99ms/step - loss: 0.0360 - accuracy: 0.9876 - val_loss: 0.8148 - val_accuracy: 0.8168\n",
            "Epoch 8/30\n",
            "391/391 [==============================] - ETA: 0s - loss: 0.0462 - accuracy: 0.9843\n",
            "Epoch 00008: val_loss did not improve from 0.43580\n",
            "391/391 [==============================] - 39s 100ms/step - loss: 0.0462 - accuracy: 0.9843 - val_loss: 0.8777 - val_accuracy: 0.8203\n"
          ]
        }
      ]
    },
    {
      "cell_type": "code",
      "source": [
        "best_model = load_model(model_path)\n",
        "best_model.evaluate(X_test, y_test)"
      ],
      "metadata": {
        "colab": {
          "base_uri": "https://localhost:8080/"
        },
        "id": "oel4gSBkDxvD",
        "outputId": "ebd975b8-9f31-41e9-8d39-03ceff95e43f"
      },
      "execution_count": 12,
      "outputs": [
        {
          "output_type": "stream",
          "name": "stdout",
          "text": [
            "469/469 [==============================] - 18s 38ms/step - loss: 0.0000e+00 - accuracy: 0.5000\n"
          ]
        },
        {
          "output_type": "execute_result",
          "data": {
            "text/plain": [
              "[0.0, 0.5]"
            ]
          },
          "metadata": {},
          "execution_count": 12
        }
      ]
    },
    {
      "cell_type": "code",
      "source": [
        ""
      ],
      "metadata": {
        "id": "8dyV5kSFGFrL"
      },
      "execution_count": null,
      "outputs": []
    }
  ]
}