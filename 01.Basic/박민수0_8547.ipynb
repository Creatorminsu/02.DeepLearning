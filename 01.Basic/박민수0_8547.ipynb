{
  "cells": [
    {
      "cell_type": "code",
      "execution_count": 3,
      "metadata": {
        "id": "7KoUdEbcR0RH"
      },
      "outputs": [],
      "source": [
        "import numpy as np\n",
        "import pandas as pd\n",
        "import seaborn as sns\n",
        "import matplotlib.pyplot as plt\n",
        "import tensorflow as tf\n",
        "dataset_names = sns.get_dataset_names()"
      ]
    },
    {
      "cell_type": "code",
      "execution_count": 4,
      "metadata": {
        "id": "gkMi0Y8fS3WF"
      },
      "outputs": [],
      "source": [
        "seed = 2022\n",
        "np.random.seed(seed)\n",
        "tf.random.set_seed(seed)"
      ]
    },
    {
      "cell_type": "code",
      "execution_count": 5,
      "metadata": {
        "colab": {
          "base_uri": "https://localhost:8080/",
          "height": 423
        },
        "id": "udqJPB5dR-Tu",
        "outputId": "f36168c7-6e1e-4d7b-c3c1-72588c3a39f5"
      },
      "outputs": [
        {
          "data": {
            "text/html": [
              "\n",
              "  <div id=\"df-f672a971-6059-4a77-88a4-1530961f48aa\">\n",
              "    <div class=\"colab-df-container\">\n",
              "      <div>\n",
              "<style scoped>\n",
              "    .dataframe tbody tr th:only-of-type {\n",
              "        vertical-align: middle;\n",
              "    }\n",
              "\n",
              "    .dataframe tbody tr th {\n",
              "        vertical-align: top;\n",
              "    }\n",
              "\n",
              "    .dataframe thead th {\n",
              "        text-align: right;\n",
              "    }\n",
              "</style>\n",
              "<table border=\"1\" class=\"dataframe\">\n",
              "  <thead>\n",
              "    <tr style=\"text-align: right;\">\n",
              "      <th></th>\n",
              "      <th>survived</th>\n",
              "      <th>pclass</th>\n",
              "      <th>sex</th>\n",
              "      <th>age</th>\n",
              "      <th>sibsp</th>\n",
              "      <th>parch</th>\n",
              "      <th>fare</th>\n",
              "      <th>embarked</th>\n",
              "      <th>class</th>\n",
              "      <th>who</th>\n",
              "      <th>adult_male</th>\n",
              "      <th>deck</th>\n",
              "      <th>embark_town</th>\n",
              "      <th>alive</th>\n",
              "      <th>alone</th>\n",
              "    </tr>\n",
              "  </thead>\n",
              "  <tbody>\n",
              "    <tr>\n",
              "      <th>0</th>\n",
              "      <td>0</td>\n",
              "      <td>3</td>\n",
              "      <td>male</td>\n",
              "      <td>22.0</td>\n",
              "      <td>1</td>\n",
              "      <td>0</td>\n",
              "      <td>7.2500</td>\n",
              "      <td>S</td>\n",
              "      <td>Third</td>\n",
              "      <td>man</td>\n",
              "      <td>True</td>\n",
              "      <td>NaN</td>\n",
              "      <td>Southampton</td>\n",
              "      <td>no</td>\n",
              "      <td>False</td>\n",
              "    </tr>\n",
              "    <tr>\n",
              "      <th>1</th>\n",
              "      <td>1</td>\n",
              "      <td>1</td>\n",
              "      <td>female</td>\n",
              "      <td>38.0</td>\n",
              "      <td>1</td>\n",
              "      <td>0</td>\n",
              "      <td>71.2833</td>\n",
              "      <td>C</td>\n",
              "      <td>First</td>\n",
              "      <td>woman</td>\n",
              "      <td>False</td>\n",
              "      <td>C</td>\n",
              "      <td>Cherbourg</td>\n",
              "      <td>yes</td>\n",
              "      <td>False</td>\n",
              "    </tr>\n",
              "    <tr>\n",
              "      <th>2</th>\n",
              "      <td>1</td>\n",
              "      <td>3</td>\n",
              "      <td>female</td>\n",
              "      <td>26.0</td>\n",
              "      <td>0</td>\n",
              "      <td>0</td>\n",
              "      <td>7.9250</td>\n",
              "      <td>S</td>\n",
              "      <td>Third</td>\n",
              "      <td>woman</td>\n",
              "      <td>False</td>\n",
              "      <td>NaN</td>\n",
              "      <td>Southampton</td>\n",
              "      <td>yes</td>\n",
              "      <td>True</td>\n",
              "    </tr>\n",
              "    <tr>\n",
              "      <th>3</th>\n",
              "      <td>1</td>\n",
              "      <td>1</td>\n",
              "      <td>female</td>\n",
              "      <td>35.0</td>\n",
              "      <td>1</td>\n",
              "      <td>0</td>\n",
              "      <td>53.1000</td>\n",
              "      <td>S</td>\n",
              "      <td>First</td>\n",
              "      <td>woman</td>\n",
              "      <td>False</td>\n",
              "      <td>C</td>\n",
              "      <td>Southampton</td>\n",
              "      <td>yes</td>\n",
              "      <td>False</td>\n",
              "    </tr>\n",
              "    <tr>\n",
              "      <th>4</th>\n",
              "      <td>0</td>\n",
              "      <td>3</td>\n",
              "      <td>male</td>\n",
              "      <td>35.0</td>\n",
              "      <td>0</td>\n",
              "      <td>0</td>\n",
              "      <td>8.0500</td>\n",
              "      <td>S</td>\n",
              "      <td>Third</td>\n",
              "      <td>man</td>\n",
              "      <td>True</td>\n",
              "      <td>NaN</td>\n",
              "      <td>Southampton</td>\n",
              "      <td>no</td>\n",
              "      <td>True</td>\n",
              "    </tr>\n",
              "    <tr>\n",
              "      <th>...</th>\n",
              "      <td>...</td>\n",
              "      <td>...</td>\n",
              "      <td>...</td>\n",
              "      <td>...</td>\n",
              "      <td>...</td>\n",
              "      <td>...</td>\n",
              "      <td>...</td>\n",
              "      <td>...</td>\n",
              "      <td>...</td>\n",
              "      <td>...</td>\n",
              "      <td>...</td>\n",
              "      <td>...</td>\n",
              "      <td>...</td>\n",
              "      <td>...</td>\n",
              "      <td>...</td>\n",
              "    </tr>\n",
              "    <tr>\n",
              "      <th>886</th>\n",
              "      <td>0</td>\n",
              "      <td>2</td>\n",
              "      <td>male</td>\n",
              "      <td>27.0</td>\n",
              "      <td>0</td>\n",
              "      <td>0</td>\n",
              "      <td>13.0000</td>\n",
              "      <td>S</td>\n",
              "      <td>Second</td>\n",
              "      <td>man</td>\n",
              "      <td>True</td>\n",
              "      <td>NaN</td>\n",
              "      <td>Southampton</td>\n",
              "      <td>no</td>\n",
              "      <td>True</td>\n",
              "    </tr>\n",
              "    <tr>\n",
              "      <th>887</th>\n",
              "      <td>1</td>\n",
              "      <td>1</td>\n",
              "      <td>female</td>\n",
              "      <td>19.0</td>\n",
              "      <td>0</td>\n",
              "      <td>0</td>\n",
              "      <td>30.0000</td>\n",
              "      <td>S</td>\n",
              "      <td>First</td>\n",
              "      <td>woman</td>\n",
              "      <td>False</td>\n",
              "      <td>B</td>\n",
              "      <td>Southampton</td>\n",
              "      <td>yes</td>\n",
              "      <td>True</td>\n",
              "    </tr>\n",
              "    <tr>\n",
              "      <th>888</th>\n",
              "      <td>0</td>\n",
              "      <td>3</td>\n",
              "      <td>female</td>\n",
              "      <td>NaN</td>\n",
              "      <td>1</td>\n",
              "      <td>2</td>\n",
              "      <td>23.4500</td>\n",
              "      <td>S</td>\n",
              "      <td>Third</td>\n",
              "      <td>woman</td>\n",
              "      <td>False</td>\n",
              "      <td>NaN</td>\n",
              "      <td>Southampton</td>\n",
              "      <td>no</td>\n",
              "      <td>False</td>\n",
              "    </tr>\n",
              "    <tr>\n",
              "      <th>889</th>\n",
              "      <td>1</td>\n",
              "      <td>1</td>\n",
              "      <td>male</td>\n",
              "      <td>26.0</td>\n",
              "      <td>0</td>\n",
              "      <td>0</td>\n",
              "      <td>30.0000</td>\n",
              "      <td>C</td>\n",
              "      <td>First</td>\n",
              "      <td>man</td>\n",
              "      <td>True</td>\n",
              "      <td>C</td>\n",
              "      <td>Cherbourg</td>\n",
              "      <td>yes</td>\n",
              "      <td>True</td>\n",
              "    </tr>\n",
              "    <tr>\n",
              "      <th>890</th>\n",
              "      <td>0</td>\n",
              "      <td>3</td>\n",
              "      <td>male</td>\n",
              "      <td>32.0</td>\n",
              "      <td>0</td>\n",
              "      <td>0</td>\n",
              "      <td>7.7500</td>\n",
              "      <td>Q</td>\n",
              "      <td>Third</td>\n",
              "      <td>man</td>\n",
              "      <td>True</td>\n",
              "      <td>NaN</td>\n",
              "      <td>Queenstown</td>\n",
              "      <td>no</td>\n",
              "      <td>True</td>\n",
              "    </tr>\n",
              "  </tbody>\n",
              "</table>\n",
              "<p>891 rows × 15 columns</p>\n",
              "</div>\n",
              "      <button class=\"colab-df-convert\" onclick=\"convertToInteractive('df-f672a971-6059-4a77-88a4-1530961f48aa')\"\n",
              "              title=\"Convert this dataframe to an interactive table.\"\n",
              "              style=\"display:none;\">\n",
              "        \n",
              "  <svg xmlns=\"http://www.w3.org/2000/svg\" height=\"24px\"viewBox=\"0 0 24 24\"\n",
              "       width=\"24px\">\n",
              "    <path d=\"M0 0h24v24H0V0z\" fill=\"none\"/>\n",
              "    <path d=\"M18.56 5.44l.94 2.06.94-2.06 2.06-.94-2.06-.94-.94-2.06-.94 2.06-2.06.94zm-11 1L8.5 8.5l.94-2.06 2.06-.94-2.06-.94L8.5 2.5l-.94 2.06-2.06.94zm10 10l.94 2.06.94-2.06 2.06-.94-2.06-.94-.94-2.06-.94 2.06-2.06.94z\"/><path d=\"M17.41 7.96l-1.37-1.37c-.4-.4-.92-.59-1.43-.59-.52 0-1.04.2-1.43.59L10.3 9.45l-7.72 7.72c-.78.78-.78 2.05 0 2.83L4 21.41c.39.39.9.59 1.41.59.51 0 1.02-.2 1.41-.59l7.78-7.78 2.81-2.81c.8-.78.8-2.07 0-2.86zM5.41 20L4 18.59l7.72-7.72 1.47 1.35L5.41 20z\"/>\n",
              "  </svg>\n",
              "      </button>\n",
              "      \n",
              "  <style>\n",
              "    .colab-df-container {\n",
              "      display:flex;\n",
              "      flex-wrap:wrap;\n",
              "      gap: 12px;\n",
              "    }\n",
              "\n",
              "    .colab-df-convert {\n",
              "      background-color: #E8F0FE;\n",
              "      border: none;\n",
              "      border-radius: 50%;\n",
              "      cursor: pointer;\n",
              "      display: none;\n",
              "      fill: #1967D2;\n",
              "      height: 32px;\n",
              "      padding: 0 0 0 0;\n",
              "      width: 32px;\n",
              "    }\n",
              "\n",
              "    .colab-df-convert:hover {\n",
              "      background-color: #E2EBFA;\n",
              "      box-shadow: 0px 1px 2px rgba(60, 64, 67, 0.3), 0px 1px 3px 1px rgba(60, 64, 67, 0.15);\n",
              "      fill: #174EA6;\n",
              "    }\n",
              "\n",
              "    [theme=dark] .colab-df-convert {\n",
              "      background-color: #3B4455;\n",
              "      fill: #D2E3FC;\n",
              "    }\n",
              "\n",
              "    [theme=dark] .colab-df-convert:hover {\n",
              "      background-color: #434B5C;\n",
              "      box-shadow: 0px 1px 3px 1px rgba(0, 0, 0, 0.15);\n",
              "      filter: drop-shadow(0px 1px 2px rgba(0, 0, 0, 0.3));\n",
              "      fill: #FFFFFF;\n",
              "    }\n",
              "  </style>\n",
              "\n",
              "      <script>\n",
              "        const buttonEl =\n",
              "          document.querySelector('#df-f672a971-6059-4a77-88a4-1530961f48aa button.colab-df-convert');\n",
              "        buttonEl.style.display =\n",
              "          google.colab.kernel.accessAllowed ? 'block' : 'none';\n",
              "\n",
              "        async function convertToInteractive(key) {\n",
              "          const element = document.querySelector('#df-f672a971-6059-4a77-88a4-1530961f48aa');\n",
              "          const dataTable =\n",
              "            await google.colab.kernel.invokeFunction('convertToInteractive',\n",
              "                                                     [key], {});\n",
              "          if (!dataTable) return;\n",
              "\n",
              "          const docLinkHtml = 'Like what you see? Visit the ' +\n",
              "            '<a target=\"_blank\" href=https://colab.research.google.com/notebooks/data_table.ipynb>data table notebook</a>'\n",
              "            + ' to learn more about interactive tables.';\n",
              "          element.innerHTML = '';\n",
              "          dataTable['output_type'] = 'display_data';\n",
              "          await google.colab.output.renderOutput(dataTable, element);\n",
              "          const docLink = document.createElement('div');\n",
              "          docLink.innerHTML = docLinkHtml;\n",
              "          element.appendChild(docLink);\n",
              "        }\n",
              "      </script>\n",
              "    </div>\n",
              "  </div>\n",
              "  "
            ],
            "text/plain": [
              "     survived  pclass     sex   age  ...  deck  embark_town  alive  alone\n",
              "0           0       3    male  22.0  ...   NaN  Southampton     no  False\n",
              "1           1       1  female  38.0  ...     C    Cherbourg    yes  False\n",
              "2           1       3  female  26.0  ...   NaN  Southampton    yes   True\n",
              "3           1       1  female  35.0  ...     C  Southampton    yes  False\n",
              "4           0       3    male  35.0  ...   NaN  Southampton     no   True\n",
              "..        ...     ...     ...   ...  ...   ...          ...    ...    ...\n",
              "886         0       2    male  27.0  ...   NaN  Southampton     no   True\n",
              "887         1       1  female  19.0  ...     B  Southampton    yes   True\n",
              "888         0       3  female   NaN  ...   NaN  Southampton     no  False\n",
              "889         1       1    male  26.0  ...     C    Cherbourg    yes   True\n",
              "890         0       3    male  32.0  ...   NaN   Queenstown     no   True\n",
              "\n",
              "[891 rows x 15 columns]"
            ]
          },
          "execution_count": 5,
          "metadata": {},
          "output_type": "execute_result"
        }
      ],
      "source": [
        "df = sns.load_dataset('titanic')\n",
        "df"
      ]
    },
    {
      "cell_type": "markdown",
      "metadata": {
        "id": "34PQA-RfSAP9"
      },
      "source": [
        "1. 데이터 전처리\n",
        "    * Feature Selection"
      ]
    },
    {
      "cell_type": "code",
      "execution_count": 6,
      "metadata": {
        "colab": {
          "base_uri": "https://localhost:8080/",
          "height": 143
        },
        "id": "dgqtF55YSElG",
        "outputId": "f4219ffb-c7c6-41b5-f7d5-ef5960d3c35d"
      },
      "outputs": [
        {
          "data": {
            "text/html": [
              "\n",
              "  <div id=\"df-a042789d-d85c-4738-bdd4-c5640bd08d09\">\n",
              "    <div class=\"colab-df-container\">\n",
              "      <div>\n",
              "<style scoped>\n",
              "    .dataframe tbody tr th:only-of-type {\n",
              "        vertical-align: middle;\n",
              "    }\n",
              "\n",
              "    .dataframe tbody tr th {\n",
              "        vertical-align: top;\n",
              "    }\n",
              "\n",
              "    .dataframe thead th {\n",
              "        text-align: right;\n",
              "    }\n",
              "</style>\n",
              "<table border=\"1\" class=\"dataframe\">\n",
              "  <thead>\n",
              "    <tr style=\"text-align: right;\">\n",
              "      <th></th>\n",
              "      <th>survived</th>\n",
              "      <th>pclass</th>\n",
              "      <th>sex</th>\n",
              "      <th>age</th>\n",
              "      <th>sibsp</th>\n",
              "      <th>parch</th>\n",
              "      <th>fare</th>\n",
              "      <th>embarked</th>\n",
              "      <th>deck</th>\n",
              "    </tr>\n",
              "  </thead>\n",
              "  <tbody>\n",
              "    <tr>\n",
              "      <th>0</th>\n",
              "      <td>0</td>\n",
              "      <td>3</td>\n",
              "      <td>male</td>\n",
              "      <td>22.0</td>\n",
              "      <td>1</td>\n",
              "      <td>0</td>\n",
              "      <td>7.2500</td>\n",
              "      <td>S</td>\n",
              "      <td>NaN</td>\n",
              "    </tr>\n",
              "    <tr>\n",
              "      <th>1</th>\n",
              "      <td>1</td>\n",
              "      <td>1</td>\n",
              "      <td>female</td>\n",
              "      <td>38.0</td>\n",
              "      <td>1</td>\n",
              "      <td>0</td>\n",
              "      <td>71.2833</td>\n",
              "      <td>C</td>\n",
              "      <td>C</td>\n",
              "    </tr>\n",
              "    <tr>\n",
              "      <th>2</th>\n",
              "      <td>1</td>\n",
              "      <td>3</td>\n",
              "      <td>female</td>\n",
              "      <td>26.0</td>\n",
              "      <td>0</td>\n",
              "      <td>0</td>\n",
              "      <td>7.9250</td>\n",
              "      <td>S</td>\n",
              "      <td>NaN</td>\n",
              "    </tr>\n",
              "  </tbody>\n",
              "</table>\n",
              "</div>\n",
              "      <button class=\"colab-df-convert\" onclick=\"convertToInteractive('df-a042789d-d85c-4738-bdd4-c5640bd08d09')\"\n",
              "              title=\"Convert this dataframe to an interactive table.\"\n",
              "              style=\"display:none;\">\n",
              "        \n",
              "  <svg xmlns=\"http://www.w3.org/2000/svg\" height=\"24px\"viewBox=\"0 0 24 24\"\n",
              "       width=\"24px\">\n",
              "    <path d=\"M0 0h24v24H0V0z\" fill=\"none\"/>\n",
              "    <path d=\"M18.56 5.44l.94 2.06.94-2.06 2.06-.94-2.06-.94-.94-2.06-.94 2.06-2.06.94zm-11 1L8.5 8.5l.94-2.06 2.06-.94-2.06-.94L8.5 2.5l-.94 2.06-2.06.94zm10 10l.94 2.06.94-2.06 2.06-.94-2.06-.94-.94-2.06-.94 2.06-2.06.94z\"/><path d=\"M17.41 7.96l-1.37-1.37c-.4-.4-.92-.59-1.43-.59-.52 0-1.04.2-1.43.59L10.3 9.45l-7.72 7.72c-.78.78-.78 2.05 0 2.83L4 21.41c.39.39.9.59 1.41.59.51 0 1.02-.2 1.41-.59l7.78-7.78 2.81-2.81c.8-.78.8-2.07 0-2.86zM5.41 20L4 18.59l7.72-7.72 1.47 1.35L5.41 20z\"/>\n",
              "  </svg>\n",
              "      </button>\n",
              "      \n",
              "  <style>\n",
              "    .colab-df-container {\n",
              "      display:flex;\n",
              "      flex-wrap:wrap;\n",
              "      gap: 12px;\n",
              "    }\n",
              "\n",
              "    .colab-df-convert {\n",
              "      background-color: #E8F0FE;\n",
              "      border: none;\n",
              "      border-radius: 50%;\n",
              "      cursor: pointer;\n",
              "      display: none;\n",
              "      fill: #1967D2;\n",
              "      height: 32px;\n",
              "      padding: 0 0 0 0;\n",
              "      width: 32px;\n",
              "    }\n",
              "\n",
              "    .colab-df-convert:hover {\n",
              "      background-color: #E2EBFA;\n",
              "      box-shadow: 0px 1px 2px rgba(60, 64, 67, 0.3), 0px 1px 3px 1px rgba(60, 64, 67, 0.15);\n",
              "      fill: #174EA6;\n",
              "    }\n",
              "\n",
              "    [theme=dark] .colab-df-convert {\n",
              "      background-color: #3B4455;\n",
              "      fill: #D2E3FC;\n",
              "    }\n",
              "\n",
              "    [theme=dark] .colab-df-convert:hover {\n",
              "      background-color: #434B5C;\n",
              "      box-shadow: 0px 1px 3px 1px rgba(0, 0, 0, 0.15);\n",
              "      filter: drop-shadow(0px 1px 2px rgba(0, 0, 0, 0.3));\n",
              "      fill: #FFFFFF;\n",
              "    }\n",
              "  </style>\n",
              "\n",
              "      <script>\n",
              "        const buttonEl =\n",
              "          document.querySelector('#df-a042789d-d85c-4738-bdd4-c5640bd08d09 button.colab-df-convert');\n",
              "        buttonEl.style.display =\n",
              "          google.colab.kernel.accessAllowed ? 'block' : 'none';\n",
              "\n",
              "        async function convertToInteractive(key) {\n",
              "          const element = document.querySelector('#df-a042789d-d85c-4738-bdd4-c5640bd08d09');\n",
              "          const dataTable =\n",
              "            await google.colab.kernel.invokeFunction('convertToInteractive',\n",
              "                                                     [key], {});\n",
              "          if (!dataTable) return;\n",
              "\n",
              "          const docLinkHtml = 'Like what you see? Visit the ' +\n",
              "            '<a target=\"_blank\" href=https://colab.research.google.com/notebooks/data_table.ipynb>data table notebook</a>'\n",
              "            + ' to learn more about interactive tables.';\n",
              "          element.innerHTML = '';\n",
              "          dataTable['output_type'] = 'display_data';\n",
              "          await google.colab.output.renderOutput(dataTable, element);\n",
              "          const docLink = document.createElement('div');\n",
              "          docLink.innerHTML = docLinkHtml;\n",
              "          element.appendChild(docLink);\n",
              "        }\n",
              "      </script>\n",
              "    </div>\n",
              "  </div>\n",
              "  "
            ],
            "text/plain": [
              "   survived  pclass     sex   age  sibsp  parch     fare embarked deck\n",
              "0         0       3    male  22.0      1      0   7.2500        S  NaN\n",
              "1         1       1  female  38.0      1      0  71.2833        C    C\n",
              "2         1       3  female  26.0      0      0   7.9250        S  NaN"
            ]
          },
          "execution_count": 6,
          "metadata": {},
          "output_type": "execute_result"
        }
      ],
      "source": [
        "df = df[['survived', 'pclass', 'sex', 'age','sibsp', 'parch','fare', 'embarked', 'deck']]\n",
        "df.head(3)"
      ]
    },
    {
      "cell_type": "code",
      "execution_count": 7,
      "metadata": {
        "colab": {
          "base_uri": "https://localhost:8080/"
        },
        "id": "CMlaR3RqSfeB",
        "outputId": "75de79a0-5c12-4521-a407-e58bc1edd31d"
      },
      "outputs": [
        {
          "data": {
            "text/plain": [
              "(891, 9)"
            ]
          },
          "execution_count": 7,
          "metadata": {},
          "output_type": "execute_result"
        }
      ],
      "source": [
        "df.shape"
      ]
    },
    {
      "cell_type": "markdown",
      "metadata": {
        "id": "xNOsgFkCTDgd"
      },
      "source": [
        "* 결측치 처리"
      ]
    },
    {
      "cell_type": "code",
      "execution_count": 8,
      "metadata": {
        "colab": {
          "base_uri": "https://localhost:8080/"
        },
        "id": "EdjE2zUqTFxy",
        "outputId": "0f888f5a-31e2-4056-d1ea-daaadff21ff2"
      },
      "outputs": [
        {
          "data": {
            "text/plain": [
              "survived      0\n",
              "pclass        0\n",
              "sex           0\n",
              "age         177\n",
              "sibsp         0\n",
              "parch         0\n",
              "fare          0\n",
              "embarked      2\n",
              "deck        688\n",
              "dtype: int64"
            ]
          },
          "execution_count": 8,
          "metadata": {},
          "output_type": "execute_result"
        }
      ],
      "source": [
        "df.isna().sum()"
      ]
    },
    {
      "cell_type": "code",
      "execution_count": 9,
      "metadata": {
        "colab": {
          "base_uri": "https://localhost:8080/"
        },
        "id": "2JldGlGiTI-U",
        "outputId": "61f52a63-21b3-4541-869d-cefc77bc2d90"
      },
      "outputs": [
        {
          "name": "stderr",
          "output_type": "stream",
          "text": [
            "/usr/local/lib/python3.7/dist-packages/pandas/core/series.py:4536: SettingWithCopyWarning: \n",
            "A value is trying to be set on a copy of a slice from a DataFrame\n",
            "\n",
            "See the caveats in the documentation: https://pandas.pydata.org/pandas-docs/stable/user_guide/indexing.html#returning-a-view-versus-a-copy\n",
            "  downcast=downcast,\n",
            "/usr/local/lib/python3.7/dist-packages/pandas/core/frame.py:4174: SettingWithCopyWarning: \n",
            "A value is trying to be set on a copy of a slice from a DataFrame\n",
            "\n",
            "See the caveats in the documentation: https://pandas.pydata.org/pandas-docs/stable/user_guide/indexing.html#returning-a-view-versus-a-copy\n",
            "  errors=errors,\n"
          ]
        }
      ],
      "source": [
        "# age\n",
        "df.age.fillna(df.age.mean(), inplace=True)\n",
        "# deck 결측 - drop\n",
        "df.drop(columns=['deck'], inplace=True)"
      ]
    },
    {
      "cell_type": "code",
      "execution_count": 10,
      "metadata": {
        "colab": {
          "base_uri": "https://localhost:8080/"
        },
        "id": "z6bYFdDkTTo7",
        "outputId": "e4710f9f-c0c8-4cb5-bd72-1f54058336ef"
      },
      "outputs": [
        {
          "name": "stdout",
          "output_type": "stream",
          "text": [
            "S    644\n",
            "C    168\n",
            "Q     77\n",
            "Name: embarked, dtype: int64\n"
          ]
        }
      ],
      "source": [
        "# embarked - 최빈값\n",
        "# 최빈값\n",
        "print(df.embarked.value_counts())"
      ]
    },
    {
      "cell_type": "code",
      "execution_count": 11,
      "metadata": {
        "colab": {
          "base_uri": "https://localhost:8080/"
        },
        "id": "jXxtm9tiTYzX",
        "outputId": "a68b7b90-10d4-496a-c09d-aeeece5d365a"
      },
      "outputs": [
        {
          "name": "stderr",
          "output_type": "stream",
          "text": [
            "/usr/local/lib/python3.7/dist-packages/pandas/core/series.py:4536: SettingWithCopyWarning: \n",
            "A value is trying to be set on a copy of a slice from a DataFrame\n",
            "\n",
            "See the caveats in the documentation: https://pandas.pydata.org/pandas-docs/stable/user_guide/indexing.html#returning-a-view-versus-a-copy\n",
            "  downcast=downcast,\n"
          ]
        }
      ],
      "source": [
        "df.embarked.fillna('Q', inplace=True)"
      ]
    },
    {
      "cell_type": "code",
      "execution_count": 12,
      "metadata": {
        "colab": {
          "base_uri": "https://localhost:8080/"
        },
        "id": "E26jIsdLTce6",
        "outputId": "e8a47e26-1369-48dd-a636-c4fe1e49e8f3"
      },
      "outputs": [
        {
          "data": {
            "text/plain": [
              "0"
            ]
          },
          "execution_count": 12,
          "metadata": {},
          "output_type": "execute_result"
        }
      ],
      "source": [
        "# 결측치 확인\n",
        "df.isna().sum().sum()"
      ]
    },
    {
      "cell_type": "code",
      "execution_count": 13,
      "metadata": {
        "colab": {
          "base_uri": "https://localhost:8080/",
          "height": 257
        },
        "id": "htfqxzMYThg1",
        "outputId": "23d9ff71-5006-40ba-9d6e-0905beba6f74"
      },
      "outputs": [
        {
          "name": "stderr",
          "output_type": "stream",
          "text": [
            "/usr/local/lib/python3.7/dist-packages/pandas/core/generic.py:5170: SettingWithCopyWarning: \n",
            "A value is trying to be set on a copy of a slice from a DataFrame.\n",
            "Try using .loc[row_indexer,col_indexer] = value instead\n",
            "\n",
            "See the caveats in the documentation: https://pandas.pydata.org/pandas-docs/stable/user_guide/indexing.html#returning-a-view-versus-a-copy\n",
            "  self[name] = value\n"
          ]
        },
        {
          "data": {
            "text/html": [
              "\n",
              "  <div id=\"df-c751d10b-47ee-4b08-ade0-a4ddb3b5bd12\">\n",
              "    <div class=\"colab-df-container\">\n",
              "      <div>\n",
              "<style scoped>\n",
              "    .dataframe tbody tr th:only-of-type {\n",
              "        vertical-align: middle;\n",
              "    }\n",
              "\n",
              "    .dataframe tbody tr th {\n",
              "        vertical-align: top;\n",
              "    }\n",
              "\n",
              "    .dataframe thead th {\n",
              "        text-align: right;\n",
              "    }\n",
              "</style>\n",
              "<table border=\"1\" class=\"dataframe\">\n",
              "  <thead>\n",
              "    <tr style=\"text-align: right;\">\n",
              "      <th></th>\n",
              "      <th>survived</th>\n",
              "      <th>pclass</th>\n",
              "      <th>sex</th>\n",
              "      <th>age</th>\n",
              "      <th>sibsp</th>\n",
              "      <th>parch</th>\n",
              "      <th>fare</th>\n",
              "      <th>embarked</th>\n",
              "    </tr>\n",
              "  </thead>\n",
              "  <tbody>\n",
              "    <tr>\n",
              "      <th>0</th>\n",
              "      <td>0</td>\n",
              "      <td>3</td>\n",
              "      <td>1</td>\n",
              "      <td>22.0</td>\n",
              "      <td>1</td>\n",
              "      <td>0</td>\n",
              "      <td>7.2500</td>\n",
              "      <td>2</td>\n",
              "    </tr>\n",
              "    <tr>\n",
              "      <th>1</th>\n",
              "      <td>1</td>\n",
              "      <td>1</td>\n",
              "      <td>0</td>\n",
              "      <td>38.0</td>\n",
              "      <td>1</td>\n",
              "      <td>0</td>\n",
              "      <td>71.2833</td>\n",
              "      <td>0</td>\n",
              "    </tr>\n",
              "    <tr>\n",
              "      <th>2</th>\n",
              "      <td>1</td>\n",
              "      <td>3</td>\n",
              "      <td>0</td>\n",
              "      <td>26.0</td>\n",
              "      <td>0</td>\n",
              "      <td>0</td>\n",
              "      <td>7.9250</td>\n",
              "      <td>2</td>\n",
              "    </tr>\n",
              "  </tbody>\n",
              "</table>\n",
              "</div>\n",
              "      <button class=\"colab-df-convert\" onclick=\"convertToInteractive('df-c751d10b-47ee-4b08-ade0-a4ddb3b5bd12')\"\n",
              "              title=\"Convert this dataframe to an interactive table.\"\n",
              "              style=\"display:none;\">\n",
              "        \n",
              "  <svg xmlns=\"http://www.w3.org/2000/svg\" height=\"24px\"viewBox=\"0 0 24 24\"\n",
              "       width=\"24px\">\n",
              "    <path d=\"M0 0h24v24H0V0z\" fill=\"none\"/>\n",
              "    <path d=\"M18.56 5.44l.94 2.06.94-2.06 2.06-.94-2.06-.94-.94-2.06-.94 2.06-2.06.94zm-11 1L8.5 8.5l.94-2.06 2.06-.94-2.06-.94L8.5 2.5l-.94 2.06-2.06.94zm10 10l.94 2.06.94-2.06 2.06-.94-2.06-.94-.94-2.06-.94 2.06-2.06.94z\"/><path d=\"M17.41 7.96l-1.37-1.37c-.4-.4-.92-.59-1.43-.59-.52 0-1.04.2-1.43.59L10.3 9.45l-7.72 7.72c-.78.78-.78 2.05 0 2.83L4 21.41c.39.39.9.59 1.41.59.51 0 1.02-.2 1.41-.59l7.78-7.78 2.81-2.81c.8-.78.8-2.07 0-2.86zM5.41 20L4 18.59l7.72-7.72 1.47 1.35L5.41 20z\"/>\n",
              "  </svg>\n",
              "      </button>\n",
              "      \n",
              "  <style>\n",
              "    .colab-df-container {\n",
              "      display:flex;\n",
              "      flex-wrap:wrap;\n",
              "      gap: 12px;\n",
              "    }\n",
              "\n",
              "    .colab-df-convert {\n",
              "      background-color: #E8F0FE;\n",
              "      border: none;\n",
              "      border-radius: 50%;\n",
              "      cursor: pointer;\n",
              "      display: none;\n",
              "      fill: #1967D2;\n",
              "      height: 32px;\n",
              "      padding: 0 0 0 0;\n",
              "      width: 32px;\n",
              "    }\n",
              "\n",
              "    .colab-df-convert:hover {\n",
              "      background-color: #E2EBFA;\n",
              "      box-shadow: 0px 1px 2px rgba(60, 64, 67, 0.3), 0px 1px 3px 1px rgba(60, 64, 67, 0.15);\n",
              "      fill: #174EA6;\n",
              "    }\n",
              "\n",
              "    [theme=dark] .colab-df-convert {\n",
              "      background-color: #3B4455;\n",
              "      fill: #D2E3FC;\n",
              "    }\n",
              "\n",
              "    [theme=dark] .colab-df-convert:hover {\n",
              "      background-color: #434B5C;\n",
              "      box-shadow: 0px 1px 3px 1px rgba(0, 0, 0, 0.15);\n",
              "      filter: drop-shadow(0px 1px 2px rgba(0, 0, 0, 0.3));\n",
              "      fill: #FFFFFF;\n",
              "    }\n",
              "  </style>\n",
              "\n",
              "      <script>\n",
              "        const buttonEl =\n",
              "          document.querySelector('#df-c751d10b-47ee-4b08-ade0-a4ddb3b5bd12 button.colab-df-convert');\n",
              "        buttonEl.style.display =\n",
              "          google.colab.kernel.accessAllowed ? 'block' : 'none';\n",
              "\n",
              "        async function convertToInteractive(key) {\n",
              "          const element = document.querySelector('#df-c751d10b-47ee-4b08-ade0-a4ddb3b5bd12');\n",
              "          const dataTable =\n",
              "            await google.colab.kernel.invokeFunction('convertToInteractive',\n",
              "                                                     [key], {});\n",
              "          if (!dataTable) return;\n",
              "\n",
              "          const docLinkHtml = 'Like what you see? Visit the ' +\n",
              "            '<a target=\"_blank\" href=https://colab.research.google.com/notebooks/data_table.ipynb>data table notebook</a>'\n",
              "            + ' to learn more about interactive tables.';\n",
              "          element.innerHTML = '';\n",
              "          dataTable['output_type'] = 'display_data';\n",
              "          await google.colab.output.renderOutput(dataTable, element);\n",
              "          const docLink = document.createElement('div');\n",
              "          docLink.innerHTML = docLinkHtml;\n",
              "          element.appendChild(docLink);\n",
              "        }\n",
              "      </script>\n",
              "    </div>\n",
              "  </div>\n",
              "  "
            ],
            "text/plain": [
              "   survived  pclass  sex   age  sibsp  parch     fare  embarked\n",
              "0         0       3    1  22.0      1      0   7.2500         2\n",
              "1         1       1    0  38.0      1      0  71.2833         0\n",
              "2         1       3    0  26.0      0      0   7.9250         2"
            ]
          },
          "execution_count": 13,
          "metadata": {},
          "output_type": "execute_result"
        }
      ],
      "source": [
        "# 카테고리 값\n",
        "from sklearn.preprocessing import LabelEncoder\n",
        "le = LabelEncoder()\n",
        "df.sex = le.fit_transform(df.sex)\n",
        "df.embarked = le.fit_transform(df.embarked)\n",
        "df.head(3)"
      ]
    },
    {
      "cell_type": "code",
      "execution_count": 14,
      "metadata": {
        "id": "TPhSTG0VTwNM"
      },
      "outputs": [],
      "source": [
        "# X data : scaling\n",
        "from sklearn.preprocessing import StandardScaler\n",
        "X_scaled = StandardScaler().fit_transform(df.iloc[:,1:].values)"
      ]
    },
    {
      "cell_type": "markdown",
      "metadata": {
        "id": "hC8UUJUbTx5i"
      },
      "source": [
        "2. 학습/테스트 데이터셋 분리"
      ]
    },
    {
      "cell_type": "code",
      "execution_count": 15,
      "metadata": {
        "id": "mnRUdVo-T1YC"
      },
      "outputs": [],
      "source": [
        "from sklearn.model_selection import train_test_split\n",
        "X_train, X_test, y_train, y_test = train_test_split(\n",
        "    X_scaled, df.iloc[:,0].values, stratify=df.iloc[:,0].values, test_size=0.2, random_state=seed\n",
        ")"
      ]
    },
    {
      "cell_type": "code",
      "execution_count": 16,
      "metadata": {
        "colab": {
          "base_uri": "https://localhost:8080/"
        },
        "id": "zX4umVyAT2nq",
        "outputId": "2247dc12-38ad-4109-d9fb-f4fdf3fd020e"
      },
      "outputs": [
        {
          "data": {
            "text/plain": [
              "((712, 7), (179, 7), (712,), (179,))"
            ]
          },
          "execution_count": 16,
          "metadata": {},
          "output_type": "execute_result"
        }
      ],
      "source": [
        "X_train.shape, X_test.shape, y_train.shape, y_test.shape"
      ]
    },
    {
      "cell_type": "markdown",
      "metadata": {
        "id": "-f9NiDJ4T4I6"
      },
      "source": [
        "3. 모델 정의/설정"
      ]
    },
    {
      "cell_type": "code",
      "execution_count": 17,
      "metadata": {
        "id": "9dj0Rxb3T4xK"
      },
      "outputs": [],
      "source": [
        "from tensorflow.keras.models import Sequential\n",
        "from tensorflow.keras.layers import Dense"
      ]
    },
    {
      "cell_type": "code",
      "execution_count": 18,
      "metadata": {
        "colab": {
          "base_uri": "https://localhost:8080/"
        },
        "id": "HLGxM2JfT7aN",
        "outputId": "fb5e6680-e956-4ae2-ba0d-f9f785f0b6f9"
      },
      "outputs": [
        {
          "name": "stdout",
          "output_type": "stream",
          "text": [
            "Model: \"sequential\"\n",
            "_________________________________________________________________\n",
            " Layer (type)                Output Shape              Param #   \n",
            "=================================================================\n",
            " dense (Dense)               (None, 30)                240       \n",
            "                                                                 \n",
            " dense_1 (Dense)             (None, 12)                372       \n",
            "                                                                 \n",
            " dense_2 (Dense)             (None, 8)                 104       \n",
            "                                                                 \n",
            " dense_3 (Dense)             (None, 1)                 9         \n",
            "                                                                 \n",
            "=================================================================\n",
            "Total params: 725\n",
            "Trainable params: 725\n",
            "Non-trainable params: 0\n",
            "_________________________________________________________________\n"
          ]
        }
      ],
      "source": [
        "model = Sequential([\n",
        "    Dense(30, input_dim=7, activation='relu'),\n",
        "    Dense(12, activation='relu'),\n",
        "    Dense(8, activation='relu'),\n",
        "    Dense(1, activation='sigmoid')\n",
        "])\n",
        "model.summary()"
      ]
    },
    {
      "cell_type": "code",
      "execution_count": 19,
      "metadata": {
        "id": "eNNeqt3yT8ef"
      },
      "outputs": [],
      "source": [
        "model.compile(optimizer='adam', loss='binary_crossentropy', metrics=['accuracy'])"
      ]
    },
    {
      "cell_type": "markdown",
      "metadata": {
        "id": "vY1SfztMT-Er"
      },
      "source": [
        "* 모델 저장 관련 설정"
      ]
    },
    {
      "cell_type": "code",
      "execution_count": 20,
      "metadata": {
        "id": "hrw2y6_mT_nd"
      },
      "outputs": [],
      "source": [
        "import os\n",
        "if not os.path.exists('model'):\n",
        "    os.mkdir('model')"
      ]
    },
    {
      "cell_type": "code",
      "execution_count": 21,
      "metadata": {
        "id": "iHFLWRnCUE3d"
      },
      "outputs": [],
      "source": [
        "model_path = 'model/titanic.h5'"
      ]
    },
    {
      "cell_type": "code",
      "execution_count": 22,
      "metadata": {
        "id": "gmSex36YUHat"
      },
      "outputs": [],
      "source": [
        "from tensorflow.keras.callbacks import ModelCheckpoint\n",
        "checkpoint = ModelCheckpoint(\n",
        "    model_path, monitor='val_loss', verbose=1, save_best_only=True\n",
        ")"
      ]
    },
    {
      "cell_type": "markdown",
      "metadata": {
        "id": "L3pq5ZD6UJSh"
      },
      "source": [
        "* 조기 중단 관련 설정"
      ]
    },
    {
      "cell_type": "code",
      "execution_count": 23,
      "metadata": {
        "id": "g150wAeMVDe3"
      },
      "outputs": [],
      "source": [
        "from tensorflow.keras.callbacks import EarlyStopping\n",
        "early_stopping = EarlyStopping(patience=20)"
      ]
    },
    {
      "cell_type": "markdown",
      "metadata": {
        "id": "LZMTNk-CVOub"
      },
      "source": [
        "## 4. 모델 학습/저장"
      ]
    },
    {
      "cell_type": "code",
      "execution_count": 24,
      "metadata": {
        "colab": {
          "base_uri": "https://localhost:8080/"
        },
        "id": "zyWUSoi3VQq9",
        "outputId": "af66c8e7-66e0-4744-e69f-e7fa2581cecb"
      },
      "outputs": [
        {
          "name": "stdout",
          "output_type": "stream",
          "text": [
            "\n",
            "Epoch 00001: val_loss improved from inf to 0.79185, saving model to model/titanic.h5\n",
            "\n",
            "Epoch 00002: val_loss improved from 0.79185 to 0.76247, saving model to model/titanic.h5\n",
            "\n",
            "Epoch 00003: val_loss improved from 0.76247 to 0.73687, saving model to model/titanic.h5\n",
            "\n",
            "Epoch 00004: val_loss improved from 0.73687 to 0.71500, saving model to model/titanic.h5\n",
            "\n",
            "Epoch 00005: val_loss improved from 0.71500 to 0.69595, saving model to model/titanic.h5\n",
            "\n",
            "Epoch 00006: val_loss improved from 0.69595 to 0.67966, saving model to model/titanic.h5\n",
            "\n",
            "Epoch 00007: val_loss improved from 0.67966 to 0.66495, saving model to model/titanic.h5\n",
            "\n",
            "Epoch 00008: val_loss improved from 0.66495 to 0.65182, saving model to model/titanic.h5\n",
            "\n",
            "Epoch 00009: val_loss improved from 0.65182 to 0.63990, saving model to model/titanic.h5\n",
            "\n",
            "Epoch 00010: val_loss improved from 0.63990 to 0.62902, saving model to model/titanic.h5\n",
            "\n",
            "Epoch 00011: val_loss improved from 0.62902 to 0.61890, saving model to model/titanic.h5\n",
            "\n",
            "Epoch 00012: val_loss improved from 0.61890 to 0.60965, saving model to model/titanic.h5\n",
            "\n",
            "Epoch 00013: val_loss improved from 0.60965 to 0.60102, saving model to model/titanic.h5\n",
            "\n",
            "Epoch 00014: val_loss improved from 0.60102 to 0.59302, saving model to model/titanic.h5\n",
            "\n",
            "Epoch 00015: val_loss improved from 0.59302 to 0.58534, saving model to model/titanic.h5\n",
            "\n",
            "Epoch 00016: val_loss improved from 0.58534 to 0.57817, saving model to model/titanic.h5\n",
            "\n",
            "Epoch 00017: val_loss improved from 0.57817 to 0.57128, saving model to model/titanic.h5\n",
            "\n",
            "Epoch 00018: val_loss improved from 0.57128 to 0.56434, saving model to model/titanic.h5\n",
            "\n",
            "Epoch 00019: val_loss improved from 0.56434 to 0.55723, saving model to model/titanic.h5\n",
            "\n",
            "Epoch 00020: val_loss improved from 0.55723 to 0.55026, saving model to model/titanic.h5\n",
            "\n",
            "Epoch 00021: val_loss improved from 0.55026 to 0.54371, saving model to model/titanic.h5\n",
            "\n",
            "Epoch 00022: val_loss improved from 0.54371 to 0.53747, saving model to model/titanic.h5\n",
            "\n",
            "Epoch 00023: val_loss improved from 0.53747 to 0.53155, saving model to model/titanic.h5\n",
            "\n",
            "Epoch 00024: val_loss improved from 0.53155 to 0.52554, saving model to model/titanic.h5\n",
            "\n",
            "Epoch 00025: val_loss improved from 0.52554 to 0.52003, saving model to model/titanic.h5\n",
            "\n",
            "Epoch 00026: val_loss improved from 0.52003 to 0.51493, saving model to model/titanic.h5\n",
            "\n",
            "Epoch 00027: val_loss improved from 0.51493 to 0.51012, saving model to model/titanic.h5\n",
            "\n",
            "Epoch 00028: val_loss improved from 0.51012 to 0.50546, saving model to model/titanic.h5\n",
            "\n",
            "Epoch 00029: val_loss improved from 0.50546 to 0.50118, saving model to model/titanic.h5\n",
            "\n",
            "Epoch 00030: val_loss improved from 0.50118 to 0.49747, saving model to model/titanic.h5\n",
            "\n",
            "Epoch 00031: val_loss improved from 0.49747 to 0.49397, saving model to model/titanic.h5\n",
            "\n",
            "Epoch 00032: val_loss improved from 0.49397 to 0.49069, saving model to model/titanic.h5\n",
            "\n",
            "Epoch 00033: val_loss improved from 0.49069 to 0.48788, saving model to model/titanic.h5\n",
            "\n",
            "Epoch 00034: val_loss improved from 0.48788 to 0.48521, saving model to model/titanic.h5\n",
            "\n",
            "Epoch 00035: val_loss improved from 0.48521 to 0.48287, saving model to model/titanic.h5\n",
            "\n",
            "Epoch 00036: val_loss improved from 0.48287 to 0.48074, saving model to model/titanic.h5\n",
            "\n",
            "Epoch 00037: val_loss improved from 0.48074 to 0.47887, saving model to model/titanic.h5\n",
            "\n",
            "Epoch 00038: val_loss improved from 0.47887 to 0.47698, saving model to model/titanic.h5\n",
            "\n",
            "Epoch 00039: val_loss improved from 0.47698 to 0.47546, saving model to model/titanic.h5\n",
            "\n",
            "Epoch 00040: val_loss improved from 0.47546 to 0.47399, saving model to model/titanic.h5\n",
            "\n",
            "Epoch 00041: val_loss improved from 0.47399 to 0.47280, saving model to model/titanic.h5\n",
            "\n",
            "Epoch 00042: val_loss improved from 0.47280 to 0.47185, saving model to model/titanic.h5\n",
            "\n",
            "Epoch 00043: val_loss improved from 0.47185 to 0.47119, saving model to model/titanic.h5\n",
            "\n",
            "Epoch 00044: val_loss improved from 0.47119 to 0.47066, saving model to model/titanic.h5\n",
            "\n",
            "Epoch 00045: val_loss improved from 0.47066 to 0.47025, saving model to model/titanic.h5\n",
            "\n",
            "Epoch 00046: val_loss improved from 0.47025 to 0.46990, saving model to model/titanic.h5\n",
            "\n",
            "Epoch 00047: val_loss improved from 0.46990 to 0.46937, saving model to model/titanic.h5\n",
            "\n",
            "Epoch 00048: val_loss improved from 0.46937 to 0.46903, saving model to model/titanic.h5\n",
            "\n",
            "Epoch 00049: val_loss improved from 0.46903 to 0.46901, saving model to model/titanic.h5\n",
            "\n",
            "Epoch 00050: val_loss improved from 0.46901 to 0.46871, saving model to model/titanic.h5\n",
            "\n",
            "Epoch 00051: val_loss improved from 0.46871 to 0.46868, saving model to model/titanic.h5\n",
            "\n",
            "Epoch 00052: val_loss improved from 0.46868 to 0.46857, saving model to model/titanic.h5\n",
            "\n",
            "Epoch 00053: val_loss improved from 0.46857 to 0.46848, saving model to model/titanic.h5\n",
            "\n",
            "Epoch 00054: val_loss improved from 0.46848 to 0.46842, saving model to model/titanic.h5\n",
            "\n",
            "Epoch 00055: val_loss improved from 0.46842 to 0.46830, saving model to model/titanic.h5\n",
            "\n",
            "Epoch 00056: val_loss improved from 0.46830 to 0.46829, saving model to model/titanic.h5\n",
            "\n",
            "Epoch 00057: val_loss improved from 0.46829 to 0.46814, saving model to model/titanic.h5\n",
            "\n",
            "Epoch 00058: val_loss improved from 0.46814 to 0.46794, saving model to model/titanic.h5\n",
            "\n",
            "Epoch 00059: val_loss improved from 0.46794 to 0.46776, saving model to model/titanic.h5\n",
            "\n",
            "Epoch 00060: val_loss did not improve from 0.46776\n",
            "\n",
            "Epoch 00061: val_loss did not improve from 0.46776\n",
            "\n",
            "Epoch 00062: val_loss did not improve from 0.46776\n",
            "\n",
            "Epoch 00063: val_loss did not improve from 0.46776\n",
            "\n",
            "Epoch 00064: val_loss did not improve from 0.46776\n",
            "\n",
            "Epoch 00065: val_loss did not improve from 0.46776\n",
            "\n",
            "Epoch 00066: val_loss did not improve from 0.46776\n",
            "\n",
            "Epoch 00067: val_loss did not improve from 0.46776\n",
            "\n",
            "Epoch 00068: val_loss did not improve from 0.46776\n",
            "\n",
            "Epoch 00069: val_loss did not improve from 0.46776\n",
            "\n",
            "Epoch 00070: val_loss improved from 0.46776 to 0.46771, saving model to model/titanic.h5\n",
            "\n",
            "Epoch 00071: val_loss improved from 0.46771 to 0.46762, saving model to model/titanic.h5\n",
            "\n",
            "Epoch 00072: val_loss did not improve from 0.46762\n",
            "\n",
            "Epoch 00073: val_loss did not improve from 0.46762\n",
            "\n",
            "Epoch 00074: val_loss did not improve from 0.46762\n",
            "\n",
            "Epoch 00075: val_loss did not improve from 0.46762\n",
            "\n",
            "Epoch 00076: val_loss did not improve from 0.46762\n",
            "\n",
            "Epoch 00077: val_loss did not improve from 0.46762\n",
            "\n",
            "Epoch 00078: val_loss did not improve from 0.46762\n",
            "\n",
            "Epoch 00079: val_loss did not improve from 0.46762\n",
            "\n",
            "Epoch 00080: val_loss did not improve from 0.46762\n",
            "\n",
            "Epoch 00081: val_loss improved from 0.46762 to 0.46743, saving model to model/titanic.h5\n",
            "\n",
            "Epoch 00082: val_loss improved from 0.46743 to 0.46719, saving model to model/titanic.h5\n",
            "\n",
            "Epoch 00083: val_loss did not improve from 0.46719\n",
            "\n",
            "Epoch 00084: val_loss improved from 0.46719 to 0.46699, saving model to model/titanic.h5\n",
            "\n",
            "Epoch 00085: val_loss improved from 0.46699 to 0.46691, saving model to model/titanic.h5\n",
            "\n",
            "Epoch 00086: val_loss did not improve from 0.46691\n",
            "\n",
            "Epoch 00087: val_loss did not improve from 0.46691\n",
            "\n",
            "Epoch 00088: val_loss did not improve from 0.46691\n",
            "\n",
            "Epoch 00089: val_loss did not improve from 0.46691\n",
            "\n",
            "Epoch 00090: val_loss did not improve from 0.46691\n",
            "\n",
            "Epoch 00091: val_loss did not improve from 0.46691\n",
            "\n",
            "Epoch 00092: val_loss did not improve from 0.46691\n",
            "\n",
            "Epoch 00093: val_loss did not improve from 0.46691\n",
            "\n",
            "Epoch 00094: val_loss did not improve from 0.46691\n",
            "\n",
            "Epoch 00095: val_loss did not improve from 0.46691\n",
            "\n",
            "Epoch 00096: val_loss did not improve from 0.46691\n",
            "\n",
            "Epoch 00097: val_loss did not improve from 0.46691\n",
            "\n",
            "Epoch 00098: val_loss did not improve from 0.46691\n",
            "\n",
            "Epoch 00099: val_loss did not improve from 0.46691\n",
            "\n",
            "Epoch 00100: val_loss did not improve from 0.46691\n",
            "\n",
            "Epoch 00101: val_loss did not improve from 0.46691\n",
            "\n",
            "Epoch 00102: val_loss did not improve from 0.46691\n",
            "\n",
            "Epoch 00103: val_loss did not improve from 0.46691\n",
            "\n",
            "Epoch 00104: val_loss did not improve from 0.46691\n",
            "\n",
            "Epoch 00105: val_loss did not improve from 0.46691\n"
          ]
        }
      ],
      "source": [
        "hist = model.fit(X_train, y_train, validation_split=0.2, verbose=0,\n",
        "                 epochs=200, batch_size=200, \n",
        "                 callbacks=[checkpoint, early_stopping])"
      ]
    },
    {
      "cell_type": "markdown",
      "metadata": {
        "id": "vGxZQUZ3Vk41"
      },
      "source": [
        "## 5. 모델 평가"
      ]
    },
    {
      "cell_type": "code",
      "execution_count": 25,
      "metadata": {
        "colab": {
          "base_uri": "https://localhost:8080/"
        },
        "id": "lUYMd-MVVpTM",
        "outputId": "164da2ba-732d-47e6-a083-a578b402deba"
      },
      "outputs": [
        {
          "name": "stdout",
          "output_type": "stream",
          "text": [
            "6/6 [==============================] - 0s 2ms/step - loss: 0.4045 - accuracy: 0.8268\n"
          ]
        },
        {
          "data": {
            "text/plain": [
              "[0.4044642448425293, 0.826815664768219]"
            ]
          },
          "execution_count": 25,
          "metadata": {},
          "output_type": "execute_result"
        }
      ],
      "source": [
        "from tensorflow.keras.models import load_model\n",
        "best_model = load_model(model_path)\n",
        "best_model.evaluate(X_test, y_test)"
      ]
    },
    {
      "cell_type": "markdown",
      "metadata": {
        "id": "uBygFDI8Vvyb"
      },
      "source": [
        "## 6.학습 과정 시각화"
      ]
    },
    {
      "cell_type": "code",
      "execution_count": 26,
      "metadata": {
        "id": "rFKjzvrlVzjz"
      },
      "outputs": [],
      "source": [
        "y_acc = hist.history['accuracy']\n",
        "y_vloss=hist.history['val_loss']\n",
        "xs = np.arange(1, len(y_acc)+1)"
      ]
    },
    {
      "cell_type": "code",
      "execution_count": 27,
      "metadata": {
        "colab": {
          "base_uri": "https://localhost:8080/",
          "height": 497
        },
        "id": "gSU7olPtV9K7",
        "outputId": "38ba34a2-17ea-4d92-9d65-0eabbc6834a3"
      },
      "outputs": [
        {
          "data": {
            "image/png": "[encoded data removed]",
            "text/plain": [
              "<Figure size 864x576 with 1 Axes>"
            ]
          },
          "metadata": {
            "needs_background": "light"
          },
          "output_type": "display_data"
        }
      ],
      "source": [
        "import matplotlib.pyplot as plt\n",
        "plt.figure(figsize=(12,8))\n",
        "plt.plot(xs, y_acc, ms=5, label='train accuracy')\n",
        "plt.plot(xs, y_vloss, ms=5, label='validation loss')\n",
        "plt.legend()\n",
        "plt.grid()\n",
        "plt.xlabel('Epoch')\n",
        "plt.show()"
      ]
    },
    {
      "cell_type": "markdown",
      "metadata": {
        "id": "x-Qd9XF7WA0i"
      },
      "source": [
        "## 7. Epoch & Batch_size 값 다르게 해서 모델 정의/설정/학습/평가"
      ]
    },
    {
      "cell_type": "code",
      "execution_count": 28,
      "metadata": {
        "id": "f-ZihLFeWJab"
      },
      "outputs": [],
      "source": [
        "del model"
      ]
    },
    {
      "cell_type": "code",
      "execution_count": 29,
      "metadata": {
        "id": "NCvZzAPeWKD1"
      },
      "outputs": [],
      "source": [
        "model = Sequential([\n",
        "    Dense(30, input_dim=7, activation='relu'),\n",
        "    Dense(12, activation='relu'),\n",
        "    Dense(8, activation='relu'),\n",
        "    Dense(1, activation='sigmoid')\n",
        "])"
      ]
    },
    {
      "cell_type": "code",
      "execution_count": 30,
      "metadata": {
        "colab": {
          "base_uri": "https://localhost:8080/"
        },
        "id": "UMcHvgKjWLNr",
        "outputId": "91d1dd0d-509d-4194-aaa8-163976cb7b0a"
      },
      "outputs": [
        {
          "name": "stdout",
          "output_type": "stream",
          "text": [
            "\n",
            "Epoch 00001: val_loss did not improve from 0.46691\n",
            "\n",
            "Epoch 00002: val_loss did not improve from 0.46691\n",
            "\n",
            "Epoch 00003: val_loss did not improve from 0.46691\n",
            "\n",
            "Epoch 00004: val_loss did not improve from 0.46691\n",
            "\n",
            "Epoch 00005: val_loss did not improve from 0.46691\n",
            "\n",
            "Epoch 00006: val_loss did not improve from 0.46691\n",
            "\n",
            "Epoch 00007: val_loss did not improve from 0.46691\n",
            "\n",
            "Epoch 00008: val_loss did not improve from 0.46691\n",
            "\n",
            "Epoch 00009: val_loss did not improve from 0.46691\n",
            "\n",
            "Epoch 00010: val_loss did not improve from 0.46691\n",
            "\n",
            "Epoch 00011: val_loss did not improve from 0.46691\n",
            "\n",
            "Epoch 00012: val_loss did not improve from 0.46691\n",
            "\n",
            "Epoch 00013: val_loss did not improve from 0.46691\n",
            "\n",
            "Epoch 00014: val_loss did not improve from 0.46691\n",
            "\n",
            "Epoch 00015: val_loss did not improve from 0.46691\n",
            "\n",
            "Epoch 00016: val_loss did not improve from 0.46691\n",
            "\n",
            "Epoch 00017: val_loss did not improve from 0.46691\n",
            "\n",
            "Epoch 00018: val_loss did not improve from 0.46691\n",
            "\n",
            "Epoch 00019: val_loss did not improve from 0.46691\n",
            "\n",
            "Epoch 00020: val_loss did not improve from 0.46691\n",
            "\n",
            "Epoch 00021: val_loss did not improve from 0.46691\n",
            "\n",
            "Epoch 00022: val_loss did not improve from 0.46691\n",
            "\n",
            "Epoch 00023: val_loss did not improve from 0.46691\n",
            "\n",
            "Epoch 00024: val_loss did not improve from 0.46691\n",
            "\n",
            "Epoch 00025: val_loss did not improve from 0.46691\n",
            "\n",
            "Epoch 00026: val_loss did not improve from 0.46691\n",
            "\n",
            "Epoch 00027: val_loss did not improve from 0.46691\n",
            "\n",
            "Epoch 00028: val_loss did not improve from 0.46691\n",
            "\n",
            "Epoch 00029: val_loss did not improve from 0.46691\n",
            "\n",
            "Epoch 00030: val_loss did not improve from 0.46691\n",
            "\n",
            "Epoch 00031: val_loss did not improve from 0.46691\n",
            "\n",
            "Epoch 00032: val_loss did not improve from 0.46691\n",
            "\n",
            "Epoch 00033: val_loss did not improve from 0.46691\n",
            "\n",
            "Epoch 00034: val_loss did not improve from 0.46691\n",
            "\n",
            "Epoch 00035: val_loss did not improve from 0.46691\n",
            "\n",
            "Epoch 00036: val_loss did not improve from 0.46691\n",
            "\n",
            "Epoch 00037: val_loss did not improve from 0.46691\n",
            "\n",
            "Epoch 00038: val_loss did not improve from 0.46691\n",
            "\n",
            "Epoch 00039: val_loss did not improve from 0.46691\n",
            "\n",
            "Epoch 00040: val_loss did not improve from 0.46691\n",
            "\n",
            "Epoch 00041: val_loss did not improve from 0.46691\n",
            "\n",
            "Epoch 00042: val_loss did not improve from 0.46691\n",
            "\n",
            "Epoch 00043: val_loss did not improve from 0.46691\n",
            "\n",
            "Epoch 00044: val_loss did not improve from 0.46691\n",
            "\n",
            "Epoch 00045: val_loss did not improve from 0.46691\n",
            "\n",
            "Epoch 00046: val_loss did not improve from 0.46691\n",
            "\n",
            "Epoch 00047: val_loss did not improve from 0.46691\n",
            "\n",
            "Epoch 00048: val_loss did not improve from 0.46691\n",
            "\n",
            "Epoch 00049: val_loss did not improve from 0.46691\n",
            "\n",
            "Epoch 00050: val_loss did not improve from 0.46691\n",
            "\n",
            "Epoch 00051: val_loss did not improve from 0.46691\n",
            "\n",
            "Epoch 00052: val_loss did not improve from 0.46691\n",
            "\n",
            "Epoch 00053: val_loss did not improve from 0.46691\n",
            "\n",
            "Epoch 00054: val_loss did not improve from 0.46691\n",
            "\n",
            "Epoch 00055: val_loss did not improve from 0.46691\n",
            "\n",
            "Epoch 00056: val_loss did not improve from 0.46691\n",
            "\n",
            "Epoch 00057: val_loss did not improve from 0.46691\n",
            "\n",
            "Epoch 00058: val_loss did not improve from 0.46691\n",
            "\n",
            "Epoch 00059: val_loss did not improve from 0.46691\n",
            "\n",
            "Epoch 00060: val_loss did not improve from 0.46691\n",
            "\n",
            "Epoch 00061: val_loss did not improve from 0.46691\n",
            "\n",
            "Epoch 00062: val_loss did not improve from 0.46691\n",
            "\n",
            "Epoch 00063: val_loss did not improve from 0.46691\n",
            "\n",
            "Epoch 00064: val_loss did not improve from 0.46691\n",
            "\n",
            "Epoch 00065: val_loss did not improve from 0.46691\n",
            "\n",
            "Epoch 00066: val_loss did not improve from 0.46691\n",
            "\n",
            "Epoch 00067: val_loss did not improve from 0.46691\n",
            "\n",
            "Epoch 00068: val_loss did not improve from 0.46691\n",
            "\n",
            "Epoch 00069: val_loss did not improve from 0.46691\n",
            "\n",
            "Epoch 00070: val_loss did not improve from 0.46691\n",
            "\n",
            "Epoch 00071: val_loss did not improve from 0.46691\n",
            "\n",
            "Epoch 00072: val_loss did not improve from 0.46691\n",
            "\n",
            "Epoch 00073: val_loss did not improve from 0.46691\n",
            "\n",
            "Epoch 00074: val_loss did not improve from 0.46691\n",
            "\n",
            "Epoch 00075: val_loss did not improve from 0.46691\n",
            "\n",
            "Epoch 00076: val_loss improved from 0.46691 to 0.46682, saving model to model/titanic.h5\n",
            "\n",
            "Epoch 00077: val_loss improved from 0.46682 to 0.46648, saving model to model/titanic.h5\n",
            "\n",
            "Epoch 00078: val_loss improved from 0.46648 to 0.46580, saving model to model/titanic.h5\n",
            "\n",
            "Epoch 00079: val_loss improved from 0.46580 to 0.46557, saving model to model/titanic.h5\n",
            "\n",
            "Epoch 00080: val_loss improved from 0.46557 to 0.46477, saving model to model/titanic.h5\n",
            "\n",
            "Epoch 00081: val_loss improved from 0.46477 to 0.46430, saving model to model/titanic.h5\n",
            "\n",
            "Epoch 00082: val_loss improved from 0.46430 to 0.46368, saving model to model/titanic.h5\n",
            "\n",
            "Epoch 00083: val_loss improved from 0.46368 to 0.46351, saving model to model/titanic.h5\n",
            "\n",
            "Epoch 00084: val_loss improved from 0.46351 to 0.46274, saving model to model/titanic.h5\n",
            "\n",
            "Epoch 00085: val_loss improved from 0.46274 to 0.46229, saving model to model/titanic.h5\n",
            "\n",
            "Epoch 00086: val_loss improved from 0.46229 to 0.46210, saving model to model/titanic.h5\n",
            "\n",
            "Epoch 00087: val_loss improved from 0.46210 to 0.46172, saving model to model/titanic.h5\n",
            "\n",
            "Epoch 00088: val_loss improved from 0.46172 to 0.46147, saving model to model/titanic.h5\n",
            "\n",
            "Epoch 00089: val_loss improved from 0.46147 to 0.46130, saving model to model/titanic.h5\n",
            "\n",
            "Epoch 00090: val_loss improved from 0.46130 to 0.46119, saving model to model/titanic.h5\n",
            "\n",
            "Epoch 00091: val_loss did not improve from 0.46119\n",
            "\n",
            "Epoch 00092: val_loss improved from 0.46119 to 0.46092, saving model to model/titanic.h5\n",
            "\n",
            "Epoch 00093: val_loss improved from 0.46092 to 0.46011, saving model to model/titanic.h5\n",
            "\n",
            "Epoch 00094: val_loss improved from 0.46011 to 0.45998, saving model to model/titanic.h5\n",
            "\n",
            "Epoch 00095: val_loss improved from 0.45998 to 0.45936, saving model to model/titanic.h5\n",
            "\n",
            "Epoch 00096: val_loss improved from 0.45936 to 0.45916, saving model to model/titanic.h5\n",
            "\n",
            "Epoch 00097: val_loss improved from 0.45916 to 0.45906, saving model to model/titanic.h5\n",
            "\n",
            "Epoch 00098: val_loss improved from 0.45906 to 0.45857, saving model to model/titanic.h5\n",
            "\n",
            "Epoch 00099: val_loss improved from 0.45857 to 0.45822, saving model to model/titanic.h5\n",
            "\n",
            "Epoch 00100: val_loss did not improve from 0.45822\n",
            "\n",
            "Epoch 00101: val_loss did not improve from 0.45822\n",
            "\n",
            "Epoch 00102: val_loss did not improve from 0.45822\n",
            "\n",
            "Epoch 00103: val_loss improved from 0.45822 to 0.45768, saving model to model/titanic.h5\n",
            "\n",
            "Epoch 00104: val_loss improved from 0.45768 to 0.45720, saving model to model/titanic.h5\n",
            "\n",
            "Epoch 00105: val_loss improved from 0.45720 to 0.45706, saving model to model/titanic.h5\n",
            "\n",
            "Epoch 00106: val_loss did not improve from 0.45706\n",
            "\n",
            "Epoch 00107: val_loss did not improve from 0.45706\n",
            "\n",
            "Epoch 00108: val_loss did not improve from 0.45706\n",
            "\n",
            "Epoch 00109: val_loss did not improve from 0.45706\n",
            "\n",
            "Epoch 00110: val_loss improved from 0.45706 to 0.45649, saving model to model/titanic.h5\n",
            "\n",
            "Epoch 00111: val_loss did not improve from 0.45649\n",
            "\n",
            "Epoch 00112: val_loss improved from 0.45649 to 0.45626, saving model to model/titanic.h5\n",
            "\n",
            "Epoch 00113: val_loss improved from 0.45626 to 0.45625, saving model to model/titanic.h5\n",
            "\n",
            "Epoch 00114: val_loss did not improve from 0.45625\n",
            "\n",
            "Epoch 00115: val_loss did not improve from 0.45625\n",
            "\n",
            "Epoch 00116: val_loss improved from 0.45625 to 0.45616, saving model to model/titanic.h5\n",
            "\n",
            "Epoch 00117: val_loss improved from 0.45616 to 0.45585, saving model to model/titanic.h5\n",
            "\n",
            "Epoch 00118: val_loss improved from 0.45585 to 0.45555, saving model to model/titanic.h5\n",
            "\n",
            "Epoch 00119: val_loss improved from 0.45555 to 0.45519, saving model to model/titanic.h5\n",
            "\n",
            "Epoch 00120: val_loss did not improve from 0.45519\n",
            "\n",
            "Epoch 00121: val_loss did not improve from 0.45519\n",
            "\n",
            "Epoch 00122: val_loss improved from 0.45519 to 0.45496, saving model to model/titanic.h5\n",
            "\n",
            "Epoch 00123: val_loss did not improve from 0.45496\n",
            "\n",
            "Epoch 00124: val_loss did not improve from 0.45496\n",
            "\n",
            "Epoch 00125: val_loss did not improve from 0.45496\n",
            "\n",
            "Epoch 00126: val_loss did not improve from 0.45496\n",
            "\n",
            "Epoch 00127: val_loss did not improve from 0.45496\n",
            "\n",
            "Epoch 00128: val_loss did not improve from 0.45496\n",
            "\n",
            "Epoch 00129: val_loss did not improve from 0.45496\n",
            "\n",
            "Epoch 00130: val_loss did not improve from 0.45496\n",
            "\n",
            "Epoch 00131: val_loss did not improve from 0.45496\n",
            "\n",
            "Epoch 00132: val_loss did not improve from 0.45496\n",
            "\n",
            "Epoch 00133: val_loss did not improve from 0.45496\n",
            "\n",
            "Epoch 00134: val_loss did not improve from 0.45496\n",
            "\n",
            "Epoch 00135: val_loss did not improve from 0.45496\n",
            "\n",
            "Epoch 00136: val_loss improved from 0.45496 to 0.45472, saving model to model/titanic.h5\n",
            "\n",
            "Epoch 00137: val_loss did not improve from 0.45472\n",
            "\n",
            "Epoch 00138: val_loss did not improve from 0.45472\n",
            "\n",
            "Epoch 00139: val_loss did not improve from 0.45472\n",
            "\n",
            "Epoch 00140: val_loss did not improve from 0.45472\n",
            "\n",
            "Epoch 00141: val_loss did not improve from 0.45472\n",
            "\n",
            "Epoch 00142: val_loss did not improve from 0.45472\n",
            "\n",
            "Epoch 00143: val_loss did not improve from 0.45472\n",
            "\n",
            "Epoch 00144: val_loss did not improve from 0.45472\n",
            "\n",
            "Epoch 00145: val_loss did not improve from 0.45472\n",
            "\n",
            "Epoch 00146: val_loss did not improve from 0.45472\n",
            "\n",
            "Epoch 00147: val_loss did not improve from 0.45472\n",
            "\n",
            "Epoch 00148: val_loss did not improve from 0.45472\n",
            "\n",
            "Epoch 00149: val_loss did not improve from 0.45472\n",
            "\n",
            "Epoch 00150: val_loss did not improve from 0.45472\n",
            "\n",
            "Epoch 00151: val_loss did not improve from 0.45472\n",
            "\n",
            "Epoch 00152: val_loss did not improve from 0.45472\n",
            "\n",
            "Epoch 00153: val_loss did not improve from 0.45472\n",
            "\n",
            "Epoch 00154: val_loss did not improve from 0.45472\n",
            "\n",
            "Epoch 00155: val_loss did not improve from 0.45472\n",
            "\n",
            "Epoch 00156: val_loss did not improve from 0.45472\n"
          ]
        }
      ],
      "source": [
        "model.compile(optimizer='adam', loss='binary_crossentropy', metrics=['accuracy'])\n",
        "hist = model.fit(X_train, y_train, validation_split=0.2, verbose=0,\n",
        "                 epochs=1000, batch_size=200,\n",
        "                 callbacks=[checkpoint, early_stopping])"
      ]
    },
    {
      "cell_type": "code",
      "execution_count": 31,
      "metadata": {
        "colab": {
          "base_uri": "https://localhost:8080/"
        },
        "id": "4K58xfwAWQRq",
        "outputId": "5999196e-51f0-4ca5-cb34-8fd124f72661"
      },
      "outputs": [
        {
          "name": "stdout",
          "output_type": "stream",
          "text": [
            "6/6 [==============================] - 0s 2ms/step - loss: 0.4132 - accuracy: 0.8436\n"
          ]
        },
        {
          "data": {
            "text/plain": [
              "[0.4131556749343872, 0.8435754179954529]"
            ]
          },
          "execution_count": 31,
          "metadata": {},
          "output_type": "execute_result"
        }
      ],
      "source": [
        "from tensorflow.keras.models import load_model\n",
        "best_model = load_model(model_path)\n",
        "best_model.evaluate(X_test, y_test)"
      ]
    },
    {
      "cell_type": "markdown",
      "metadata": {
        "id": "L5eYEn1TWVhP"
      },
      "source": [
        "* 학습과정 시각화"
      ]
    },
    {
      "cell_type": "code",
      "execution_count": 32,
      "metadata": {
        "id": "0P4sFlbGWYsV"
      },
      "outputs": [],
      "source": [
        "y_acc = hist.history['accuracy']\n",
        "y_vloss = hist.history['val_loss']\n",
        "xs = np.arange(1, len(y_acc)+1)"
      ]
    },
    {
      "cell_type": "code",
      "execution_count": 33,
      "metadata": {
        "colab": {
          "base_uri": "https://localhost:8080/",
          "height": 497
        },
        "id": "bINJ4qZtWZur",
        "outputId": "0113a299-fb62-4637-cf8c-5e7707180eb1"
      },
      "outputs": [
        {
          "data": {
            "image/png": "[encoded data removed]",
            "text/plain": [
              "<Figure size 864x576 with 1 Axes>"
            ]
          },
          "metadata": {
            "needs_background": "light"
          },
          "output_type": "display_data"
        }
      ],
      "source": [
        "plt.figure(figsize=(12,8))\n",
        "plt.plot(xs, y_acc, ms=5, label='train accuracy')\n",
        "plt.plot(xs, y_vloss, ms=5, label='validation loss')\n",
        "plt.legend()\n",
        "plt.grid()\n",
        "plt.xlabel('Epoch')\n",
        "plt.show()"
      ]
    },
    {
      "cell_type": "markdown",
      "metadata": {
        "id": "cZP5TupuWa2R"
      },
      "source": [
        "8. 은닉층 개수 늘려서 (깔대기형)"
      ]
    },
    {
      "cell_type": "code",
      "execution_count": 37,
      "metadata": {
        "id": "zUEJAgnDcHt6"
      },
      "outputs": [],
      "source": [
        "del model"
      ]
    },
    {
      "cell_type": "code",
      "execution_count": 38,
      "metadata": {
        "colab": {
          "base_uri": "https://localhost:8080/"
        },
        "id": "xGnBHJPZcJKr",
        "outputId": "fea98440-cd5b-4f61-916b-9d590aaec23a"
      },
      "outputs": [
        {
          "name": "stdout",
          "output_type": "stream",
          "text": [
            "Model: \"sequential_3\"\n",
            "_________________________________________________________________\n",
            " Layer (type)                Output Shape              Param #   \n",
            "=================================================================\n",
            " dense_15 (Dense)            (None, 64)                512       \n",
            "                                                                 \n",
            " dense_16 (Dense)            (None, 32)                2080      \n",
            "                                                                 \n",
            " dense_17 (Dense)            (None, 24)                792       \n",
            "                                                                 \n",
            " dense_18 (Dense)            (None, 12)                300       \n",
            "                                                                 \n",
            " dense_19 (Dense)            (None, 8)                 104       \n",
            "                                                                 \n",
            " dense_20 (Dense)            (None, 4)                 36        \n",
            "                                                                 \n",
            " dense_21 (Dense)            (None, 1)                 5         \n",
            "                                                                 \n",
            "=================================================================\n",
            "Total params: 3,829\n",
            "Trainable params: 3,829\n",
            "Non-trainable params: 0\n",
            "_________________________________________________________________\n"
          ]
        }
      ],
      "source": [
        "model2 = Sequential([\n",
        "    Dense(64, input_dim=7, activation='relu'),\n",
        "    Dense(32, activation='relu'),\n",
        "    Dense(24, activation='relu'),\n",
        "    Dense(12, activation='relu'),\n",
        "    Dense(8, activation='relu'),\n",
        "    Dense(4, activation='relu'),\n",
        "    Dense(1, activation='sigmoid')\n",
        "])\n",
        "model2.summary()"
      ]
    },
    {
      "cell_type": "code",
      "execution_count": 39,
      "metadata": {
        "colab": {
          "base_uri": "https://localhost:8080/"
        },
        "id": "qdH_MqqMcTy6",
        "outputId": "bce1c61f-fab8-4014-a109-cc8808525372"
      },
      "outputs": [
        {
          "name": "stdout",
          "output_type": "stream",
          "text": [
            "\n",
            "Epoch 00001: val_loss did not improve from 0.45472\n",
            "\n",
            "Epoch 00002: val_loss did not improve from 0.45472\n",
            "\n",
            "Epoch 00003: val_loss did not improve from 0.45472\n",
            "\n",
            "Epoch 00004: val_loss did not improve from 0.45472\n",
            "\n",
            "Epoch 00005: val_loss did not improve from 0.45472\n",
            "\n",
            "Epoch 00006: val_loss did not improve from 0.45472\n",
            "\n",
            "Epoch 00007: val_loss did not improve from 0.45472\n",
            "\n",
            "Epoch 00008: val_loss did not improve from 0.45472\n",
            "\n",
            "Epoch 00009: val_loss did not improve from 0.45472\n",
            "\n",
            "Epoch 00010: val_loss did not improve from 0.45472\n",
            "\n",
            "Epoch 00011: val_loss did not improve from 0.45472\n",
            "\n",
            "Epoch 00012: val_loss did not improve from 0.45472\n",
            "\n",
            "Epoch 00013: val_loss did not improve from 0.45472\n",
            "\n",
            "Epoch 00014: val_loss did not improve from 0.45472\n",
            "\n",
            "Epoch 00015: val_loss did not improve from 0.45472\n",
            "\n",
            "Epoch 00016: val_loss did not improve from 0.45472\n",
            "\n",
            "Epoch 00017: val_loss did not improve from 0.45472\n",
            "\n",
            "Epoch 00018: val_loss did not improve from 0.45472\n",
            "\n",
            "Epoch 00019: val_loss did not improve from 0.45472\n",
            "\n",
            "Epoch 00020: val_loss did not improve from 0.45472\n",
            "\n",
            "Epoch 00021: val_loss did not improve from 0.45472\n",
            "\n",
            "Epoch 00022: val_loss did not improve from 0.45472\n",
            "\n",
            "Epoch 00023: val_loss did not improve from 0.45472\n",
            "\n",
            "Epoch 00024: val_loss did not improve from 0.45472\n",
            "\n",
            "Epoch 00025: val_loss did not improve from 0.45472\n",
            "\n",
            "Epoch 00026: val_loss did not improve from 0.45472\n",
            "\n",
            "Epoch 00027: val_loss did not improve from 0.45472\n",
            "\n",
            "Epoch 00028: val_loss did not improve from 0.45472\n",
            "\n",
            "Epoch 00029: val_loss did not improve from 0.45472\n",
            "\n",
            "Epoch 00030: val_loss did not improve from 0.45472\n",
            "\n",
            "Epoch 00031: val_loss did not improve from 0.45472\n",
            "\n",
            "Epoch 00032: val_loss did not improve from 0.45472\n",
            "\n",
            "Epoch 00033: val_loss did not improve from 0.45472\n",
            "\n",
            "Epoch 00034: val_loss did not improve from 0.45472\n",
            "\n",
            "Epoch 00035: val_loss did not improve from 0.45472\n",
            "\n",
            "Epoch 00036: val_loss did not improve from 0.45472\n",
            "\n",
            "Epoch 00037: val_loss did not improve from 0.45472\n",
            "\n",
            "Epoch 00038: val_loss did not improve from 0.45472\n",
            "\n",
            "Epoch 00039: val_loss did not improve from 0.45472\n",
            "\n",
            "Epoch 00040: val_loss did not improve from 0.45472\n",
            "\n",
            "Epoch 00041: val_loss did not improve from 0.45472\n",
            "\n",
            "Epoch 00042: val_loss did not improve from 0.45472\n",
            "\n",
            "Epoch 00043: val_loss did not improve from 0.45472\n",
            "\n",
            "Epoch 00044: val_loss did not improve from 0.45472\n",
            "\n",
            "Epoch 00045: val_loss did not improve from 0.45472\n",
            "\n",
            "Epoch 00046: val_loss did not improve from 0.45472\n",
            "\n",
            "Epoch 00047: val_loss did not improve from 0.45472\n",
            "\n",
            "Epoch 00048: val_loss did not improve from 0.45472\n",
            "\n",
            "Epoch 00049: val_loss did not improve from 0.45472\n",
            "\n",
            "Epoch 00050: val_loss did not improve from 0.45472\n",
            "\n",
            "Epoch 00051: val_loss did not improve from 0.45472\n",
            "\n",
            "Epoch 00052: val_loss did not improve from 0.45472\n",
            "\n",
            "Epoch 00053: val_loss did not improve from 0.45472\n",
            "\n",
            "Epoch 00054: val_loss did not improve from 0.45472\n",
            "\n",
            "Epoch 00055: val_loss did not improve from 0.45472\n",
            "\n",
            "Epoch 00056: val_loss did not improve from 0.45472\n",
            "\n",
            "Epoch 00057: val_loss did not improve from 0.45472\n",
            "\n",
            "Epoch 00058: val_loss did not improve from 0.45472\n",
            "\n",
            "Epoch 00059: val_loss did not improve from 0.45472\n",
            "\n",
            "Epoch 00060: val_loss did not improve from 0.45472\n",
            "\n",
            "Epoch 00061: val_loss did not improve from 0.45472\n",
            "\n",
            "Epoch 00062: val_loss did not improve from 0.45472\n",
            "\n",
            "Epoch 00063: val_loss did not improve from 0.45472\n",
            "\n",
            "Epoch 00064: val_loss did not improve from 0.45472\n",
            "\n",
            "Epoch 00065: val_loss did not improve from 0.45472\n",
            "\n",
            "Epoch 00066: val_loss did not improve from 0.45472\n",
            "\n",
            "Epoch 00067: val_loss did not improve from 0.45472\n",
            "\n",
            "Epoch 00068: val_loss did not improve from 0.45472\n",
            "\n",
            "Epoch 00069: val_loss did not improve from 0.45472\n",
            "\n",
            "Epoch 00070: val_loss did not improve from 0.45472\n",
            "\n",
            "Epoch 00071: val_loss did not improve from 0.45472\n",
            "\n",
            "Epoch 00072: val_loss did not improve from 0.45472\n",
            "\n",
            "Epoch 00073: val_loss did not improve from 0.45472\n",
            "\n",
            "Epoch 00074: val_loss did not improve from 0.45472\n",
            "\n",
            "Epoch 00075: val_loss did not improve from 0.45472\n",
            "\n",
            "Epoch 00076: val_loss did not improve from 0.45472\n",
            "\n",
            "Epoch 00077: val_loss did not improve from 0.45472\n",
            "\n",
            "Epoch 00078: val_loss did not improve from 0.45472\n",
            "\n",
            "Epoch 00079: val_loss did not improve from 0.45472\n",
            "\n",
            "Epoch 00080: val_loss did not improve from 0.45472\n",
            "\n",
            "Epoch 00081: val_loss did not improve from 0.45472\n",
            "\n",
            "Epoch 00082: val_loss did not improve from 0.45472\n",
            "\n",
            "Epoch 00083: val_loss did not improve from 0.45472\n",
            "\n",
            "Epoch 00084: val_loss did not improve from 0.45472\n"
          ]
        }
      ],
      "source": [
        "model2.compile(optimizer='adam', loss='binary_crossentropy', metrics=['accuracy'])\n",
        "hist2 = model2.fit(X_train, y_train, validation_split=0.2, verbose=0,\n",
        "                 epochs=200, batch_size=200,\n",
        "                 callbacks=[checkpoint, early_stopping])"
      ]
    },
    {
      "cell_type": "code",
      "execution_count": 40,
      "metadata": {
        "colab": {
          "base_uri": "https://localhost:8080/"
        },
        "id": "TM1qGO_xcVrd",
        "outputId": "f50ddfac-4741-4aa7-d62e-bdbf68a137ad"
      },
      "outputs": [
        {
          "name": "stdout",
          "output_type": "stream",
          "text": [
            "6/6 [==============================] - 0s 2ms/step - loss: 0.4132 - accuracy: 0.8436\n"
          ]
        },
        {
          "data": {
            "text/plain": [
              "[0.4131556749343872, 0.8435754179954529]"
            ]
          },
          "execution_count": 40,
          "metadata": {},
          "output_type": "execute_result"
        }
      ],
      "source": [
        "best_model = load_model(model_path)\n",
        "best_model.evaluate(X_test, y_test)"
      ]
    },
    {
      "cell_type": "markdown",
      "metadata": {
        "id": "979or2uEc4C-"
      },
      "source": [
        "* 학습 과정 시각화"
      ]
    },
    {
      "cell_type": "code",
      "execution_count": 41,
      "metadata": {
        "id": "mkn4Gyi3cioH"
      },
      "outputs": [],
      "source": [
        "y_acc = hist2.history['accuracy']\n",
        "y_vloss = hist2.history['val_loss']\n",
        "xs = np.arange(1, len(y_acc)+1)"
      ]
    },
    {
      "cell_type": "code",
      "execution_count": 42,
      "metadata": {
        "colab": {
          "base_uri": "https://localhost:8080/",
          "height": 497
        },
        "id": "McpCmCsXcl-G",
        "outputId": "4d7b68ba-656f-4f1b-8dff-84c72fc65a49"
      },
      "outputs": [
        {
          "data": {
            "image/png": "[encoded data removed]",
            "text/plain": [
              "<Figure size 864x576 with 1 Axes>"
            ]
          },
          "metadata": {
            "needs_background": "light"
          },
          "output_type": "display_data"
        }
      ],
      "source": [
        "plt.figure(figsize=(12,8))\n",
        "plt.plot(xs, y_acc, ms=5, label='train accuracy')\n",
        "plt.plot(xs, y_vloss, ms=5, label='validation loss')\n",
        "plt.legend()\n",
        "plt.grid()\n",
        "plt.xlabel('Epoch')\n",
        "plt.show()"
      ]
    },
    {
      "cell_type": "markdown",
      "metadata": {
        "id": "xljx6kEJck8u"
      },
      "source": [
        "## 9. 은닉층 개수 늘려서 (항아리형)"
      ]
    },
    {
      "cell_type": "markdown",
      "metadata": {
        "id": "htDgkNmmdTGe"
      },
      "source": [
        "* 은닉층 6개 -> 4개 감소"
      ]
    },
    {
      "cell_type": "code",
      "execution_count": 130,
      "metadata": {
        "id": "cROh3-KlMmbO"
      },
      "outputs": [],
      "source": [
        "del model3"
      ]
    },
    {
      "cell_type": "code",
      "execution_count": 273,
      "metadata": {
        "id": "tqYISaeyFkOg"
      },
      "outputs": [],
      "source": [
        "del model3"
      ]
    },
    {
      "cell_type": "code",
      "execution_count": 274,
      "metadata": {
        "colab": {
          "base_uri": "https://localhost:8080/"
        },
        "id": "WLAhvBOjdXeH",
        "outputId": "39362599-ce75-4e13-d803-2a49bdfab6d4"
      },
      "outputs": [
        {
          "name": "stdout",
          "output_type": "stream",
          "text": [
            "Model: \"sequential_60\"\n",
            "_________________________________________________________________\n",
            " Layer (type)                Output Shape              Param #   \n",
            "=================================================================\n",
            " dense_470 (Dense)           (None, 512)               4096      \n",
            "                                                                 \n",
            " dense_471 (Dense)           (None, 256)               131328    \n",
            "                                                                 \n",
            " dense_472 (Dense)           (None, 128)               32896     \n",
            "                                                                 \n",
            " dense_473 (Dense)           (None, 64)                8256      \n",
            "                                                                 \n",
            " dense_474 (Dense)           (None, 32)                2080      \n",
            "                                                                 \n",
            " dense_475 (Dense)           (None, 16)                528       \n",
            "                                                                 \n",
            " dense_476 (Dense)           (None, 8)                 136       \n",
            "                                                                 \n",
            " dense_477 (Dense)           (None, 4)                 36        \n",
            "                                                                 \n",
            " dense_478 (Dense)           (None, 2)                 10        \n",
            "                                                                 \n",
            " dense_479 (Dense)           (None, 1)                 3         \n",
            "                                                                 \n",
            "=================================================================\n",
            "Total params: 179,369\n",
            "Trainable params: 179,369\n",
            "Non-trainable params: 0\n",
            "_________________________________________________________________\n"
          ]
        }
      ],
      "source": [
        "model3 = Sequential([ \n",
        "    Dense(512, input_dim=7, activation='relu'),\n",
        "    Dense(256, activation='relu'),\n",
        "    Dense(128, activation='relu'),\n",
        "    Dense(64, activation='relu'),\n",
        "    Dense(32, activation='relu'),\n",
        "    Dense(16, activation='relu'),\n",
        "    Dense(8, activation='relu'),\n",
        "    Dense(4, activation='relu'),\n",
        "    Dense(2, activation='relu'),\n",
        "    Dense(1, activation='sigmoid')\n",
        "])\n",
        "model3.summary()"
      ]
    },
    {
      "cell_type": "code",
      "execution_count": 275,
      "metadata": {
        "id": "SoT_la3oT3gS"
      },
      "outputs": [],
      "source": [
        "model_path3 = 'model/best_titanic3.h5'\n",
        "# model_path = 'model/titanic_{epoch:03d}_{val_loss:.4f}.h5'\n",
        "\n",
        "from tensorflow.keras.callbacks import ModelCheckpoint\n",
        "checkpoint = ModelCheckpoint(\n",
        "    model_path3, monitor = 'val_loss', save_best_only=True, verbose = 1\n",
        ")"
      ]
    },
    {
      "cell_type": "code",
      "execution_count": 276,
      "metadata": {
        "colab": {
          "base_uri": "https://localhost:8080/"
        },
        "id": "-xLed0wHCR4q",
        "outputId": "44425b78-174a-48e8-fee1-01c79db629a8"
      },
      "outputs": [
        {
          "name": "stdout",
          "output_type": "stream",
          "text": [
            "\n",
            "Epoch 00001: val_loss improved from inf to 0.63342, saving model to model/best_titanic3.h5\n",
            "\n",
            "Epoch 00002: val_loss improved from 0.63342 to 0.58635, saving model to model/best_titanic3.h5\n",
            "\n",
            "Epoch 00003: val_loss improved from 0.58635 to 0.57710, saving model to model/best_titanic3.h5\n",
            "\n",
            "Epoch 00004: val_loss did not improve from 0.57710\n",
            "\n",
            "Epoch 00005: val_loss improved from 0.57710 to 0.56517, saving model to model/best_titanic3.h5\n",
            "\n",
            "Epoch 00006: val_loss improved from 0.56517 to 0.55811, saving model to model/best_titanic3.h5\n",
            "\n",
            "Epoch 00007: val_loss did not improve from 0.55811\n",
            "\n",
            "Epoch 00008: val_loss improved from 0.55811 to 0.55751, saving model to model/best_titanic3.h5\n",
            "\n",
            "Epoch 00009: val_loss did not improve from 0.55751\n",
            "\n",
            "Epoch 00010: val_loss did not improve from 0.55751\n",
            "\n",
            "Epoch 00011: val_loss did not improve from 0.55751\n",
            "\n",
            "Epoch 00012: val_loss improved from 0.55751 to 0.55684, saving model to model/best_titanic3.h5\n",
            "\n",
            "Epoch 00013: val_loss improved from 0.55684 to 0.55615, saving model to model/best_titanic3.h5\n",
            "\n",
            "Epoch 00014: val_loss improved from 0.55615 to 0.55594, saving model to model/best_titanic3.h5\n",
            "\n",
            "Epoch 00015: val_loss did not improve from 0.55594\n",
            "\n",
            "Epoch 00016: val_loss did not improve from 0.55594\n",
            "\n",
            "Epoch 00017: val_loss improved from 0.55594 to 0.55100, saving model to model/best_titanic3.h5\n",
            "\n",
            "Epoch 00018: val_loss improved from 0.55100 to 0.54679, saving model to model/best_titanic3.h5\n",
            "\n",
            "Epoch 00019: val_loss did not improve from 0.54679\n",
            "\n",
            "Epoch 00020: val_loss did not improve from 0.54679\n",
            "\n",
            "Epoch 00021: val_loss did not improve from 0.54679\n",
            "\n",
            "Epoch 00022: val_loss did not improve from 0.54679\n",
            "\n",
            "Epoch 00023: val_loss improved from 0.54679 to 0.54602, saving model to model/best_titanic3.h5\n",
            "\n",
            "Epoch 00024: val_loss did not improve from 0.54602\n",
            "\n",
            "Epoch 00025: val_loss improved from 0.54602 to 0.54353, saving model to model/best_titanic3.h5\n",
            "\n",
            "Epoch 00026: val_loss did not improve from 0.54353\n",
            "\n",
            "Epoch 00027: val_loss did not improve from 0.54353\n",
            "\n",
            "Epoch 00028: val_loss improved from 0.54353 to 0.54331, saving model to model/best_titanic3.h5\n",
            "\n",
            "Epoch 00029: val_loss did not improve from 0.54331\n",
            "\n",
            "Epoch 00030: val_loss did not improve from 0.54331\n",
            "\n",
            "Epoch 00031: val_loss did not improve from 0.54331\n",
            "\n",
            "Epoch 00032: val_loss did not improve from 0.54331\n",
            "\n",
            "Epoch 00033: val_loss improved from 0.54331 to 0.54143, saving model to model/best_titanic3.h5\n",
            "\n",
            "Epoch 00034: val_loss did not improve from 0.54143\n",
            "\n",
            "Epoch 00035: val_loss did not improve from 0.54143\n",
            "\n",
            "Epoch 00036: val_loss did not improve from 0.54143\n",
            "\n",
            "Epoch 00037: val_loss did not improve from 0.54143\n",
            "\n",
            "Epoch 00038: val_loss did not improve from 0.54143\n",
            "\n",
            "Epoch 00039: val_loss did not improve from 0.54143\n",
            "\n",
            "Epoch 00040: val_loss did not improve from 0.54143\n",
            "\n",
            "Epoch 00041: val_loss did not improve from 0.54143\n",
            "\n",
            "Epoch 00042: val_loss did not improve from 0.54143\n",
            "\n",
            "Epoch 00043: val_loss did not improve from 0.54143\n",
            "\n",
            "Epoch 00044: val_loss did not improve from 0.54143\n",
            "\n",
            "Epoch 00045: val_loss did not improve from 0.54143\n",
            "\n",
            "Epoch 00046: val_loss did not improve from 0.54143\n",
            "\n",
            "Epoch 00047: val_loss did not improve from 0.54143\n",
            "\n",
            "Epoch 00048: val_loss did not improve from 0.54143\n",
            "\n",
            "Epoch 00049: val_loss did not improve from 0.54143\n",
            "\n",
            "Epoch 00050: val_loss did not improve from 0.54143\n",
            "\n",
            "Epoch 00051: val_loss did not improve from 0.54143\n",
            "\n",
            "Epoch 00052: val_loss did not improve from 0.54143\n",
            "\n",
            "Epoch 00053: val_loss did not improve from 0.54143\n"
          ]
        }
      ],
      "source": [
        "model3.compile(optimizer='adam', loss='binary_crossentropy', metrics=['accuracy'])\n",
        "hist3 = model3.fit(X_train, y_train, validation_split=0.2, verbose=0,\n",
        "                 epochs=400, batch_size=200,\n",
        "                 callbacks=[checkpoint, early_stopping])"
      ]
    },
    {
      "cell_type": "code",
      "execution_count": 277,
      "metadata": {
        "colab": {
          "base_uri": "https://localhost:8080/"
        },
        "id": "H6nYBopHCmiJ",
        "outputId": "dc38ff8e-bd93-4c61-86e2-cb4c10990f7c"
      },
      "outputs": [
        {
          "name": "stdout",
          "output_type": "stream",
          "text": [
            "6/6 [==============================] - 0s 3ms/step - loss: 0.5612 - accuracy: 0.8547\n"
          ]
        },
        {
          "data": {
            "text/plain": [
              "[0.5611864924430847, 0.8547486066818237]"
            ]
          },
          "execution_count": 277,
          "metadata": {},
          "output_type": "execute_result"
        }
      ],
      "source": [
        "best_model = load_model(model_path3)\n",
        "best_model.evaluate(X_test, y_test)"
      ]
    },
    {
      "cell_type": "markdown",
      "metadata": {
        "id": "XBVRgyUnEDkU"
      },
      "source": [
        "## 결론\n",
        "* Dense의 숫자, Dense의 깊이보다 중요한 점은 "
      ]
    }
  ],
  "metadata": {
    "colab": {
      "collapsed_sections": [],
      "name": "박민수0.8547.ipynb",
      "provenance": []
    },
    "kernelspec": {
      "display_name": "Python 3",
      "name": "python3"
    },
    "language_info": {
      "name": "python",
      "version": "3.8.8"
    }
  },
  "nbformat": 4,
  "nbformat_minor": 0
}
