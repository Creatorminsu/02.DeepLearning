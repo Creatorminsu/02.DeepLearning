{
  "nbformat": 4,
  "nbformat_minor": 0,
  "metadata": {
    "colab": {
      "name": "31.GAN.ipynb",
      "provenance": [],
      "collapsed_sections": []
    },
    "kernelspec": {
      "name": "python3",
      "display_name": "Python 3"
    },
    "accelerator": "GPU"
  },
  "cells": [
    {
      "cell_type": "markdown",
      "metadata": {
        "id": "N4bgoCUp5Vnu"
      },
      "source": [
        "- 내용 및 코드 참조 \n",
        "\n",
        "  - 케라스 창시자로부터 배우는 딥러닝\n",
        "\n",
        "  - 미술관에 GAN 딥러닝 실전 프로젝트 "
      ]
    },
    {
      "cell_type": "markdown",
      "metadata": {
        "id": "PeLTZPP-sQ5x"
      },
      "source": [
        "# 적대적 생성 신경망(Generative Adversarial Networks, GAN)\n",
        "\n",
        "- 2014년, Ian Goodfellow 소개\n",
        "\n",
        "- VAE(Variation AutoEncoder)와는 다른 방법으로 이미지 잠재 공간을 학습\n",
        "\n",
        "- 직관적으로 이해하는 방법\n",
        "\n",
        "  - 가짜 피카소 그림을 그리는 위조범과 이를 판별하는 판매상의 관계\n",
        "\n",
        "  - 위조품과 진짜 그림을 섞어서 판매상에게 보여주며  \n",
        "    그림이 진짜인지 가짜인지 판매상은 판별하고 이를 위조범에게 피드백\n",
        "\n",
        "  - 처음에는 형편없는 그림을 그리다가 점점 피카소의 스타일을 모방하게 되고  \n",
        "    판매상은 위조품을 구분하는데 점점 더 전문가가 되어감\n",
        "\n",
        "- GAN의 네트워크\n",
        "\n",
        "  - 생성자 네트워크(generator network)\n",
        "\n",
        "    - 랜덤 벡터(잠재 공간의 무작위한 포인트)를 입력으로 받아 이를 합성된 이미지로 디코딩\n",
        "\n",
        "  - 판별자 네트워크(discriminator network)\n",
        "\n",
        "    - 이미지(실제 또는 가짜 이미지)를 입력으로 받아 훈련 세트에서 온 이미지인지 생성자가 만든 이미지인지 판별\n",
        "\n",
        "- GAN은 최적화의 최솟값이 고정되어 있지 않음\n",
        "\n",
        "  - 보통의 경사하강법은 **고정된 손실공간**에서 언덕을 내려오는 훈련 방법이지만  \n",
        "    GAN은 매 단계가 조금씩 전체 공간을 바꾸기 때문에 최적화 과정이 최솟값을 찾는 것이 어려움\n",
        "\n",
        "  - 두 힘간의 평형점을 찾는 시스템\n",
        "\n",
        "  - 따라서, 학습과정이 매우 어려움  \n",
        "    즉, 적절한 파라미터를 찾고 조정해야함\n",
        "  \n",
        "  <img src=\"https://paperswithcode.com/media/methods/gan.jpeg\">\n",
        "\n",
        "  <sub>[이미지 출처] https://paperswithcode.com/method/gan</sub>"
      ]
    },
    {
      "cell_type": "markdown",
      "metadata": {
        "id": "yHhtFZ1huWoB"
      },
      "source": [
        "## GAN의 구현 (DCGAN: Deep Convolutional Generative Adversarial Networks)\n",
        "\n",
        "- CIFAR-10 데이터셋 사용\n",
        "\n",
        "- generator 네트워크는 (latent_dim,) 크기의 벡터를 (32, 32, 3) 크기의 이미지로 매핑\n",
        "\n",
        "- discriminator 네트워크는 (32, 32, 3) 크기의 이미지가 진짜일 확률을 추정하여 이진값으로 매핑\n",
        "\n",
        "- 생성자와 판별자를 연결하는 gan 네트워크를 만듬  \n",
        "  \n",
        "  - gan(x) = discriminator(generator(x))\n",
        "\n",
        "- 진짜/가짜 레이블과 함께 진짜 이미지와 가짜 이미지 샘플을 사용하여 판별자를 훈련 (일반적인 이미지 분류 모델 훈련과 동일)\n",
        "\n",
        "- 생성자를 훈련하려면 gan 모델의 손실에 대한 생성자 가중치의 그래디언트를 사용\n",
        "\n",
        "  - 매 단계마다 생성자에 의해 디코딩된 이미지를 판별자가 \"진짜\"로 분류하도록 만드는 방향으로 생성자의 가중치를 이동\n",
        "\n",
        "  - 판별자를 속이도록 생성자를 훈련한다는 말\n"
      ]
    },
    {
      "cell_type": "markdown",
      "metadata": {
        "id": "Rb4JHajh1gXx"
      },
      "source": [
        "## 학습 방법\n",
        "\n",
        "- 마지막 활성화 함수로 sigmoid 대신 tanh함수 사용\n",
        "\n",
        "- 균등분포가 아니고 정규 분포(가우시안 분포)를 사용하여 잠재 공간에서 포인트를 샘플링\n",
        "\n",
        "- 무작위성을 주입\n",
        "\n",
        "  - 판별자에 드롭아웃을 사용\n",
        "\n",
        "  - 판별자를 위해 레이블에 랜덤 노이즈를 추가\n",
        "\n",
        "- 희소한 그래디언트는 GAN 훈련에 방해가 될 수 있음\n",
        "\n",
        "  - 최대 풀링 대신 스트라이드 합성곱을 사용하여 다운샘플링\n",
        "\n",
        "  - ReLU 대신 LeakyReLU 사용\n",
        "\n",
        "- 생성자에서 픽셀 공간을 균일하게 다루지 못하여 생성된 이미지에서 체스판 모양이 종종 나타남.  \n",
        "  이를 위해 생성자와 판별자에서 스트라이드 Conv2DTranspose나 Conv2D를 사용할 때 스트라이드 크기로 나누어 질 수 있는 커널 크기 사용\n",
        "\n",
        "  - 커널 크기가 스트라이드의 배수가 아니면 픽셀이 공평하게 합성곱 되지 않음  \n",
        "    커널 크기를 스트라이드로 나누었을 때 나머지 크기에 해당하는 픽셀이 더 많이 업샘플링에 참여하게 됨"
      ]
    },
    {
      "cell_type": "markdown",
      "metadata": {
        "id": "PiIV25ew2SDq"
      },
      "source": [
        "### GAN 생성자 네트워크\n"
      ]
    },
    {
      "cell_type": "code",
      "metadata": {
        "id": "z-y52HdbXSkq"
      },
      "source": [
        "import numpy as np\n",
        "import tensorflow as tf\n",
        "from tensorflow.keras.layers import Input, Dense, LeakyReLU, Reshape, Conv2D\n",
        "from tensorflow.keras.layers import Conv2DTranspose, Flatten, Dropout\n",
        "from tensorflow.keras.models import Model"
      ],
      "execution_count": 1,
      "outputs": []
    },
    {
      "cell_type": "code",
      "metadata": {
        "id": "YkWJCAGF2o0r"
      },
      "source": [
        "latent_dim = 32\n",
        "height, width, channels = 32, 32, 3"
      ],
      "execution_count": 2,
      "outputs": []
    },
    {
      "cell_type": "code",
      "metadata": {
        "id": "HVp1CdYG2tu0"
      },
      "source": [
        "generator_input = Input(shape=(latent_dim,))"
      ],
      "execution_count": 3,
      "outputs": []
    },
    {
      "cell_type": "code",
      "metadata": {
        "id": "ZI2bVCCz2wgh"
      },
      "source": [
        "x = Dense(128 * 16 * 16)(generator_input)\n",
        "x = LeakyReLU()(x)\n",
        "x = Reshape((16, 16, 128))(x)\n",
        "\n",
        "x = Conv2D(256, 5, padding='same')(x)\n",
        "x = LeakyReLU()(x)\n",
        "\n",
        "x = Conv2DTranspose(256, 4, strides=2, padding='same')(x)\n",
        "x = LeakyReLU()(x)\n",
        "\n",
        "x = Conv2D(256, 5, padding='same')(x)\n",
        "x = LeakyReLU()(x)\n",
        "x = Conv2D(256, 5, padding='same')(x)\n",
        "x = LeakyReLU()(x)\n",
        "\n",
        "x = Conv2D(channels, 7, activation='tanh', padding='same')(x)"
      ],
      "execution_count": 4,
      "outputs": []
    },
    {
      "cell_type": "code",
      "source": [
        "generator = Model(generator_input, x)\n",
        "generator.summary()"
      ],
      "metadata": {
        "id": "wovZ-4oz2Ehb",
        "colab": {
          "base_uri": "https://localhost:8080/"
        },
        "outputId": "ec716154-465a-4d45-8c37-14a3758443d5"
      },
      "execution_count": 5,
      "outputs": [
        {
          "output_type": "stream",
          "name": "stdout",
          "text": [
            "Model: \"model\"\n",
            "_________________________________________________________________\n",
            " Layer (type)                Output Shape              Param #   \n",
            "=================================================================\n",
            " input_1 (InputLayer)        [(None, 32)]              0         \n",
            "                                                                 \n",
            " dense (Dense)               (None, 32768)             1081344   \n",
            "                                                                 \n",
            " leaky_re_lu (LeakyReLU)     (None, 32768)             0         \n",
            "                                                                 \n",
            " reshape (Reshape)           (None, 16, 16, 128)       0         \n",
            "                                                                 \n",
            " conv2d (Conv2D)             (None, 16, 16, 256)       819456    \n",
            "                                                                 \n",
            " leaky_re_lu_1 (LeakyReLU)   (None, 16, 16, 256)       0         \n",
            "                                                                 \n",
            " conv2d_transpose (Conv2DTra  (None, 32, 32, 256)      1048832   \n",
            " nspose)                                                         \n",
            "                                                                 \n",
            " leaky_re_lu_2 (LeakyReLU)   (None, 32, 32, 256)       0         \n",
            "                                                                 \n",
            " conv2d_1 (Conv2D)           (None, 32, 32, 256)       1638656   \n",
            "                                                                 \n",
            " leaky_re_lu_3 (LeakyReLU)   (None, 32, 32, 256)       0         \n",
            "                                                                 \n",
            " conv2d_2 (Conv2D)           (None, 32, 32, 256)       1638656   \n",
            "                                                                 \n",
            " leaky_re_lu_4 (LeakyReLU)   (None, 32, 32, 256)       0         \n",
            "                                                                 \n",
            " conv2d_3 (Conv2D)           (None, 32, 32, 3)         37635     \n",
            "                                                                 \n",
            "=================================================================\n",
            "Total params: 6,264,579\n",
            "Trainable params: 6,264,579\n",
            "Non-trainable params: 0\n",
            "_________________________________________________________________\n"
          ]
        }
      ]
    },
    {
      "cell_type": "markdown",
      "metadata": {
        "id": "UnRjKuGy3By9"
      },
      "source": [
        "### GAN 판별자 네트워크\n"
      ]
    },
    {
      "cell_type": "code",
      "metadata": {
        "id": "A0rd_EYq3Epn"
      },
      "source": [
        "discriminator_input = Input(shape=(height, width, channels))"
      ],
      "execution_count": 6,
      "outputs": []
    },
    {
      "cell_type": "code",
      "metadata": {
        "id": "pcJ8iXrO3BXO"
      },
      "source": [
        "x = Conv2D(128, 3)(discriminator_input)\n",
        "x = LeakyReLU()(x)\n",
        "x = Conv2D(128, 4, strides=2)(x)\n",
        "x = LeakyReLU()(x)\n",
        "x = Conv2D(128, 4, strides=2)(x)\n",
        "x = LeakyReLU()(x)\n",
        "x = Conv2D(128, 4, strides=2)(x)\n",
        "x = LeakyReLU()(x)\n",
        "\n",
        "x = Flatten()(x)\n",
        "x = Dropout(0.4)(x)\n",
        "x = Dense(1, activation='sigmoid')(x)"
      ],
      "execution_count": 7,
      "outputs": []
    },
    {
      "cell_type": "code",
      "source": [
        "discriminator = Model(discriminator_input, x)\n",
        "discriminator.summary()"
      ],
      "metadata": {
        "id": "MiByLWVh2Hxx",
        "colab": {
          "base_uri": "https://localhost:8080/"
        },
        "outputId": "f6cc8b60-c137-49fe-f6b1-bca307aa2f31"
      },
      "execution_count": 8,
      "outputs": [
        {
          "output_type": "stream",
          "name": "stdout",
          "text": [
            "Model: \"model_1\"\n",
            "_________________________________________________________________\n",
            " Layer (type)                Output Shape              Param #   \n",
            "=================================================================\n",
            " input_2 (InputLayer)        [(None, 32, 32, 3)]       0         \n",
            "                                                                 \n",
            " conv2d_4 (Conv2D)           (None, 30, 30, 128)       3584      \n",
            "                                                                 \n",
            " leaky_re_lu_5 (LeakyReLU)   (None, 30, 30, 128)       0         \n",
            "                                                                 \n",
            " conv2d_5 (Conv2D)           (None, 14, 14, 128)       262272    \n",
            "                                                                 \n",
            " leaky_re_lu_6 (LeakyReLU)   (None, 14, 14, 128)       0         \n",
            "                                                                 \n",
            " conv2d_6 (Conv2D)           (None, 6, 6, 128)         262272    \n",
            "                                                                 \n",
            " leaky_re_lu_7 (LeakyReLU)   (None, 6, 6, 128)         0         \n",
            "                                                                 \n",
            " conv2d_7 (Conv2D)           (None, 2, 2, 128)         262272    \n",
            "                                                                 \n",
            " leaky_re_lu_8 (LeakyReLU)   (None, 2, 2, 128)         0         \n",
            "                                                                 \n",
            " flatten (Flatten)           (None, 512)               0         \n",
            "                                                                 \n",
            " dropout (Dropout)           (None, 512)               0         \n",
            "                                                                 \n",
            " dense_1 (Dense)             (None, 1)                 513       \n",
            "                                                                 \n",
            "=================================================================\n",
            "Total params: 790,913\n",
            "Trainable params: 790,913\n",
            "Non-trainable params: 0\n",
            "_________________________________________________________________\n"
          ]
        }
      ]
    },
    {
      "cell_type": "code",
      "metadata": {
        "id": "WQuMOoH_3WbY"
      },
      "source": [
        "from tensorflow.keras.optimizers import RMSprop"
      ],
      "execution_count": 9,
      "outputs": []
    },
    {
      "cell_type": "code",
      "metadata": {
        "id": "H3zZbyx13TGi"
      },
      "source": [
        "discriminator_optimizer = RMSprop(learning_rate=0.0008, clipvalue=1.0, decay=1e-8)\n",
        "discriminator.compile(optimizer=discriminator_optimizer, loss='binary_crossentropy')"
      ],
      "execution_count": 10,
      "outputs": []
    },
    {
      "cell_type": "markdown",
      "metadata": {
        "id": "ayIotK_Q3iE7"
      },
      "source": [
        "### 적대적 네트워크\n",
        "- 생성자와 판별자를 연결\n",
        "\n",
        "- 훈련할 때 생성자가 판별자를 속이는 능력이 커지도록 학습\n",
        "\n",
        "- 잠재 공간의 포인트를 진짜 또는 가짜의 분류 결정으로 변환\n",
        "\n",
        "- 훈련에 사용되는 target label은 항상 \"진짜 이미지\"\n",
        "\n",
        "- 훈련하는 동안 판별자를 동결(학습되지 않도록)하는 것이 매우 중요!\n",
        "\n",
        "  - 판별자의 가중치가 훈련하는 동안 업데이트되면 판별자는 항상 진짜를 예측하도록 훈련됨"
      ]
    },
    {
      "cell_type": "code",
      "metadata": {
        "id": "eerQWi8_3auo"
      },
      "source": [
        "discriminator.trainable = False\n",
        "\n",
        "gan_input = Input(shape=(latent_dim,))\n",
        "gan_output = discriminator(generator(gan_input))\n",
        "gan = Model(gan_input, gan_output)\n",
        "\n",
        "gan_optimizer = RMSprop(learning_rate=0.0004, clipvalue=1.0, decay=1e-8)\n",
        "gan.compile(optimizer=gan_optimizer, loss='binary_crossentropy')"
      ],
      "execution_count": 11,
      "outputs": []
    },
    {
      "cell_type": "code",
      "source": [
        "gan.summary()"
      ],
      "metadata": {
        "id": "07JdYkoq2NW5",
        "colab": {
          "base_uri": "https://localhost:8080/"
        },
        "outputId": "fa39db2d-42cf-454b-97b1-0523b23051d0"
      },
      "execution_count": 12,
      "outputs": [
        {
          "output_type": "stream",
          "name": "stdout",
          "text": [
            "Model: \"model_2\"\n",
            "_________________________________________________________________\n",
            " Layer (type)                Output Shape              Param #   \n",
            "=================================================================\n",
            " input_3 (InputLayer)        [(None, 32)]              0         \n",
            "                                                                 \n",
            " model (Functional)          (None, 32, 32, 3)         6264579   \n",
            "                                                                 \n",
            " model_1 (Functional)        (None, 1)                 790913    \n",
            "                                                                 \n",
            "=================================================================\n",
            "Total params: 7,055,492\n",
            "Trainable params: 6,264,579\n",
            "Non-trainable params: 790,913\n",
            "_________________________________________________________________\n"
          ]
        }
      ]
    },
    {
      "cell_type": "markdown",
      "metadata": {
        "id": "oP5cjQs74G5Q"
      },
      "source": [
        "### GAN 훈련 구현\n",
        "\n",
        "- DCGAN 구현\n",
        "\n",
        "- 매 반복마다 아래의 과정 수행\n",
        "\n",
        "  1. 잠재 공간에서 무작위로 포인트를 뽑음(랜덤 노이즈)\n",
        "\n",
        "  2. 랜덤 노이즈를 사용하여 generator에서 이미지를 생성\n",
        "\n",
        "  3. 생성된 이미지와 진짜 이미지를 섞음\n",
        "\n",
        "  4. 진짜와 가짜가 섞인 이미지와 이에 대응하는 타깃을 사용하여 discriminator를 훈련  \n",
        "    타킷은 진짜 또는 가짜\n",
        "\n",
        "  5. 잠재 공간에서 무작위로 새로운 포인트를 뽑음\n",
        "\n",
        "  6. 랜덤 벡터를 사용하여 gan을 훈련.  \n",
        "    모든 타깃은 진짜로 설정. \n",
        "    - 판별자가 생성된 이미지를 모두 \"진짜 이미지\"라고 예측하도록 생성자의 가중치를 업데이트.  \n",
        "      (판별자는 동결되기 때문에 생성자만 업데이트)"
      ]
    },
    {
      "cell_type": "code",
      "metadata": {
        "id": "GimAaUDC4u-P"
      },
      "source": [
        "import os\n",
        "from tensorflow.keras.datasets import cifar10\n",
        "from tensorflow.keras.preprocessing import image"
      ],
      "execution_count": 13,
      "outputs": []
    },
    {
      "cell_type": "markdown",
      "metadata": {
        "id": "MLrdG7a84yFE"
      },
      "source": [
        "#### CIFAR10 데이터 로드"
      ]
    },
    {
      "cell_type": "code",
      "metadata": {
        "id": "siDPaZ-J3nSk",
        "colab": {
          "base_uri": "https://localhost:8080/"
        },
        "outputId": "063bc774-a677-4020-c0ae-bdd8b9a54031"
      },
      "source": [
        "(X_train, y_train), (_, _) = cifar10.load_data()\n",
        "X_train.shape, y_train.shape"
      ],
      "execution_count": 14,
      "outputs": [
        {
          "output_type": "stream",
          "name": "stdout",
          "text": [
            "Downloading data from https://www.cs.toronto.edu/~kriz/cifar-10-python.tar.gz\n",
            "170500096/170498071 [==============================] - 3s 0us/step\n",
            "170508288/170498071 [==============================] - 3s 0us/step\n"
          ]
        },
        {
          "output_type": "execute_result",
          "data": {
            "text/plain": [
              "((50000, 32, 32, 3), (50000, 1))"
            ]
          },
          "metadata": {},
          "execution_count": 14
        }
      ]
    },
    {
      "cell_type": "markdown",
      "metadata": {
        "id": "LgzNpE6O4-ik"
      },
      "source": [
        "#### 개구리 이미지를 선택"
      ]
    },
    {
      "cell_type": "code",
      "metadata": {
        "id": "MBF8XEbj41ZU",
        "colab": {
          "base_uri": "https://localhost:8080/"
        },
        "outputId": "59c693fa-4a4f-47a5-87db-356754cb5ec6"
      },
      "source": [
        "X_train = X_train[y_train.flatten() == 6]\n",
        "X_train.shape"
      ],
      "execution_count": 15,
      "outputs": [
        {
          "output_type": "execute_result",
          "data": {
            "text/plain": [
              "(5000, 32, 32, 3)"
            ]
          },
          "metadata": {},
          "execution_count": 15
        }
      ]
    },
    {
      "cell_type": "markdown",
      "metadata": {
        "id": "be7fKh6-5BMn"
      },
      "source": [
        "#### 데이터 정규화"
      ]
    },
    {
      "cell_type": "code",
      "metadata": {
        "id": "b12T22Sh5FQa",
        "colab": {
          "base_uri": "https://localhost:8080/"
        },
        "outputId": "fc466de1-cfed-4a85-e1f7-a319c6ad8a3d"
      },
      "source": [
        "X_train = X_train.astype('float32') / 255.\n",
        "type(X_train[0,0,0,0])"
      ],
      "execution_count": 16,
      "outputs": [
        {
          "output_type": "execute_result",
          "data": {
            "text/plain": [
              "numpy.float32"
            ]
          },
          "metadata": {},
          "execution_count": 16
        }
      ]
    },
    {
      "cell_type": "code",
      "source": [
        "iterations = 10000\n",
        "batch_size = 20\n",
        "\n",
        "save_dir = 'gan_images'\n",
        "if not os.path.exists(save_dir):\n",
        "    os.mkdir(save_dir)"
      ],
      "metadata": {
        "id": "A0mVnALctuNL"
      },
      "execution_count": 17,
      "outputs": []
    },
    {
      "cell_type": "markdown",
      "metadata": {
        "id": "iIfCHuXQ7HOJ"
      },
      "source": [
        "#### 학습"
      ]
    },
    {
      "cell_type": "code",
      "metadata": {
        "id": "puOujZ3F5D2f",
        "colab": {
          "base_uri": "https://localhost:8080/"
        },
        "outputId": "d06ab00e-66c2-4c60-f042-3a6375aff0d9"
      },
      "source": [
        "start = 0\n",
        "for step in range(iterations):\n",
        "    random_latent_vectors = np.random.normal(size=(batch_size, latent_dim))\n",
        "    generated_images = generator.predict(random_latent_vectors)\n",
        "\n",
        "    stop = start + batch_size\n",
        "    real_images = X_train[start:stop]\n",
        "    combined_images = np.concatenate([generated_images, real_images])\n",
        "\n",
        "    labels = np.concatenate([np.ones((batch_size,1)), np.zeros((batch_size,1))])\n",
        "    labels += 0.05 * np.random.random(labels.shape)\n",
        "\n",
        "    d_loss = discriminator.train_on_batch(combined_images, labels)\n",
        "\n",
        "    random_latent_vectors = np.random.normal(size=(batch_size, latent_dim))\n",
        "    misleading_targets = np.zeros((batch_size, 1))\n",
        "\n",
        "    a_loss = gan.train_on_batch(random_latent_vectors, misleading_targets)\n",
        "\n",
        "    start += batch_size\n",
        "    if start > len(X_train) - batch_size:\n",
        "        start = 0\n",
        "    \n",
        "    if step % 100 == 0:\n",
        "        print(f'Step: {step}, discriminator loss: {d_loss:.4f}, adversarial loss: {a_loss:.4f}')\n",
        "        gan.save_weights('gan.h5')\n",
        "        img = image.array_to_img(generated_images[0] * 255, scale=False)\n",
        "        img.save(os.path.join(save_dir, f'generated_frog_{step}.png'))\n",
        "        img = image.array_to_img(real_images[0] * 255, scale=False)\n",
        "        img.save(os.path.join(save_dir, f'real_frog_{step}.png'))\n"
      ],
      "execution_count": 18,
      "outputs": [
        {
          "output_type": "stream",
          "name": "stdout",
          "text": [
            "Step: 0, discriminator loss: 0.7151, adversarial loss: 0.6959\n",
            "Step: 100, discriminator loss: 0.6425, adversarial loss: 0.6827\n",
            "Step: 200, discriminator loss: 0.7004, adversarial loss: 0.7459\n",
            "Step: 300, discriminator loss: 0.6874, adversarial loss: 0.7279\n",
            "Step: 400, discriminator loss: 0.6997, adversarial loss: 0.8422\n",
            "Step: 500, discriminator loss: 0.6997, adversarial loss: 0.7365\n",
            "Step: 600, discriminator loss: 0.6898, adversarial loss: 0.7148\n",
            "Step: 700, discriminator loss: 0.6976, adversarial loss: 0.7700\n",
            "Step: 800, discriminator loss: 0.7022, adversarial loss: 0.7228\n",
            "Step: 900, discriminator loss: 0.7039, adversarial loss: 0.7511\n",
            "Step: 1000, discriminator loss: 0.6843, adversarial loss: 0.7631\n",
            "Step: 1100, discriminator loss: 0.7159, adversarial loss: 0.7588\n",
            "Step: 1200, discriminator loss: 0.7046, adversarial loss: 0.7473\n",
            "Step: 1300, discriminator loss: 0.6954, adversarial loss: 0.7476\n",
            "Step: 1400, discriminator loss: 0.7048, adversarial loss: 0.7406\n",
            "Step: 1500, discriminator loss: 0.6808, adversarial loss: 0.7788\n",
            "Step: 1600, discriminator loss: 0.6940, adversarial loss: 0.7654\n",
            "Step: 1700, discriminator loss: 0.6923, adversarial loss: 0.7610\n",
            "Step: 1800, discriminator loss: 0.6936, adversarial loss: 0.7556\n",
            "Step: 1900, discriminator loss: 0.6884, adversarial loss: 0.7399\n",
            "Step: 2000, discriminator loss: 0.6872, adversarial loss: 0.7442\n",
            "Step: 2100, discriminator loss: 0.6930, adversarial loss: 0.6868\n",
            "Step: 2200, discriminator loss: 0.7822, adversarial loss: 0.8715\n",
            "Step: 2300, discriminator loss: 0.7396, adversarial loss: 0.7697\n",
            "Step: 2400, discriminator loss: 0.6818, adversarial loss: 0.8445\n",
            "Step: 2500, discriminator loss: 0.6993, adversarial loss: 0.7327\n",
            "Step: 2600, discriminator loss: 0.6972, adversarial loss: 0.7287\n",
            "Step: 2700, discriminator loss: 0.6961, adversarial loss: 0.7600\n",
            "Step: 2800, discriminator loss: 0.7079, adversarial loss: 0.7636\n",
            "Step: 2900, discriminator loss: 0.6856, adversarial loss: 0.7487\n",
            "Step: 3000, discriminator loss: 0.6864, adversarial loss: 0.7716\n",
            "Step: 3100, discriminator loss: 0.6953, adversarial loss: 0.7690\n",
            "Step: 3200, discriminator loss: 0.6932, adversarial loss: 1.0483\n",
            "Step: 3300, discriminator loss: 0.6909, adversarial loss: 0.7885\n",
            "Step: 3400, discriminator loss: 0.7409, adversarial loss: 0.9023\n",
            "Step: 3500, discriminator loss: 0.6952, adversarial loss: 0.7602\n",
            "Step: 3600, discriminator loss: 0.7398, adversarial loss: 0.7483\n",
            "Step: 3700, discriminator loss: 0.6956, adversarial loss: 0.7510\n",
            "Step: 3800, discriminator loss: 0.6950, adversarial loss: 0.7478\n",
            "Step: 3900, discriminator loss: 0.6825, adversarial loss: 0.7473\n",
            "Step: 4000, discriminator loss: 0.6955, adversarial loss: 0.7019\n",
            "Step: 4100, discriminator loss: 0.7003, adversarial loss: 0.7666\n",
            "Step: 4200, discriminator loss: 0.6980, adversarial loss: 0.7419\n",
            "Step: 4300, discriminator loss: 0.6870, adversarial loss: 0.7595\n",
            "Step: 4400, discriminator loss: 0.6976, adversarial loss: 0.7253\n",
            "Step: 4500, discriminator loss: 0.6906, adversarial loss: 0.6925\n",
            "Step: 4600, discriminator loss: 0.6987, adversarial loss: 0.7629\n",
            "Step: 4700, discriminator loss: 0.7008, adversarial loss: 0.7246\n",
            "Step: 4800, discriminator loss: 0.6773, adversarial loss: 0.7406\n",
            "Step: 4900, discriminator loss: 0.6851, adversarial loss: 0.7488\n",
            "Step: 5000, discriminator loss: 0.7043, adversarial loss: 0.7574\n",
            "Step: 5100, discriminator loss: 0.6911, adversarial loss: 0.7474\n",
            "Step: 5200, discriminator loss: 0.7098, adversarial loss: 0.7580\n",
            "Step: 5300, discriminator loss: 0.6900, adversarial loss: 0.7529\n",
            "Step: 5400, discriminator loss: 0.6913, adversarial loss: 0.7019\n",
            "Step: 5500, discriminator loss: 0.6670, adversarial loss: 0.7205\n",
            "Step: 5600, discriminator loss: 0.7108, adversarial loss: 0.7472\n",
            "Step: 5700, discriminator loss: 0.6932, adversarial loss: 0.7942\n",
            "Step: 5800, discriminator loss: 0.6983, adversarial loss: 0.7561\n",
            "Step: 5900, discriminator loss: 0.6684, adversarial loss: 0.7848\n",
            "Step: 6000, discriminator loss: 0.6639, adversarial loss: 0.8127\n",
            "Step: 6100, discriminator loss: 0.7290, adversarial loss: 0.9485\n",
            "Step: 6200, discriminator loss: 0.6939, adversarial loss: 0.8795\n",
            "Step: 6300, discriminator loss: 0.7041, adversarial loss: 0.7272\n",
            "Step: 6400, discriminator loss: 0.7270, adversarial loss: 0.9620\n",
            "Step: 6500, discriminator loss: 0.6717, adversarial loss: 0.7641\n",
            "Step: 6600, discriminator loss: 0.7252, adversarial loss: 0.7650\n",
            "Step: 6700, discriminator loss: 0.6936, adversarial loss: 0.7825\n",
            "Step: 6800, discriminator loss: 0.6863, adversarial loss: 0.8082\n",
            "Step: 6900, discriminator loss: 0.7072, adversarial loss: 0.9215\n",
            "Step: 7000, discriminator loss: 0.6680, adversarial loss: 0.7149\n",
            "Step: 7100, discriminator loss: 0.6875, adversarial loss: 0.8520\n",
            "Step: 7200, discriminator loss: 0.6849, adversarial loss: 0.7730\n",
            "Step: 7300, discriminator loss: 0.7873, adversarial loss: 0.8605\n",
            "Step: 7400, discriminator loss: 0.7000, adversarial loss: 0.8213\n",
            "Step: 7500, discriminator loss: 0.6400, adversarial loss: 0.9063\n",
            "Step: 7600, discriminator loss: 0.6620, adversarial loss: 0.7993\n",
            "Step: 7700, discriminator loss: 0.7782, adversarial loss: 1.1367\n",
            "Step: 7800, discriminator loss: 0.6851, adversarial loss: 0.8595\n",
            "Step: 7900, discriminator loss: 0.8512, adversarial loss: 1.3355\n",
            "Step: 8000, discriminator loss: 0.6688, adversarial loss: 0.8019\n",
            "Step: 8100, discriminator loss: 0.6435, adversarial loss: 0.7746\n",
            "Step: 8200, discriminator loss: 0.6369, adversarial loss: 0.8871\n",
            "Step: 8300, discriminator loss: 0.6669, adversarial loss: 0.8235\n",
            "Step: 8400, discriminator loss: 0.6701, adversarial loss: 0.8704\n",
            "Step: 8500, discriminator loss: 0.6768, adversarial loss: 0.8244\n",
            "Step: 8600, discriminator loss: 0.7069, adversarial loss: 0.8636\n",
            "Step: 8700, discriminator loss: 0.6777, adversarial loss: 0.7837\n",
            "Step: 8800, discriminator loss: 0.7162, adversarial loss: 0.8209\n",
            "Step: 8900, discriminator loss: 0.6776, adversarial loss: 0.7590\n",
            "Step: 9000, discriminator loss: 0.6677, adversarial loss: 0.8340\n",
            "Step: 9100, discriminator loss: 0.6696, adversarial loss: 0.9539\n",
            "Step: 9200, discriminator loss: 0.7065, adversarial loss: 0.8132\n",
            "Step: 9300, discriminator loss: 0.6872, adversarial loss: 0.7638\n",
            "Step: 9400, discriminator loss: 0.7861, adversarial loss: 0.5286\n",
            "Step: 9500, discriminator loss: 0.7795, adversarial loss: 1.0407\n",
            "Step: 9600, discriminator loss: 0.6789, adversarial loss: 0.7079\n",
            "Step: 9700, discriminator loss: 0.6892, adversarial loss: 0.7595\n",
            "Step: 9800, discriminator loss: 0.7143, adversarial loss: 0.7652\n",
            "Step: 9900, discriminator loss: 0.6793, adversarial loss: 0.7736\n"
          ]
        }
      ]
    },
    {
      "cell_type": "markdown",
      "metadata": {
        "id": "9I4J9HSI7Kco"
      },
      "source": [
        "#### 이미지 생성을 통한 시각화\n"
      ]
    },
    {
      "cell_type": "code",
      "metadata": {
        "id": "L9r2Bfwk5iNf"
      },
      "source": [
        "import matplotlib.pyplot as plt"
      ],
      "execution_count": 19,
      "outputs": []
    },
    {
      "cell_type": "markdown",
      "metadata": {
        "id": "KS9f7FGO7ijf"
      },
      "source": [
        "- 잠재 공간에서 랜덤한 포인트를 샘플링\n"
      ]
    },
    {
      "cell_type": "code",
      "metadata": {
        "id": "M6zPuYw97EHk"
      },
      "source": [
        "random_latent_vectors = np.random.normal(size=(10, latent_dim))"
      ],
      "execution_count": 20,
      "outputs": []
    },
    {
      "cell_type": "markdown",
      "metadata": {
        "id": "IikNB0zM7lQ8"
      },
      "source": [
        "- 가짜 이미지로 디코딩"
      ]
    },
    {
      "cell_type": "code",
      "metadata": {
        "id": "BHSY6hNU7AlE",
        "colab": {
          "base_uri": "https://localhost:8080/"
        },
        "outputId": "d6a36bfc-187c-4966-c01e-357048bcdf23"
      },
      "source": [
        "generated_images = generator.predict(random_latent_vectors)\n",
        "generated_images.shape"
      ],
      "execution_count": 21,
      "outputs": [
        {
          "output_type": "execute_result",
          "data": {
            "text/plain": [
              "(10, 32, 32, 3)"
            ]
          },
          "metadata": {},
          "execution_count": 21
        }
      ]
    },
    {
      "cell_type": "code",
      "metadata": {
        "id": "9gyn_d90--r0",
        "colab": {
          "base_uri": "https://localhost:8080/"
        },
        "outputId": "2f86d1f6-c719-4e2a-ae52-525e7ae01de9"
      },
      "source": [
        "plt.figure(figsize=(5,2))\n",
        "for i in range(generated_images.shape[0]):\n",
        "    plt.subplot(2, 5, i+1)\n",
        "    img = image.array_to_img(generated_images[i] * 255, scale=False)\n",
        "    plt.imshow(img)\n",
        "    plt.xticks([]), plt.yticks([])\n",
        "\n",
        "plt.show()"
      ],
      "execution_count": 22,
      "outputs": [
        {
          "output_type": "display_data",
          "data": {
            "image/png": "[encoded data removed]",
            "text/plain": [
              "<Figure size 360x144 with 10 Axes>"
            ]
          },
          "metadata": {}
        }
      ]
    },
    {
      "cell_type": "code",
      "source": [
        "!zip images.zip gan_images/*"
      ],
      "metadata": {
        "id": "LKbawPXr3XNn",
        "colab": {
          "base_uri": "https://localhost:8080/"
        },
        "outputId": "28ec678e-c948-4080-c312-5924954b8484"
      },
      "execution_count": 23,
      "outputs": [
        {
          "output_type": "stream",
          "name": "stdout",
          "text": [
            "  adding: gan_images/generated_frog_0.png (stored 0%)\n",
            "  adding: gan_images/generated_frog_1000.png (stored 0%)\n",
            "  adding: gan_images/generated_frog_100.png (stored 0%)\n",
            "  adding: gan_images/generated_frog_1100.png (stored 0%)\n",
            "  adding: gan_images/generated_frog_1200.png (stored 0%)\n",
            "  adding: gan_images/generated_frog_1300.png (stored 0%)\n",
            "  adding: gan_images/generated_frog_1400.png (stored 0%)\n",
            "  adding: gan_images/generated_frog_1500.png (stored 0%)\n",
            "  adding: gan_images/generated_frog_1600.png (stored 0%)\n",
            "  adding: gan_images/generated_frog_1700.png (stored 0%)\n",
            "  adding: gan_images/generated_frog_1800.png (stored 0%)\n",
            "  adding: gan_images/generated_frog_1900.png (stored 0%)\n",
            "  adding: gan_images/generated_frog_2000.png (stored 0%)\n",
            "  adding: gan_images/generated_frog_200.png (stored 0%)\n",
            "  adding: gan_images/generated_frog_2100.png (stored 0%)\n",
            "  adding: gan_images/generated_frog_2200.png (stored 0%)\n",
            "  adding: gan_images/generated_frog_2300.png (stored 0%)\n",
            "  adding: gan_images/generated_frog_2400.png (stored 0%)\n",
            "  adding: gan_images/generated_frog_2500.png (stored 0%)\n",
            "  adding: gan_images/generated_frog_2600.png (stored 0%)\n",
            "  adding: gan_images/generated_frog_2700.png (stored 0%)\n",
            "  adding: gan_images/generated_frog_2800.png (stored 0%)\n",
            "  adding: gan_images/generated_frog_2900.png (stored 0%)\n",
            "  adding: gan_images/generated_frog_3000.png (stored 0%)\n",
            "  adding: gan_images/generated_frog_300.png (stored 0%)\n",
            "  adding: gan_images/generated_frog_3100.png (stored 0%)\n",
            "  adding: gan_images/generated_frog_3200.png (stored 0%)\n",
            "  adding: gan_images/generated_frog_3300.png (stored 0%)\n",
            "  adding: gan_images/generated_frog_3400.png (stored 0%)\n",
            "  adding: gan_images/generated_frog_3500.png (stored 0%)\n",
            "  adding: gan_images/generated_frog_3600.png (stored 0%)\n",
            "  adding: gan_images/generated_frog_3700.png (stored 0%)\n",
            "  adding: gan_images/generated_frog_3800.png (stored 0%)\n",
            "  adding: gan_images/generated_frog_3900.png (stored 0%)\n",
            "  adding: gan_images/generated_frog_4000.png (stored 0%)\n",
            "  adding: gan_images/generated_frog_400.png (stored 0%)\n",
            "  adding: gan_images/generated_frog_4100.png (stored 0%)\n",
            "  adding: gan_images/generated_frog_4200.png (stored 0%)\n",
            "  adding: gan_images/generated_frog_4300.png (stored 0%)\n",
            "  adding: gan_images/generated_frog_4400.png (stored 0%)\n",
            "  adding: gan_images/generated_frog_4500.png (stored 0%)\n",
            "  adding: gan_images/generated_frog_4600.png (stored 0%)\n",
            "  adding: gan_images/generated_frog_4700.png (stored 0%)\n",
            "  adding: gan_images/generated_frog_4800.png (stored 0%)\n",
            "  adding: gan_images/generated_frog_4900.png (stored 0%)\n",
            "  adding: gan_images/generated_frog_5000.png (stored 0%)\n",
            "  adding: gan_images/generated_frog_500.png (stored 0%)\n",
            "  adding: gan_images/generated_frog_5100.png (stored 0%)\n",
            "  adding: gan_images/generated_frog_5200.png (stored 0%)\n",
            "  adding: gan_images/generated_frog_5300.png (stored 0%)\n",
            "  adding: gan_images/generated_frog_5400.png (stored 0%)\n",
            "  adding: gan_images/generated_frog_5500.png (stored 0%)\n",
            "  adding: gan_images/generated_frog_5600.png (stored 0%)\n",
            "  adding: gan_images/generated_frog_5700.png (stored 0%)\n",
            "  adding: gan_images/generated_frog_5800.png (stored 0%)\n",
            "  adding: gan_images/generated_frog_5900.png (stored 0%)\n",
            "  adding: gan_images/generated_frog_6000.png (stored 0%)\n",
            "  adding: gan_images/generated_frog_600.png (stored 0%)\n",
            "  adding: gan_images/generated_frog_6100.png (stored 0%)\n",
            "  adding: gan_images/generated_frog_6200.png (stored 0%)\n",
            "  adding: gan_images/generated_frog_6300.png (stored 0%)\n",
            "  adding: gan_images/generated_frog_6400.png (stored 0%)\n",
            "  adding: gan_images/generated_frog_6500.png (stored 0%)\n",
            "  adding: gan_images/generated_frog_6600.png (stored 0%)\n",
            "  adding: gan_images/generated_frog_6700.png (stored 0%)\n",
            "  adding: gan_images/generated_frog_6800.png (stored 0%)\n",
            "  adding: gan_images/generated_frog_6900.png (stored 0%)\n",
            "  adding: gan_images/generated_frog_7000.png (stored 0%)\n",
            "  adding: gan_images/generated_frog_700.png (stored 0%)\n",
            "  adding: gan_images/generated_frog_7100.png (stored 0%)\n",
            "  adding: gan_images/generated_frog_7200.png (stored 0%)\n",
            "  adding: gan_images/generated_frog_7300.png (stored 0%)\n",
            "  adding: gan_images/generated_frog_7400.png (stored 0%)\n",
            "  adding: gan_images/generated_frog_7500.png (stored 0%)\n",
            "  adding: gan_images/generated_frog_7600.png (stored 0%)\n",
            "  adding: gan_images/generated_frog_7700.png (stored 0%)\n",
            "  adding: gan_images/generated_frog_7800.png (stored 0%)\n",
            "  adding: gan_images/generated_frog_7900.png (stored 0%)\n",
            "  adding: gan_images/generated_frog_8000.png (stored 0%)\n",
            "  adding: gan_images/generated_frog_800.png (stored 0%)\n",
            "  adding: gan_images/generated_frog_8100.png (stored 0%)\n",
            "  adding: gan_images/generated_frog_8200.png (stored 0%)\n",
            "  adding: gan_images/generated_frog_8300.png (stored 0%)\n",
            "  adding: gan_images/generated_frog_8400.png (stored 0%)\n",
            "  adding: gan_images/generated_frog_8500.png (stored 0%)\n",
            "  adding: gan_images/generated_frog_8600.png (stored 0%)\n",
            "  adding: gan_images/generated_frog_8700.png (stored 0%)\n",
            "  adding: gan_images/generated_frog_8800.png (stored 0%)\n",
            "  adding: gan_images/generated_frog_8900.png (stored 0%)\n",
            "  adding: gan_images/generated_frog_9000.png (stored 0%)\n",
            "  adding: gan_images/generated_frog_900.png (stored 0%)\n",
            "  adding: gan_images/generated_frog_9100.png (stored 0%)\n",
            "  adding: gan_images/generated_frog_9200.png (stored 0%)\n",
            "  adding: gan_images/generated_frog_9300.png (stored 0%)\n",
            "  adding: gan_images/generated_frog_9400.png (stored 0%)\n",
            "  adding: gan_images/generated_frog_9500.png (stored 0%)\n",
            "  adding: gan_images/generated_frog_9600.png (stored 0%)\n",
            "  adding: gan_images/generated_frog_9700.png (stored 0%)\n",
            "  adding: gan_images/generated_frog_9800.png (stored 0%)\n",
            "  adding: gan_images/generated_frog_9900.png (stored 0%)\n",
            "  adding: gan_images/real_frog_0.png (stored 0%)\n",
            "  adding: gan_images/real_frog_1000.png (stored 0%)\n",
            "  adding: gan_images/real_frog_100.png (stored 0%)\n",
            "  adding: gan_images/real_frog_1100.png (stored 0%)\n",
            "  adding: gan_images/real_frog_1200.png (stored 0%)\n",
            "  adding: gan_images/real_frog_1300.png (stored 0%)\n",
            "  adding: gan_images/real_frog_1400.png (stored 0%)\n",
            "  adding: gan_images/real_frog_1500.png (stored 0%)\n",
            "  adding: gan_images/real_frog_1600.png (stored 0%)\n",
            "  adding: gan_images/real_frog_1700.png (stored 0%)\n",
            "  adding: gan_images/real_frog_1800.png (stored 0%)\n",
            "  adding: gan_images/real_frog_1900.png (stored 0%)\n",
            "  adding: gan_images/real_frog_2000.png (stored 0%)\n",
            "  adding: gan_images/real_frog_200.png (stored 0%)\n",
            "  adding: gan_images/real_frog_2100.png (stored 0%)\n",
            "  adding: gan_images/real_frog_2200.png (stored 0%)\n",
            "  adding: gan_images/real_frog_2300.png (stored 0%)\n",
            "  adding: gan_images/real_frog_2400.png (stored 0%)\n",
            "  adding: gan_images/real_frog_2500.png (stored 0%)\n",
            "  adding: gan_images/real_frog_2600.png (stored 0%)\n",
            "  adding: gan_images/real_frog_2700.png (stored 0%)\n",
            "  adding: gan_images/real_frog_2800.png (stored 0%)\n",
            "  adding: gan_images/real_frog_2900.png (stored 0%)\n",
            "  adding: gan_images/real_frog_3000.png (stored 0%)\n",
            "  adding: gan_images/real_frog_300.png (stored 0%)\n",
            "  adding: gan_images/real_frog_3100.png (stored 0%)\n",
            "  adding: gan_images/real_frog_3200.png (stored 0%)\n",
            "  adding: gan_images/real_frog_3300.png (stored 0%)\n",
            "  adding: gan_images/real_frog_3400.png (stored 0%)\n",
            "  adding: gan_images/real_frog_3500.png (stored 0%)\n",
            "  adding: gan_images/real_frog_3600.png (stored 0%)\n",
            "  adding: gan_images/real_frog_3700.png (stored 0%)\n",
            "  adding: gan_images/real_frog_3800.png (stored 0%)\n",
            "  adding: gan_images/real_frog_3900.png (stored 0%)\n",
            "  adding: gan_images/real_frog_4000.png (stored 0%)\n",
            "  adding: gan_images/real_frog_400.png (stored 0%)\n",
            "  adding: gan_images/real_frog_4100.png (stored 0%)\n",
            "  adding: gan_images/real_frog_4200.png (stored 0%)\n",
            "  adding: gan_images/real_frog_4300.png (stored 0%)\n",
            "  adding: gan_images/real_frog_4400.png (stored 0%)\n",
            "  adding: gan_images/real_frog_4500.png (stored 0%)\n",
            "  adding: gan_images/real_frog_4600.png (stored 0%)\n",
            "  adding: gan_images/real_frog_4700.png (stored 0%)\n",
            "  adding: gan_images/real_frog_4800.png (stored 0%)\n",
            "  adding: gan_images/real_frog_4900.png (stored 0%)\n",
            "  adding: gan_images/real_frog_5000.png (stored 0%)\n",
            "  adding: gan_images/real_frog_500.png (stored 0%)\n",
            "  adding: gan_images/real_frog_5100.png (stored 0%)\n",
            "  adding: gan_images/real_frog_5200.png (stored 0%)\n",
            "  adding: gan_images/real_frog_5300.png (stored 0%)\n",
            "  adding: gan_images/real_frog_5400.png (stored 0%)\n",
            "  adding: gan_images/real_frog_5500.png (stored 0%)\n",
            "  adding: gan_images/real_frog_5600.png (stored 0%)\n",
            "  adding: gan_images/real_frog_5700.png (stored 0%)\n",
            "  adding: gan_images/real_frog_5800.png (stored 0%)\n",
            "  adding: gan_images/real_frog_5900.png (stored 0%)\n",
            "  adding: gan_images/real_frog_6000.png (stored 0%)\n",
            "  adding: gan_images/real_frog_600.png (stored 0%)\n",
            "  adding: gan_images/real_frog_6100.png (stored 0%)\n",
            "  adding: gan_images/real_frog_6200.png (stored 0%)\n",
            "  adding: gan_images/real_frog_6300.png (stored 0%)\n",
            "  adding: gan_images/real_frog_6400.png (stored 0%)\n",
            "  adding: gan_images/real_frog_6500.png (stored 0%)\n",
            "  adding: gan_images/real_frog_6600.png (stored 0%)\n",
            "  adding: gan_images/real_frog_6700.png (stored 0%)\n",
            "  adding: gan_images/real_frog_6800.png (stored 0%)\n",
            "  adding: gan_images/real_frog_6900.png (stored 0%)\n",
            "  adding: gan_images/real_frog_7000.png (stored 0%)\n",
            "  adding: gan_images/real_frog_700.png (stored 0%)\n",
            "  adding: gan_images/real_frog_7100.png (stored 0%)\n",
            "  adding: gan_images/real_frog_7200.png (stored 0%)\n",
            "  adding: gan_images/real_frog_7300.png (stored 0%)\n",
            "  adding: gan_images/real_frog_7400.png (stored 0%)\n",
            "  adding: gan_images/real_frog_7500.png (stored 0%)\n",
            "  adding: gan_images/real_frog_7600.png (stored 0%)\n",
            "  adding: gan_images/real_frog_7700.png (stored 0%)\n",
            "  adding: gan_images/real_frog_7800.png (stored 0%)\n",
            "  adding: gan_images/real_frog_7900.png (stored 0%)\n",
            "  adding: gan_images/real_frog_8000.png (stored 0%)\n",
            "  adding: gan_images/real_frog_800.png (stored 0%)\n",
            "  adding: gan_images/real_frog_8100.png (stored 0%)\n",
            "  adding: gan_images/real_frog_8200.png (stored 0%)\n",
            "  adding: gan_images/real_frog_8300.png (stored 0%)\n",
            "  adding: gan_images/real_frog_8400.png (stored 0%)\n",
            "  adding: gan_images/real_frog_8500.png (stored 0%)\n",
            "  adding: gan_images/real_frog_8600.png (stored 0%)\n",
            "  adding: gan_images/real_frog_8700.png (stored 0%)\n",
            "  adding: gan_images/real_frog_8800.png (stored 0%)\n",
            "  adding: gan_images/real_frog_8900.png (stored 0%)\n",
            "  adding: gan_images/real_frog_9000.png (stored 0%)\n",
            "  adding: gan_images/real_frog_900.png (stored 0%)\n",
            "  adding: gan_images/real_frog_9100.png (stored 0%)\n",
            "  adding: gan_images/real_frog_9200.png (stored 0%)\n",
            "  adding: gan_images/real_frog_9300.png (stored 0%)\n",
            "  adding: gan_images/real_frog_9400.png (stored 0%)\n",
            "  adding: gan_images/real_frog_9500.png (stored 0%)\n",
            "  adding: gan_images/real_frog_9600.png (stored 0%)\n",
            "  adding: gan_images/real_frog_9700.png (stored 0%)\n",
            "  adding: gan_images/real_frog_9800.png (stored 0%)\n",
            "  adding: gan_images/real_frog_9900.png (stored 0%)\n"
          ]
        }
      ]
    },
    {
      "cell_type": "code",
      "source": [
        ""
      ],
      "metadata": {
        "id": "BwocriqA4tWG"
      },
      "execution_count": 23,
      "outputs": []
    }
  ]
}