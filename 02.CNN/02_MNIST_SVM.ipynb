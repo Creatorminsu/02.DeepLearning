{
  "cells": [
    {
      "cell_type": "markdown",
      "metadata": {
        "id": "PLUAs3n4FUyd"
      },
      "source": [
        "### MNIST 손글씨 - 머신러닝 SVM"
      ]
    },
    {
      "cell_type": "code",
      "execution_count": 1,
      "metadata": {
        "id": "Fjl2rle0FsAs"
      },
      "outputs": [],
      "source": [
        "import numpy as np"
      ]
    },
    {
      "cell_type": "code",
      "execution_count": 2,
      "metadata": {
        "colab": {
          "base_uri": "https://localhost:8080/"
        },
        "id": "SjZk7VPEFw-x",
        "outputId": "a12bf736-408a-4976-8be8-e72b3d95e8e1"
      },
      "outputs": [
        {
          "name": "stdout",
          "output_type": "stream",
          "text": [
            "Downloading data from https://storage.googleapis.com/tensorflow/tf-keras-datasets/mnist.npz\n",
            "11493376/11490434 [==============================] - 0s 0us/step\n",
            "11501568/11490434 [==============================] - 0s 0us/step\n"
          ]
        }
      ],
      "source": [
        "from tensorflow.keras.datasets import mnist\n",
        "(X_train, y_train), (X_test, y_test) = mnist.load_data()"
      ]
    },
    {
      "cell_type": "code",
      "execution_count": 3,
      "metadata": {
        "id": "VP3fWPJzF_Ff"
      },
      "outputs": [],
      "source": [
        "# X data 전처리\n",
        "X_train = X_train.reshape(-1, 784) / 255.\n",
        "X_test = X_test.reshape(-1, 784) / 255."
      ]
    },
    {
      "cell_type": "markdown",
      "metadata": {
        "id": "vZMf8OtTGc8S"
      },
      "source": [
        "- SVM, GridSearchCV"
      ]
    },
    {
      "cell_type": "code",
      "execution_count": 4,
      "metadata": {
        "id": "HhF27WFGGWWN"
      },
      "outputs": [],
      "source": [
        "from sklearn.svm import SVC\n",
        "from sklearn.model_selection import GridSearchCV"
      ]
    },
    {
      "cell_type": "code",
      "execution_count": 5,
      "metadata": {
        "id": "cznurLQkGp2e"
      },
      "outputs": [],
      "source": [
        "params = {'C': [0.1, 1, 5, 10]}\n",
        "svc = SVC(random_state=2022)"
      ]
    },
    {
      "cell_type": "code",
      "execution_count": 6,
      "metadata": {
        "colab": {
          "base_uri": "https://localhost:8080/"
        },
        "id": "_5cKH1sdG5nP",
        "outputId": "e7a0e1ed-b5b3-44fe-92f3-70ad780334bb"
      },
      "outputs": [
        {
          "name": "stdout",
          "output_type": "stream",
          "text": [
            "CPU times: user 4min 40s, sys: 3.01 s, total: 4min 43s\n",
            "Wall time: 1h 5min 15s\n"
          ]
        },
        {
          "data": {
            "text/plain": [
              "GridSearchCV(cv=3, estimator=SVC(random_state=2022), n_jobs=-1,\n",
              "             param_grid={'C': [0.1, 1, 5, 10]}, scoring='accuracy')"
            ]
          },
          "execution_count": 6,
          "metadata": {},
          "output_type": "execute_result"
        }
      ],
      "source": [
        "grid_svc = GridSearchCV(\n",
        "    svc, param_grid=params, scoring='accuracy', cv = 3, n_jobs=-1\n",
        ")\n",
        "%time grid_svc.fit(X_train, y_train)"
      ]
    },
    {
      "cell_type": "code",
      "execution_count": 7,
      "metadata": {
        "colab": {
          "base_uri": "https://localhost:8080/"
        },
        "id": "lgZBgLSBHZxi",
        "outputId": "125bb6ce-083b-4fb6-bf17-2776a617e286"
      },
      "outputs": [
        {
          "data": {
            "text/plain": [
              "{'C': 10}"
            ]
          },
          "execution_count": 7,
          "metadata": {},
          "output_type": "execute_result"
        }
      ],
      "source": [
        "grid_svc.best_params_"
      ]
    },
    {
      "cell_type": "code",
      "execution_count": 8,
      "metadata": {
        "colab": {
          "base_uri": "https://localhost:8080/"
        },
        "id": "5jlAGzaHl4iR",
        "outputId": "f58eb5e5-5e3f-4656-ce6a-7611cf40d9fb"
      },
      "outputs": [
        {
          "data": {
            "text/plain": [
              "0.9837"
            ]
          },
          "execution_count": 8,
          "metadata": {},
          "output_type": "execute_result"
        }
      ],
      "source": [
        "grid_svc.best_estimator_.score(X_test, y_test)"
      ]
    },
    {
      "cell_type": "code",
      "execution_count": 9,
      "metadata": {
        "colab": {
          "base_uri": "https://localhost:8080/"
        },
        "id": "2Hcxm0uPmx9P",
        "outputId": "3a1a7b3a-d13e-40f0-f8fc-a53dff66d808"
      },
      "outputs": [
        {
          "data": {
            "text/plain": [
              "['best-mnist-svm.pkl']"
            ]
          },
          "execution_count": 9,
          "metadata": {},
          "output_type": "execute_result"
        }
      ],
      "source": [
        "import joblib\n",
        "joblib.dump(grid_svc.best_estimator_, 'best-mnist-svm.pkl')"
      ]
    },
    {
      "cell_type": "code",
      "execution_count": null,
      "metadata": {
        "id": "8PmcbZIgnhUb"
      },
      "outputs": [],
      "source": []
    }
  ],
  "metadata": {
    "colab": {
      "collapsed_sections": [],
      "name": "02.MNIST-SVM.ipynb",
      "provenance": []
    },
    "kernelspec": {
      "display_name": "Python 3",
      "name": "python3"
    },
    "language_info": {
      "name": "python",
      "version": "3.8.8"
    }
  },
  "nbformat": 4,
  "nbformat_minor": 0
}
