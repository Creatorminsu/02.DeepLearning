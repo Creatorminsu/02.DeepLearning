{
  "nbformat": 4,
  "nbformat_minor": 0,
  "metadata": {
    "colab": {
      "name": "12.Fashion-MNIST_DNN,CNN,SVM.ipynb",
      "provenance": [],
      "collapsed_sections": []
    },
    "kernelspec": {
      "name": "python3",
      "display_name": "Python 3"
    },
    "language_info": {
      "name": "python"
    },
    "accelerator": "GPU"
  },
  "cells": [
    {
      "cell_type": "markdown",
      "source": [
        "## 1) 신경망"
      ],
      "metadata": {
        "id": "MglqgT5hSghT"
      }
    },
    {
      "cell_type": "code",
      "execution_count": 2,
      "metadata": {
        "id": "8YbrS9TtSLvb"
      },
      "outputs": [],
      "source": [
        "import numpy as np\n",
        "import pandas as pd\n",
        "import tensorflow as tf\n",
        "seed = 2022\n",
        "np.random.seed(seed)\n",
        "tf.random.set_seed(seed)"
      ]
    },
    {
      "cell_type": "code",
      "source": [
        "from tensorflow.keras.datasets import fashion_mnist\n",
        "(X_train, y_train), (X_test, y_test) = fashion_mnist.load_data()"
      ],
      "metadata": {
        "colab": {
          "base_uri": "https://localhost:8080/"
        },
        "id": "9MHCVsKLSfHV",
        "outputId": "273a946e-e076-47fc-a8ec-848edeab1e48"
      },
      "execution_count": 3,
      "outputs": [
        {
          "output_type": "stream",
          "name": "stdout",
          "text": [
            "Downloading data from https://storage.googleapis.com/tensorflow/tf-keras-datasets/train-labels-idx1-ubyte.gz\n",
            "32768/29515 [=================================] - 0s 0us/step\n",
            "40960/29515 [=========================================] - 0s 0us/step\n",
            "Downloading data from https://storage.googleapis.com/tensorflow/tf-keras-datasets/train-images-idx3-ubyte.gz\n",
            "26427392/26421880 [==============================] - 0s 0us/step\n",
            "26435584/26421880 [==============================] - 0s 0us/step\n",
            "Downloading data from https://storage.googleapis.com/tensorflow/tf-keras-datasets/t10k-labels-idx1-ubyte.gz\n",
            "16384/5148 [===============================================================================================] - 0s 0us/step\n",
            "Downloading data from https://storage.googleapis.com/tensorflow/tf-keras-datasets/t10k-images-idx3-ubyte.gz\n",
            "4423680/4422102 [==============================] - 0s 0us/step\n",
            "4431872/4422102 [==============================] - 0s 0us/step\n"
          ]
        }
      ]
    },
    {
      "cell_type": "code",
      "source": [
        "class_names = ['T-shirt/top', 'Trouser', 'Pullover', 'Dress', 'Coat', 'Sandal', 'Shirt', 'Sneaker', 'Bag', 'Ankle boot']\n",
        "class_names[y_train[0]]"
      ],
      "metadata": {
        "colab": {
          "base_uri": "https://localhost:8080/",
          "height": 36
        },
        "id": "FcybCdOCSuu0",
        "outputId": "7c760201-beab-4fd5-aa73-f2809e0c8744"
      },
      "execution_count": 4,
      "outputs": [
        {
          "output_type": "execute_result",
          "data": {
            "application/vnd.google.colaboratory.intrinsic+json": {
              "type": "string"
            },
            "text/plain": [
              "'Ankle boot'"
            ]
          },
          "metadata": {},
          "execution_count": 4
        }
      ]
    },
    {
      "cell_type": "code",
      "source": [
        "X_train.shape, X_test.shape"
      ],
      "metadata": {
        "colab": {
          "base_uri": "https://localhost:8080/"
        },
        "id": "_zcVQfpWTKi_",
        "outputId": "5b90098c-b1c6-49be-b51c-652b2e55d90a"
      },
      "execution_count": 5,
      "outputs": [
        {
          "output_type": "execute_result",
          "data": {
            "text/plain": [
              "((60000, 28, 28), (10000, 28, 28))"
            ]
          },
          "metadata": {},
          "execution_count": 5
        }
      ]
    },
    {
      "cell_type": "code",
      "source": [
        "# X data 정규화 및 차원 변경\n",
        "X_train = X_train.reshape(60000,-1) / 255.\n",
        "X_test = X_test.reshape(-1,784) / 255.\n",
        "X_train.shape, X_test.shape"
      ],
      "metadata": {
        "colab": {
          "base_uri": "https://localhost:8080/"
        },
        "id": "RT8RIxI4TmtW",
        "outputId": "1c48dd68-64b2-4471-c836-a67c589c44bf"
      },
      "execution_count": 6,
      "outputs": [
        {
          "output_type": "execute_result",
          "data": {
            "text/plain": [
              "((60000, 784), (10000, 784))"
            ]
          },
          "metadata": {},
          "execution_count": 6
        }
      ]
    },
    {
      "cell_type": "code",
      "source": [
        "# y data : one-hot encoding\n",
        "from tensorflow.keras.utils import to_categorical\n",
        "Y_train = to_categorical(y_train)\n",
        "Y_test = to_categorical(y_test)\n",
        "Y_train.shape, Y_test.shape"
      ],
      "metadata": {
        "colab": {
          "base_uri": "https://localhost:8080/"
        },
        "id": "ZJawvVKHUKwi",
        "outputId": "df31d4d7-a15e-44b5-bf2a-f544520c5e1c"
      },
      "execution_count": 7,
      "outputs": [
        {
          "output_type": "execute_result",
          "data": {
            "text/plain": [
              "((60000, 10), (10000, 10))"
            ]
          },
          "metadata": {},
          "execution_count": 7
        }
      ]
    },
    {
      "cell_type": "markdown",
      "source": [
        "* 모델 정의, 설정, 학습, 평가"
      ],
      "metadata": {
        "id": "KvZbWtsmUWL6"
      }
    },
    {
      "cell_type": "code",
      "source": [
        "from tensorflow.keras.models import Sequential, load_model\n",
        "from tensorflow.keras.layers import Dense\n",
        "from tensorflow.keras.callbacks import ModelCheckpoint, EarlyStopping"
      ],
      "metadata": {
        "id": "eKJaluIhUdIQ"
      },
      "execution_count": 8,
      "outputs": []
    },
    {
      "cell_type": "code",
      "source": [
        "model = Sequential([\n",
        "    Dense(512,input_dim=784, activation='relu'),\n",
        "    Dense(48, activation='relu'),\n",
        "    Dense(10, activation='softmax')\n",
        "])\n",
        "model.summary()"
      ],
      "metadata": {
        "colab": {
          "base_uri": "https://localhost:8080/"
        },
        "id": "aqlzmsmaV4wb",
        "outputId": "7bfc7e01-95f2-48d9-b3bd-aaba8ae59877"
      },
      "execution_count": 9,
      "outputs": [
        {
          "output_type": "stream",
          "name": "stdout",
          "text": [
            "Model: \"sequential\"\n",
            "_________________________________________________________________\n",
            " Layer (type)                Output Shape              Param #   \n",
            "=================================================================\n",
            " dense (Dense)               (None, 512)               401920    \n",
            "                                                                 \n",
            " dense_1 (Dense)             (None, 48)                24624     \n",
            "                                                                 \n",
            " dense_2 (Dense)             (None, 10)                490       \n",
            "                                                                 \n",
            "=================================================================\n",
            "Total params: 427,034\n",
            "Trainable params: 427,034\n",
            "Non-trainable params: 0\n",
            "_________________________________________________________________\n"
          ]
        }
      ]
    },
    {
      "cell_type": "code",
      "source": [
        "model.compile(optimizer='adam', loss='categorical_crossentropy', metrics=['accuracy'])\n",
        "model_path= 'mnist_dnn.h5'\n",
        "checkpoint = ModelCheckpoint(model_path, save_best_only=True, verbose=1)\n",
        "early_stop = EarlyStopping(patience=10)"
      ],
      "metadata": {
        "id": "uHszDqjAWDxX"
      },
      "execution_count": 10,
      "outputs": []
    },
    {
      "cell_type": "code",
      "source": [
        "hist = model.fit(X_train, Y_train , validation_split=0.2,\n",
        "                 epochs=100, batch_size=200, verbose=0,\n",
        "                 callbacks=[checkpoint,early_stop])"
      ],
      "metadata": {
        "colab": {
          "base_uri": "https://localhost:8080/"
        },
        "id": "-jqzfmTxWfep",
        "outputId": "f94a3248-983e-4b49-f34a-9cfa00c2812e"
      },
      "execution_count": 11,
      "outputs": [
        {
          "output_type": "stream",
          "name": "stdout",
          "text": [
            "\n",
            "Epoch 00001: val_loss improved from inf to 0.42591, saving model to mnist_dnn.h5\n",
            "\n",
            "Epoch 00002: val_loss improved from 0.42591 to 0.38297, saving model to mnist_dnn.h5\n",
            "\n",
            "Epoch 00003: val_loss improved from 0.38297 to 0.34602, saving model to mnist_dnn.h5\n",
            "\n",
            "Epoch 00004: val_loss improved from 0.34602 to 0.33033, saving model to mnist_dnn.h5\n",
            "\n",
            "Epoch 00005: val_loss did not improve from 0.33033\n",
            "\n",
            "Epoch 00006: val_loss improved from 0.33033 to 0.32579, saving model to mnist_dnn.h5\n",
            "\n",
            "Epoch 00007: val_loss improved from 0.32579 to 0.30991, saving model to mnist_dnn.h5\n",
            "\n",
            "Epoch 00008: val_loss did not improve from 0.30991\n",
            "\n",
            "Epoch 00009: val_loss improved from 0.30991 to 0.30931, saving model to mnist_dnn.h5\n",
            "\n",
            "Epoch 00010: val_loss improved from 0.30931 to 0.30319, saving model to mnist_dnn.h5\n",
            "\n",
            "Epoch 00011: val_loss did not improve from 0.30319\n",
            "\n",
            "Epoch 00012: val_loss did not improve from 0.30319\n",
            "\n",
            "Epoch 00013: val_loss improved from 0.30319 to 0.30046, saving model to mnist_dnn.h5\n",
            "\n",
            "Epoch 00014: val_loss did not improve from 0.30046\n",
            "\n",
            "Epoch 00015: val_loss did not improve from 0.30046\n",
            "\n",
            "Epoch 00016: val_loss did not improve from 0.30046\n",
            "\n",
            "Epoch 00017: val_loss did not improve from 0.30046\n",
            "\n",
            "Epoch 00018: val_loss did not improve from 0.30046\n",
            "\n",
            "Epoch 00019: val_loss did not improve from 0.30046\n",
            "\n",
            "Epoch 00020: val_loss did not improve from 0.30046\n",
            "\n",
            "Epoch 00021: val_loss did not improve from 0.30046\n",
            "\n",
            "Epoch 00022: val_loss did not improve from 0.30046\n",
            "\n",
            "Epoch 00023: val_loss did not improve from 0.30046\n"
          ]
        }
      ]
    },
    {
      "cell_type": "code",
      "source": [
        "best_model = load_model(model_path)\n",
        "best_model.evaluate(X_test, Y_test)"
      ],
      "metadata": {
        "colab": {
          "base_uri": "https://localhost:8080/"
        },
        "id": "4hd256W9WuOs",
        "outputId": "f04f8189-dd0e-47a0-c333-e29e36d69028"
      },
      "execution_count": 12,
      "outputs": [
        {
          "output_type": "stream",
          "name": "stdout",
          "text": [
            "313/313 [==============================] - 1s 3ms/step - loss: 0.3256 - accuracy: 0.8886\n"
          ]
        },
        {
          "output_type": "execute_result",
          "data": {
            "text/plain": [
              "[0.32563674449920654, 0.8885999917984009]"
            ]
          },
          "metadata": {},
          "execution_count": 12
        }
      ]
    },
    {
      "cell_type": "markdown",
      "source": [
        "## 2) SVM"
      ],
      "metadata": {
        "id": "5Mf0QRrwYycB"
      }
    },
    {
      "cell_type": "code",
      "source": [
        "from sklearn.svm import SVC\n",
        "from sklearn.model_selection import GridSearchCV"
      ],
      "metadata": {
        "id": "vCJKe4y8Y0nB"
      },
      "execution_count": 13,
      "outputs": []
    },
    {
      "cell_type": "code",
      "source": [
        "params = {'C': [0.1, 1, 5, 10]}\n",
        "svc = SVC(random_state=2022)"
      ],
      "metadata": {
        "id": "kbD8MMp-Y7jJ"
      },
      "execution_count": 14,
      "outputs": []
    },
    {
      "cell_type": "code",
      "source": [
        "grid_svc = GridSearchCV(\n",
        "    svc, param_grid=params, scoring='accuracy', cv=3, n_jobs=-1\n",
        ")\n",
        "%time grid_svc.fit(X_train, y_train)"
      ],
      "metadata": {
        "colab": {
          "base_uri": "https://localhost:8080/"
        },
        "id": "oLPzDU2cZBM9",
        "outputId": "ca8e51b2-4adf-40f1-c039-c8b12157e3de"
      },
      "execution_count": 15,
      "outputs": [
        {
          "output_type": "stream",
          "name": "stdout",
          "text": [
            "CPU times: user 5min 31s, sys: 3.94 s, total: 5min 35s\n",
            "Wall time: 1h 14min 11s\n"
          ]
        },
        {
          "output_type": "execute_result",
          "data": {
            "text/plain": [
              "GridSearchCV(cv=3, estimator=SVC(random_state=2022), n_jobs=-1,\n",
              "             param_grid={'C': [0.1, 1, 5, 10]}, scoring='accuracy')"
            ]
          },
          "metadata": {},
          "execution_count": 15
        }
      ]
    },
    {
      "cell_type": "code",
      "source": [
        "grid_svc.best_params_"
      ],
      "metadata": {
        "colab": {
          "base_uri": "https://localhost:8080/"
        },
        "id": "5TwBkeFAZTUT",
        "outputId": "7c0c94bd-cd05-470b-de4a-62835a8a5e12"
      },
      "execution_count": 17,
      "outputs": [
        {
          "output_type": "execute_result",
          "data": {
            "text/plain": [
              "{'C': 10}"
            ]
          },
          "metadata": {},
          "execution_count": 17
        }
      ]
    },
    {
      "cell_type": "code",
      "source": [
        "grid_svc.best_estimator_.score(X_test, y_test)"
      ],
      "metadata": {
        "colab": {
          "base_uri": "https://localhost:8080/"
        },
        "id": "JEmwZQiOZXRC",
        "outputId": "efb34b3a-bc6a-4bd3-9f21-e7430a10a362"
      },
      "execution_count": 18,
      "outputs": [
        {
          "output_type": "execute_result",
          "data": {
            "text/plain": [
              "0.9002"
            ]
          },
          "metadata": {},
          "execution_count": 18
        }
      ]
    },
    {
      "cell_type": "markdown",
      "source": [
        "## 3) CNN v4\n",
        "* 2 Conv2D layers ==> 2Conv2D with padding layers\n",
        "* 1 MaxPoling2D layer\n",
        "* 1 Dropout(0.25) layer\n",
        "* 1 Fully Connected Network layer\n",
        "* 1 Dropout(0.5) layer\n",
        "* 1 Output layer"
      ],
      "metadata": {
        "id": "9re0IMLEZmao"
      }
    },
    {
      "cell_type": "code",
      "source": [
        "from tensorflow.keras.models import Sequential, load_model\n",
        "from tensorflow.keras.layers import Dense, Conv2D, Flatten, MaxPooling2D\n",
        "from tensorflow.keras.layers import Dropout\n",
        "from tensorflow.keras.callbacks import ModelCheckpoint, EarlyStopping"
      ],
      "metadata": {
        "id": "IZ1HlCK-Z7GR"
      },
      "execution_count": 20,
      "outputs": []
    },
    {
      "cell_type": "code",
      "source": [
        "from tensorflow.keras.datasets import fashion_mnist\n",
        "(X_train, y_train), (X_test, y_test) = fashion_mnist.load_data()"
      ],
      "metadata": {
        "id": "DIxZ-5FfskmS"
      },
      "execution_count": 27,
      "outputs": []
    },
    {
      "cell_type": "code",
      "source": [
        "# X data: 0 ~ 1 사이의 값, 3차원 --> 4차원\n",
        "X_train = X_train.reshape(-1, 28, 28, 1) / 255.\n",
        "X_test = X_test.reshape(-1,28,28,1) / 255."
      ],
      "metadata": {
        "id": "Qzwcy4f_snPT"
      },
      "execution_count": 28,
      "outputs": []
    },
    {
      "cell_type": "code",
      "source": [
        "# One-hot encoding\n",
        "from tensorflow.keras.utils import to_categorical\n",
        "Y_train = to_categorical(y_train)\n",
        "Y_test = to_categorical(y_test)"
      ],
      "metadata": {
        "id": "-CjLKTDQssvx"
      },
      "execution_count": 29,
      "outputs": []
    },
    {
      "cell_type": "code",
      "source": [
        "model = Sequential([\n",
        "    Conv2D(32, kernel_size=(3,3), padding='same', input_shape=(28,28,1), activation='relu'),\n",
        "    Conv2D(64,(3,3), padding='same', activation='relu'),\n",
        "    MaxPooling2D(),\n",
        "    Dropout(0.25),\n",
        "    Flatten(),\n",
        "    Dense(512, activation='relu'),\n",
        "    Dropout(0.5),\n",
        "    Dense(10, activation='softmax')\n",
        "])\n",
        "model.summary()"
      ],
      "metadata": {
        "colab": {
          "base_uri": "https://localhost:8080/"
        },
        "id": "ShR3idDdaI8S",
        "outputId": "42b35ab0-840d-4b8a-94cb-bb682af080b1"
      },
      "execution_count": 31,
      "outputs": [
        {
          "output_type": "stream",
          "name": "stdout",
          "text": [
            "Model: \"sequential_3\"\n",
            "_________________________________________________________________\n",
            " Layer (type)                Output Shape              Param #   \n",
            "=================================================================\n",
            " conv2d_4 (Conv2D)           (None, 28, 28, 32)        320       \n",
            "                                                                 \n",
            " conv2d_5 (Conv2D)           (None, 28, 28, 64)        18496     \n",
            "                                                                 \n",
            " max_pooling2d_2 (MaxPooling  (None, 14, 14, 64)       0         \n",
            " 2D)                                                             \n",
            "                                                                 \n",
            " dropout_4 (Dropout)         (None, 14, 14, 64)        0         \n",
            "                                                                 \n",
            " flatten_2 (Flatten)         (None, 12544)             0         \n",
            "                                                                 \n",
            " dense_7 (Dense)             (None, 512)               6423040   \n",
            "                                                                 \n",
            " dropout_5 (Dropout)         (None, 512)               0         \n",
            "                                                                 \n",
            " dense_8 (Dense)             (None, 10)                5130      \n",
            "                                                                 \n",
            "=================================================================\n",
            "Total params: 6,446,986\n",
            "Trainable params: 6,446,986\n",
            "Non-trainable params: 0\n",
            "_________________________________________________________________\n"
          ]
        }
      ]
    },
    {
      "cell_type": "code",
      "source": [
        "model.compile(optimizer='adam', loss='categorical_crossentropy', metrics=['accuracy'])\n"
      ],
      "metadata": {
        "id": "s8P4W9V2akWJ"
      },
      "execution_count": 32,
      "outputs": []
    },
    {
      "cell_type": "code",
      "source": [
        "model_path = 'best-mnist-cnn-v4.h5'\n",
        "checkpoint = ModelCheckpoint(model_path, save_best_only=True, verbose=1)\n",
        "early_stop = EarlyStopping(patience=10)"
      ],
      "metadata": {
        "id": "siGbHRd9astD"
      },
      "execution_count": 33,
      "outputs": []
    },
    {
      "cell_type": "code",
      "source": [
        "hist = model.fit(\n",
        "    X_train, Y_train, validation_split=0.2, epochs=100, batch_size=200, \n",
        "    callbacks=[checkpoint, early_stop], verbose=0\n",
        ")"
      ],
      "metadata": {
        "colab": {
          "base_uri": "https://localhost:8080/"
        },
        "id": "R71F3axva42Y",
        "outputId": "b28165a7-46e0-4d1c-ca61-ff545d4e4e73"
      },
      "execution_count": 34,
      "outputs": [
        {
          "output_type": "stream",
          "name": "stdout",
          "text": [
            "\n",
            "Epoch 00001: val_loss improved from inf to 0.31710, saving model to best-mnist-cnn-v4.h5\n",
            "\n",
            "Epoch 00002: val_loss improved from 0.31710 to 0.26670, saving model to best-mnist-cnn-v4.h5\n",
            "\n",
            "Epoch 00003: val_loss improved from 0.26670 to 0.23533, saving model to best-mnist-cnn-v4.h5\n",
            "\n",
            "Epoch 00004: val_loss improved from 0.23533 to 0.21617, saving model to best-mnist-cnn-v4.h5\n",
            "\n",
            "Epoch 00005: val_loss improved from 0.21617 to 0.21492, saving model to best-mnist-cnn-v4.h5\n",
            "\n",
            "Epoch 00006: val_loss improved from 0.21492 to 0.20709, saving model to best-mnist-cnn-v4.h5\n",
            "\n",
            "Epoch 00007: val_loss improved from 0.20709 to 0.19675, saving model to best-mnist-cnn-v4.h5\n",
            "\n",
            "Epoch 00008: val_loss did not improve from 0.19675\n",
            "\n",
            "Epoch 00009: val_loss improved from 0.19675 to 0.19471, saving model to best-mnist-cnn-v4.h5\n",
            "\n",
            "Epoch 00010: val_loss did not improve from 0.19471\n",
            "\n",
            "Epoch 00011: val_loss did not improve from 0.19471\n",
            "\n",
            "Epoch 00012: val_loss did not improve from 0.19471\n",
            "\n",
            "Epoch 00013: val_loss did not improve from 0.19471\n",
            "\n",
            "Epoch 00014: val_loss did not improve from 0.19471\n",
            "\n",
            "Epoch 00015: val_loss did not improve from 0.19471\n",
            "\n",
            "Epoch 00016: val_loss did not improve from 0.19471\n",
            "\n",
            "Epoch 00017: val_loss did not improve from 0.19471\n",
            "\n",
            "Epoch 00018: val_loss did not improve from 0.19471\n",
            "\n",
            "Epoch 00019: val_loss did not improve from 0.19471\n"
          ]
        }
      ]
    },
    {
      "cell_type": "code",
      "source": [
        "best_model = load_model(model_path)\n",
        "best_model.evaluate(X_test,Y_test)"
      ],
      "metadata": {
        "colab": {
          "base_uri": "https://localhost:8080/"
        },
        "id": "LNcQsdtIbDxw",
        "outputId": "b1e2764b-200b-4a0a-b1ef-4551f4944f24"
      },
      "execution_count": 35,
      "outputs": [
        {
          "output_type": "stream",
          "name": "stdout",
          "text": [
            "313/313 [==============================] - 1s 3ms/step - loss: 0.2154 - accuracy: 0.9278\n"
          ]
        },
        {
          "output_type": "execute_result",
          "data": {
            "text/plain": [
              "[0.2153996378183365, 0.9277999997138977]"
            ]
          },
          "metadata": {},
          "execution_count": 35
        }
      ]
    },
    {
      "cell_type": "markdown",
      "source": [
        "## 신경망 : 0.8886, SVM : 0.9002, CNN : 0.9277\n",
        "* 결과에 비추어 보아, CNN의 성능이 월등히 좋다는게 확인되었다. 단 의문점은, 어째서 SVM은 신경망보다 더 좋은 결과를 내는 것일까? 결과는 신경망모델보다 더 좋으나 SVM이 시간이 오래걸리니 효율성 면에선 떨어진다. 출력 속도도 빠르고, 결과도 좋은 CNN일 따름이다. CNN의 모델을 이것저것 만져서 성능을 더 높이도록 해보겠다."
      ],
      "metadata": {
        "id": "9jCrw1LhtH5O"
      }
    },
    {
      "cell_type": "markdown",
      "source": [
        "## 4) CNN의 성능 높이기"
      ],
      "metadata": {
        "id": "Z_QwA2knt8mJ"
      }
    },
    {
      "cell_type": "code",
      "source": [
        "model2 = Sequential([\n",
        "    Conv2D(32, kernel_size=(3,3), padding='same', input_shape=(28,28,1), activation='relu'),\n",
        "    Conv2D(64,(3,3), padding='same', activation='relu'),\n",
        "    Flatten(),\n",
        "    Dense(512, activation='relu'),\n",
        "    Dropout(0.5),\n",
        "    Dense(256, activation='relu'),\n",
        "    Dropout(0.5),\n",
        "    Dense(10, activation='softmax')\n",
        "])\n",
        "model2.summary()"
      ],
      "metadata": {
        "colab": {
          "base_uri": "https://localhost:8080/"
        },
        "id": "vX7WbGweuJvP",
        "outputId": "8f9de04e-8830-46b8-dfac-69f9be4bd39f"
      },
      "execution_count": 42,
      "outputs": [
        {
          "output_type": "stream",
          "name": "stdout",
          "text": [
            "Model: \"sequential_5\"\n",
            "_________________________________________________________________\n",
            " Layer (type)                Output Shape              Param #   \n",
            "=================================================================\n",
            " conv2d_8 (Conv2D)           (None, 28, 28, 32)        320       \n",
            "                                                                 \n",
            " conv2d_9 (Conv2D)           (None, 28, 28, 64)        18496     \n",
            "                                                                 \n",
            " flatten_4 (Flatten)         (None, 50176)             0         \n",
            "                                                                 \n",
            " dense_12 (Dense)            (None, 512)               25690624  \n",
            "                                                                 \n",
            " dropout_9 (Dropout)         (None, 512)               0         \n",
            "                                                                 \n",
            " dense_13 (Dense)            (None, 256)               131328    \n",
            "                                                                 \n",
            " dropout_10 (Dropout)        (None, 256)               0         \n",
            "                                                                 \n",
            " dense_14 (Dense)            (None, 10)                2570      \n",
            "                                                                 \n",
            "=================================================================\n",
            "Total params: 25,843,338\n",
            "Trainable params: 25,843,338\n",
            "Non-trainable params: 0\n",
            "_________________________________________________________________\n"
          ]
        }
      ]
    },
    {
      "cell_type": "code",
      "source": [
        "model2.compile(optimizer='adam', loss='categorical_crossentropy', metrics=['accuracy'])\n"
      ],
      "metadata": {
        "id": "l5tBT5tAuXoP"
      },
      "execution_count": 43,
      "outputs": []
    },
    {
      "cell_type": "code",
      "source": [
        "model2_path = 'best-mnist-cnn-v4.h5'\n",
        "checkpoint = ModelCheckpoint(model_path, save_best_only=True, verbose=1)\n",
        "early_stop = EarlyStopping(patience=10)"
      ],
      "metadata": {
        "id": "biTeVvoRudcR"
      },
      "execution_count": 44,
      "outputs": []
    },
    {
      "cell_type": "code",
      "source": [
        "hist = model2.fit(\n",
        "    X_train, Y_train, validation_split=0.2, epochs=100, batch_size=200, \n",
        "    callbacks=[checkpoint, early_stop], verbose=0\n",
        ")"
      ],
      "metadata": {
        "colab": {
          "base_uri": "https://localhost:8080/"
        },
        "id": "5sEPNUUtul6J",
        "outputId": "e52478e4-fd58-45d0-942f-86c7109ecf83"
      },
      "execution_count": 45,
      "outputs": [
        {
          "output_type": "stream",
          "name": "stdout",
          "text": [
            "\n",
            "Epoch 00001: val_loss improved from inf to 0.30945, saving model to best-mnist-cnn-v4.h5\n",
            "\n",
            "Epoch 00002: val_loss improved from 0.30945 to 0.26854, saving model to best-mnist-cnn-v4.h5\n",
            "\n",
            "Epoch 00003: val_loss improved from 0.26854 to 0.24164, saving model to best-mnist-cnn-v4.h5\n",
            "\n",
            "Epoch 00004: val_loss improved from 0.24164 to 0.22108, saving model to best-mnist-cnn-v4.h5\n",
            "\n",
            "Epoch 00005: val_loss did not improve from 0.22108\n",
            "\n",
            "Epoch 00006: val_loss did not improve from 0.22108\n",
            "\n",
            "Epoch 00007: val_loss did not improve from 0.22108\n",
            "\n",
            "Epoch 00008: val_loss did not improve from 0.22108\n",
            "\n",
            "Epoch 00009: val_loss did not improve from 0.22108\n",
            "\n",
            "Epoch 00010: val_loss did not improve from 0.22108\n",
            "\n",
            "Epoch 00011: val_loss did not improve from 0.22108\n",
            "\n",
            "Epoch 00012: val_loss did not improve from 0.22108\n",
            "\n",
            "Epoch 00013: val_loss did not improve from 0.22108\n",
            "\n",
            "Epoch 00014: val_loss did not improve from 0.22108\n"
          ]
        }
      ]
    },
    {
      "cell_type": "code",
      "source": [
        "best_model = load_model(model_path)\n",
        "best_model.evaluate(X_test,Y_test)"
      ],
      "metadata": {
        "colab": {
          "base_uri": "https://localhost:8080/"
        },
        "id": "9bBivdvwum4g",
        "outputId": "7c37c6a0-13b2-4b03-89fc-66ee6349ca25"
      },
      "execution_count": 46,
      "outputs": [
        {
          "output_type": "stream",
          "name": "stdout",
          "text": [
            "313/313 [==============================] - 1s 4ms/step - loss: 0.2368 - accuracy: 0.9158\n"
          ]
        },
        {
          "output_type": "execute_result",
          "data": {
            "text/plain": [
              "[0.23683464527130127, 0.9157999753952026]"
            ]
          },
          "metadata": {},
          "execution_count": 46
        }
      ]
    },
    {
      "cell_type": "code",
      "source": [
        ""
      ],
      "metadata": {
        "id": "yq3Ln2a2u5uE"
      },
      "execution_count": null,
      "outputs": []
    }
  ]
}