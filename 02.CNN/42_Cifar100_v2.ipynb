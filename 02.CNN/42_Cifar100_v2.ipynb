{
  "nbformat": 4,
  "nbformat_minor": 0,
  "metadata": {
    "colab": {
      "name": "42_Cifar100_v2.ipynb",
      "provenance": [],
      "collapsed_sections": []
    },
    "kernelspec": {
      "name": "python3",
      "display_name": "Python 3"
    },
    "language_info": {
      "name": "python"
    },
    "accelerator": "GPU"
  },
  "cells": [
    {
      "cell_type": "markdown",
      "source": [
        "# Cifar-100 이미지 분류 v1\n",
        "- Cifar-100용 별도 모델\n",
        "- 32/64/128 Conv2D node 수\n",
        "- Adam() optimizer 사용"
      ],
      "metadata": {
        "id": "OPfS72-oXEqX"
      }
    },
    {
      "cell_type": "code",
      "execution_count": null,
      "metadata": {
        "id": "q6FDI3qBCpqo"
      },
      "outputs": [],
      "source": [
        "import numpy as np\n",
        "import tensorflow as tf\n",
        "seed = 2022\n",
        "np.random.seed(seed)\n",
        "tf.random.set_seed(seed)"
      ]
    },
    {
      "cell_type": "markdown",
      "source": [
        "* 데이터 전처리"
      ],
      "metadata": {
        "id": "EkXeAqrUXZ6g"
      }
    },
    {
      "cell_type": "code",
      "source": [
        "from tensorflow.keras.datasets import cifar100\n",
        "(X_train, y_train), (X_test, y_test) = cifar100.load_data()"
      ],
      "metadata": {
        "colab": {
          "base_uri": "https://localhost:8080/"
        },
        "id": "Ajkd2bHbXe8A",
        "outputId": "090001ba-e055-44d8-d4b3-328667292730"
      },
      "execution_count": null,
      "outputs": [
        {
          "output_type": "stream",
          "name": "stdout",
          "text": [
            "Downloading data from https://www.cs.toronto.edu/~kriz/cifar-100-python.tar.gz\n",
            "169009152/169001437 [==============================] - 2s 0us/step\n",
            "169017344/169001437 [==============================] - 2s 0us/step\n"
          ]
        }
      ]
    },
    {
      "cell_type": "code",
      "source": [
        "X_train.shape, X_test.shape, y_train.shape"
      ],
      "metadata": {
        "colab": {
          "base_uri": "https://localhost:8080/"
        },
        "id": "kOFSML0dXqY8",
        "outputId": "87516010-bfed-4800-a05e-71445561c6d8"
      },
      "execution_count": null,
      "outputs": [
        {
          "output_type": "execute_result",
          "data": {
            "text/plain": [
              "((50000, 32, 32, 3), (10000, 32, 32, 3), (50000, 1))"
            ]
          },
          "metadata": {},
          "execution_count": 3
        }
      ]
    },
    {
      "cell_type": "code",
      "source": [
        "class_names = ['apple', 'aquarium_fish', 'baby', 'bear', 'beaver', 'bed', 'bee', 'beetle', \n",
        "               'bicycle', 'bottle', 'bowl', 'boy', 'bridge', 'bus', 'butterfly', 'camel', \n",
        "               'can', 'castle', 'caterpillar', 'cattle', 'chair', 'chimpanzee', 'clock', \n",
        "               'cloud', 'cockroach', 'couch', 'crab', 'crocodile', 'cup', 'dinosaur', \n",
        "               'dolphin', 'elephant', 'flatfish', 'forest', 'fox', 'girl', 'hamster',\n",
        "               'house', 'kangaroo', 'keyboard', 'lamp', 'lawn_mower', 'leopard', 'lion',\n",
        "               'lizard', 'lobster', 'man', 'maple_tree', 'motorcycle', 'mountain', 'mouse',\n",
        "               'mushroom', 'oak_tree', 'orange', 'orchid', 'otter', 'palm_tree', 'pear',\n",
        "               'pickup_truck', 'pine_tree', 'plain', 'plate', 'poppy', 'porcupine',\n",
        "               'possum', 'rabbit', 'raccoon', 'ray', 'road', 'rocket', 'rose',\n",
        "               'sea', 'seal', 'shark', 'shrew', 'skunk', 'skyscraper', 'snail', 'snake',\n",
        "               'spider', 'squirrel', 'streetcar', 'sunflower', 'sweet_pepper', 'table',\n",
        "               'tank', 'telephone', 'television', 'tiger', 'tractor', 'train', 'trout',\n",
        "               'tulip', 'turtle', 'wardrobe', 'whale', 'willow_tree', 'wolf', 'woman',\n",
        "               'worm']"
      ],
      "metadata": {
        "id": "ICyBSQwhYXCS"
      },
      "execution_count": null,
      "outputs": []
    },
    {
      "cell_type": "code",
      "source": [
        "import matplotlib.pyplot as plt\n",
        "\n",
        "plt.figure(figsize=(8,4))\n",
        "for i in range(40):\n",
        "    plt.subplot(4,10,i+1)\n",
        "    plt.imshow(X_train[i]), plt.axis('off')\n",
        "    plt.title(class_names[y_train[i,0]], fontsize=8)\n",
        "plt.show()"
      ],
      "metadata": {
        "id": "ggUKt6G8X3cP"
      },
      "execution_count": null,
      "outputs": []
    },
    {
      "cell_type": "code",
      "source": [
        "# X data: 0 ~ 1 사이의 실수(float32)로 변환\n",
        "X_train = X_train.astype('float32') / 255.\n",
        "X_test = X_test.astype(np.float32) / 255."
      ],
      "metadata": {
        "id": "gxtxBVVSYcoV"
      },
      "execution_count": null,
      "outputs": []
    },
    {
      "cell_type": "code",
      "source": [
        "# y_data : one-hot encoding\n",
        "from tensorflow.keras.utils import to_categorical\n",
        "Y_train = to_categorical(y_train)\n",
        "Y_test = to_categorical(y_test)"
      ],
      "metadata": {
        "id": "tNmPHgwwZtZ0"
      },
      "execution_count": null,
      "outputs": []
    },
    {
      "cell_type": "markdown",
      "source": [
        "- 모델 정의/설정/학습/평가"
      ],
      "metadata": {
        "id": "hGHnnWJVaHXe"
      }
    },
    {
      "cell_type": "code",
      "source": [
        "from tensorflow.keras.models import Sequential, load_model\n",
        "from tensorflow.keras.layers import Conv2D, MaxPooling2D, Dropout, Flatten, Dense\n",
        "from tensorflow.keras.callbacks import ModelCheckpoint, EarlyStopping\n",
        "from tensorflow.keras.optimizers import RMSprop\n",
        "from tensorflow.keras.optimizers import Adam"
      ],
      "metadata": {
        "id": "r9MuXfBOZ0YQ"
      },
      "execution_count": null,
      "outputs": []
    },
    {
      "cell_type": "code",
      "source": [
        "model = Sequential([\n",
        "    Conv2D(32, (3,3), padding='same', input_shape=(32, 32, 3), activation='relu'),\n",
        "    MaxPooling2D(),\n",
        "    Conv2D(64, (3,3), padding='same', activation='relu'),\n",
        "    MaxPooling2D(),\n",
        "    Dropout(0.1),\n",
        "    Conv2D(128, (3,3), padding='same', activation='relu'),\n",
        "    MaxPooling2D(),\n",
        "    Dropout(0.25),\n",
        "    Flatten(),\n",
        "    Dense(512, activation='relu'),\n",
        "    Dropout(0.5),\n",
        "    Dense(100, activation='softmax')\n",
        "])\n",
        "\n",
        "model.summary()"
      ],
      "metadata": {
        "colab": {
          "base_uri": "https://localhost:8080/"
        },
        "id": "M74zofW8bYZK",
        "outputId": "871f6569-7bdd-4fb8-f5c6-dba82bb5f205"
      },
      "execution_count": null,
      "outputs": [
        {
          "output_type": "stream",
          "name": "stdout",
          "text": [
            "Model: \"sequential_1\"\n",
            "_________________________________________________________________\n",
            " Layer (type)                Output Shape              Param #   \n",
            "=================================================================\n",
            " conv2d_3 (Conv2D)           (None, 32, 32, 32)        896       \n",
            "                                                                 \n",
            " max_pooling2d_3 (MaxPooling  (None, 16, 16, 32)       0         \n",
            " 2D)                                                             \n",
            "                                                                 \n",
            " conv2d_4 (Conv2D)           (None, 16, 16, 64)        18496     \n",
            "                                                                 \n",
            " max_pooling2d_4 (MaxPooling  (None, 8, 8, 64)         0         \n",
            " 2D)                                                             \n",
            "                                                                 \n",
            " dropout_3 (Dropout)         (None, 8, 8, 64)          0         \n",
            "                                                                 \n",
            " conv2d_5 (Conv2D)           (None, 8, 8, 128)         73856     \n",
            "                                                                 \n",
            " max_pooling2d_5 (MaxPooling  (None, 4, 4, 128)        0         \n",
            " 2D)                                                             \n",
            "                                                                 \n",
            " dropout_4 (Dropout)         (None, 4, 4, 128)         0         \n",
            "                                                                 \n",
            " flatten_1 (Flatten)         (None, 2048)              0         \n",
            "                                                                 \n",
            " dense_2 (Dense)             (None, 512)               1049088   \n",
            "                                                                 \n",
            " dropout_5 (Dropout)         (None, 512)               0         \n",
            "                                                                 \n",
            " dense_3 (Dense)             (None, 100)               51300     \n",
            "                                                                 \n",
            "=================================================================\n",
            "Total params: 1,193,636\n",
            "Trainable params: 1,193,636\n",
            "Non-trainable params: 0\n",
            "_________________________________________________________________\n"
          ]
        }
      ]
    },
    {
      "cell_type": "code",
      "source": [
        "model.compile(\n",
        "    optimizer = Adam(learning_rate=0.0001, decay=1e-6),\n",
        "    loss='categorical_crossentropy',\n",
        "    metrics=['accuracy']\n",
        ")"
      ],
      "metadata": {
        "id": "Bv_RsieOcSxW"
      },
      "execution_count": null,
      "outputs": []
    },
    {
      "cell_type": "code",
      "source": [
        "model_path = 'best-cifar100-v2.h5'\n",
        "checkpoint = ModelCheckpoint(model_path, save_best_only=True, verbose=1)\n",
        "early_stop = EarlyStopping(patience=10)"
      ],
      "metadata": {
        "id": "N78RuLabdJ0K"
      },
      "execution_count": null,
      "outputs": []
    },
    {
      "cell_type": "code",
      "source": [
        "hist = model.fit(\n",
        "    X_train, Y_train, validation_split=0.2, \n",
        "    epochs=100, batch_size=32, verbose=2,\n",
        "    callbacks=[checkpoint, early_stop]\n",
        ")"
      ],
      "metadata": {
        "colab": {
          "base_uri": "https://localhost:8080/"
        },
        "id": "ABz4ItZtdkKm",
        "outputId": "b0f469b0-e4ee-4e69-9f56-b71fa3e63f78"
      },
      "execution_count": null,
      "outputs": [
        {
          "output_type": "stream",
          "name": "stdout",
          "text": [
            "Epoch 1/100\n",
            "\n",
            "Epoch 00001: val_loss improved from inf to 4.00251, saving model to best-cifar100-v2.h5\n",
            "1250/1250 - 16s - loss: 4.3476 - accuracy: 0.0415 - val_loss: 4.0025 - val_accuracy: 0.1039 - 16s/epoch - 13ms/step\n",
            "Epoch 2/100\n",
            "\n",
            "Epoch 00002: val_loss improved from 4.00251 to 3.65444, saving model to best-cifar100-v2.h5\n",
            "1250/1250 - 5s - loss: 3.9157 - accuracy: 0.1029 - val_loss: 3.6544 - val_accuracy: 0.1612 - 5s/epoch - 4ms/step\n",
            "Epoch 3/100\n",
            "\n",
            "Epoch 00003: val_loss improved from 3.65444 to 3.46546, saving model to best-cifar100-v2.h5\n",
            "1250/1250 - 5s - loss: 3.6666 - accuracy: 0.1437 - val_loss: 3.4655 - val_accuracy: 0.1889 - 5s/epoch - 4ms/step\n",
            "Epoch 4/100\n",
            "\n",
            "Epoch 00004: val_loss improved from 3.46546 to 3.32185, saving model to best-cifar100-v2.h5\n",
            "1250/1250 - 5s - loss: 3.5003 - accuracy: 0.1708 - val_loss: 3.3219 - val_accuracy: 0.2180 - 5s/epoch - 4ms/step\n",
            "Epoch 5/100\n",
            "\n",
            "Epoch 00005: val_loss improved from 3.32185 to 3.17081, saving model to best-cifar100-v2.h5\n",
            "1250/1250 - 5s - loss: 3.3617 - accuracy: 0.1949 - val_loss: 3.1708 - val_accuracy: 0.2408 - 5s/epoch - 4ms/step\n",
            "Epoch 6/100\n",
            "\n",
            "Epoch 00006: val_loss improved from 3.17081 to 3.08174, saving model to best-cifar100-v2.h5\n",
            "1250/1250 - 5s - loss: 3.2465 - accuracy: 0.2142 - val_loss: 3.0817 - val_accuracy: 0.2558 - 5s/epoch - 4ms/step\n",
            "Epoch 7/100\n",
            "\n",
            "Epoch 00007: val_loss improved from 3.08174 to 2.99666, saving model to best-cifar100-v2.h5\n",
            "1250/1250 - 5s - loss: 3.1516 - accuracy: 0.2318 - val_loss: 2.9967 - val_accuracy: 0.2727 - 5s/epoch - 4ms/step\n",
            "Epoch 8/100\n",
            "\n",
            "Epoch 00008: val_loss improved from 2.99666 to 2.91109, saving model to best-cifar100-v2.h5\n",
            "1250/1250 - 5s - loss: 3.0617 - accuracy: 0.2507 - val_loss: 2.9111 - val_accuracy: 0.2901 - 5s/epoch - 4ms/step\n",
            "Epoch 9/100\n",
            "\n",
            "Epoch 00009: val_loss improved from 2.91109 to 2.84735, saving model to best-cifar100-v2.h5\n",
            "1250/1250 - 5s - loss: 2.9827 - accuracy: 0.2662 - val_loss: 2.8473 - val_accuracy: 0.3020 - 5s/epoch - 4ms/step\n",
            "Epoch 10/100\n",
            "\n",
            "Epoch 00010: val_loss improved from 2.84735 to 2.79501, saving model to best-cifar100-v2.h5\n",
            "1250/1250 - 6s - loss: 2.9118 - accuracy: 0.2792 - val_loss: 2.7950 - val_accuracy: 0.3091 - 6s/epoch - 4ms/step\n",
            "Epoch 11/100\n",
            "\n",
            "Epoch 00011: val_loss improved from 2.79501 to 2.72934, saving model to best-cifar100-v2.h5\n",
            "1250/1250 - 5s - loss: 2.8440 - accuracy: 0.2909 - val_loss: 2.7293 - val_accuracy: 0.3244 - 5s/epoch - 4ms/step\n",
            "Epoch 12/100\n",
            "\n",
            "Epoch 00012: val_loss improved from 2.72934 to 2.68418, saving model to best-cifar100-v2.h5\n",
            "1250/1250 - 5s - loss: 2.7853 - accuracy: 0.3007 - val_loss: 2.6842 - val_accuracy: 0.3352 - 5s/epoch - 4ms/step\n",
            "Epoch 13/100\n",
            "\n",
            "Epoch 00013: val_loss improved from 2.68418 to 2.66278, saving model to best-cifar100-v2.h5\n",
            "1250/1250 - 5s - loss: 2.7399 - accuracy: 0.3123 - val_loss: 2.6628 - val_accuracy: 0.3395 - 5s/epoch - 4ms/step\n",
            "Epoch 14/100\n",
            "\n",
            "Epoch 00014: val_loss improved from 2.66278 to 2.63205, saving model to best-cifar100-v2.h5\n",
            "1250/1250 - 5s - loss: 2.6839 - accuracy: 0.3260 - val_loss: 2.6320 - val_accuracy: 0.3433 - 5s/epoch - 4ms/step\n",
            "Epoch 15/100\n",
            "\n",
            "Epoch 00015: val_loss improved from 2.63205 to 2.56605, saving model to best-cifar100-v2.h5\n",
            "1250/1250 - 5s - loss: 2.6342 - accuracy: 0.3334 - val_loss: 2.5661 - val_accuracy: 0.3600 - 5s/epoch - 4ms/step\n",
            "Epoch 16/100\n",
            "\n",
            "Epoch 00016: val_loss improved from 2.56605 to 2.54244, saving model to best-cifar100-v2.h5\n",
            "1250/1250 - 5s - loss: 2.5842 - accuracy: 0.3423 - val_loss: 2.5424 - val_accuracy: 0.3660 - 5s/epoch - 4ms/step\n",
            "Epoch 17/100\n",
            "\n",
            "Epoch 00017: val_loss improved from 2.54244 to 2.51664, saving model to best-cifar100-v2.h5\n",
            "1250/1250 - 5s - loss: 2.5472 - accuracy: 0.3521 - val_loss: 2.5166 - val_accuracy: 0.3699 - 5s/epoch - 4ms/step\n",
            "Epoch 18/100\n",
            "\n",
            "Epoch 00018: val_loss improved from 2.51664 to 2.48885, saving model to best-cifar100-v2.h5\n",
            "1250/1250 - 5s - loss: 2.5053 - accuracy: 0.3598 - val_loss: 2.4889 - val_accuracy: 0.3762 - 5s/epoch - 4ms/step\n",
            "Epoch 19/100\n",
            "\n",
            "Epoch 00019: val_loss improved from 2.48885 to 2.46028, saving model to best-cifar100-v2.h5\n",
            "1250/1250 - 5s - loss: 2.4569 - accuracy: 0.3703 - val_loss: 2.4603 - val_accuracy: 0.3824 - 5s/epoch - 4ms/step\n",
            "Epoch 20/100\n",
            "\n",
            "Epoch 00020: val_loss improved from 2.46028 to 2.43672, saving model to best-cifar100-v2.h5\n",
            "1250/1250 - 5s - loss: 2.4241 - accuracy: 0.3746 - val_loss: 2.4367 - val_accuracy: 0.3865 - 5s/epoch - 4ms/step\n",
            "Epoch 21/100\n",
            "\n",
            "Epoch 00021: val_loss improved from 2.43672 to 2.42204, saving model to best-cifar100-v2.h5\n",
            "1250/1250 - 6s - loss: 2.3815 - accuracy: 0.3859 - val_loss: 2.4220 - val_accuracy: 0.3886 - 6s/epoch - 4ms/step\n",
            "Epoch 22/100\n",
            "\n",
            "Epoch 00022: val_loss improved from 2.42204 to 2.39420, saving model to best-cifar100-v2.h5\n",
            "1250/1250 - 5s - loss: 2.3420 - accuracy: 0.3942 - val_loss: 2.3942 - val_accuracy: 0.3940 - 5s/epoch - 4ms/step\n",
            "Epoch 23/100\n",
            "\n",
            "Epoch 00023: val_loss improved from 2.39420 to 2.38118, saving model to best-cifar100-v2.h5\n",
            "1250/1250 - 5s - loss: 2.3172 - accuracy: 0.3961 - val_loss: 2.3812 - val_accuracy: 0.4012 - 5s/epoch - 4ms/step\n",
            "Epoch 24/100\n",
            "\n",
            "Epoch 00024: val_loss improved from 2.38118 to 2.37695, saving model to best-cifar100-v2.h5\n",
            "1250/1250 - 5s - loss: 2.2698 - accuracy: 0.4100 - val_loss: 2.3770 - val_accuracy: 0.4034 - 5s/epoch - 4ms/step\n",
            "Epoch 25/100\n",
            "\n",
            "Epoch 00025: val_loss improved from 2.37695 to 2.34812, saving model to best-cifar100-v2.h5\n",
            "1250/1250 - 5s - loss: 2.2394 - accuracy: 0.4130 - val_loss: 2.3481 - val_accuracy: 0.4075 - 5s/epoch - 4ms/step\n",
            "Epoch 26/100\n",
            "\n",
            "Epoch 00026: val_loss improved from 2.34812 to 2.32701, saving model to best-cifar100-v2.h5\n",
            "1250/1250 - 5s - loss: 2.2094 - accuracy: 0.4193 - val_loss: 2.3270 - val_accuracy: 0.4116 - 5s/epoch - 4ms/step\n",
            "Epoch 27/100\n",
            "\n",
            "Epoch 00027: val_loss did not improve from 2.32701\n",
            "1250/1250 - 5s - loss: 2.1822 - accuracy: 0.4255 - val_loss: 2.3297 - val_accuracy: 0.4086 - 5s/epoch - 4ms/step\n",
            "Epoch 28/100\n",
            "\n",
            "Epoch 00028: val_loss improved from 2.32701 to 2.29957, saving model to best-cifar100-v2.h5\n",
            "1250/1250 - 5s - loss: 2.1547 - accuracy: 0.4348 - val_loss: 2.2996 - val_accuracy: 0.4176 - 5s/epoch - 4ms/step\n",
            "Epoch 29/100\n",
            "\n",
            "Epoch 00029: val_loss did not improve from 2.29957\n",
            "1250/1250 - 5s - loss: 2.1253 - accuracy: 0.4398 - val_loss: 2.3058 - val_accuracy: 0.4147 - 5s/epoch - 4ms/step\n",
            "Epoch 30/100\n",
            "\n",
            "Epoch 00030: val_loss improved from 2.29957 to 2.27715, saving model to best-cifar100-v2.h5\n",
            "1250/1250 - 5s - loss: 2.0984 - accuracy: 0.4437 - val_loss: 2.2772 - val_accuracy: 0.4222 - 5s/epoch - 4ms/step\n",
            "Epoch 31/100\n",
            "\n",
            "Epoch 00031: val_loss improved from 2.27715 to 2.27035, saving model to best-cifar100-v2.h5\n",
            "1250/1250 - 5s - loss: 2.0573 - accuracy: 0.4529 - val_loss: 2.2703 - val_accuracy: 0.4226 - 5s/epoch - 4ms/step\n",
            "Epoch 32/100\n",
            "\n",
            "Epoch 00032: val_loss improved from 2.27035 to 2.25646, saving model to best-cifar100-v2.h5\n",
            "1250/1250 - 5s - loss: 2.0352 - accuracy: 0.4590 - val_loss: 2.2565 - val_accuracy: 0.4265 - 5s/epoch - 4ms/step\n",
            "Epoch 33/100\n",
            "\n",
            "Epoch 00033: val_loss did not improve from 2.25646\n",
            "1250/1250 - 5s - loss: 2.0003 - accuracy: 0.4642 - val_loss: 2.2677 - val_accuracy: 0.4259 - 5s/epoch - 4ms/step\n",
            "Epoch 34/100\n",
            "\n",
            "Epoch 00034: val_loss improved from 2.25646 to 2.23681, saving model to best-cifar100-v2.h5\n",
            "1250/1250 - 5s - loss: 1.9798 - accuracy: 0.4697 - val_loss: 2.2368 - val_accuracy: 0.4285 - 5s/epoch - 4ms/step\n",
            "Epoch 35/100\n",
            "\n",
            "Epoch 00035: val_loss improved from 2.23681 to 2.22844, saving model to best-cifar100-v2.h5\n",
            "1250/1250 - 5s - loss: 1.9556 - accuracy: 0.4750 - val_loss: 2.2284 - val_accuracy: 0.4330 - 5s/epoch - 4ms/step\n",
            "Epoch 36/100\n",
            "\n",
            "Epoch 00036: val_loss improved from 2.22844 to 2.21667, saving model to best-cifar100-v2.h5\n",
            "1250/1250 - 6s - loss: 1.9315 - accuracy: 0.4795 - val_loss: 2.2167 - val_accuracy: 0.4351 - 6s/epoch - 4ms/step\n",
            "Epoch 37/100\n",
            "\n",
            "Epoch 00037: val_loss improved from 2.21667 to 2.21404, saving model to best-cifar100-v2.h5\n",
            "1250/1250 - 6s - loss: 1.9020 - accuracy: 0.4864 - val_loss: 2.2140 - val_accuracy: 0.4361 - 6s/epoch - 4ms/step\n",
            "Epoch 38/100\n",
            "\n",
            "Epoch 00038: val_loss improved from 2.21404 to 2.19938, saving model to best-cifar100-v2.h5\n",
            "1250/1250 - 5s - loss: 1.8866 - accuracy: 0.4892 - val_loss: 2.1994 - val_accuracy: 0.4362 - 5s/epoch - 4ms/step\n",
            "Epoch 39/100\n",
            "\n",
            "Epoch 00039: val_loss improved from 2.19938 to 2.19646, saving model to best-cifar100-v2.h5\n",
            "1250/1250 - 5s - loss: 1.8582 - accuracy: 0.4958 - val_loss: 2.1965 - val_accuracy: 0.4373 - 5s/epoch - 4ms/step\n",
            "Epoch 40/100\n",
            "\n",
            "Epoch 00040: val_loss did not improve from 2.19646\n",
            "1250/1250 - 5s - loss: 1.8320 - accuracy: 0.5014 - val_loss: 2.2007 - val_accuracy: 0.4396 - 5s/epoch - 4ms/step\n",
            "Epoch 41/100\n",
            "\n",
            "Epoch 00041: val_loss did not improve from 2.19646\n",
            "1250/1250 - 5s - loss: 1.8094 - accuracy: 0.5064 - val_loss: 2.2098 - val_accuracy: 0.4384 - 5s/epoch - 4ms/step\n",
            "Epoch 42/100\n",
            "\n",
            "Epoch 00042: val_loss improved from 2.19646 to 2.19072, saving model to best-cifar100-v2.h5\n",
            "1250/1250 - 5s - loss: 1.7928 - accuracy: 0.5094 - val_loss: 2.1907 - val_accuracy: 0.4409 - 5s/epoch - 4ms/step\n",
            "Epoch 43/100\n",
            "\n",
            "Epoch 00043: val_loss improved from 2.19072 to 2.17713, saving model to best-cifar100-v2.h5\n",
            "1250/1250 - 5s - loss: 1.7599 - accuracy: 0.5187 - val_loss: 2.1771 - val_accuracy: 0.4452 - 5s/epoch - 4ms/step\n",
            "Epoch 44/100\n",
            "\n",
            "Epoch 00044: val_loss improved from 2.17713 to 2.16942, saving model to best-cifar100-v2.h5\n",
            "1250/1250 - 5s - loss: 1.7445 - accuracy: 0.5221 - val_loss: 2.1694 - val_accuracy: 0.4456 - 5s/epoch - 4ms/step\n",
            "Epoch 45/100\n",
            "\n",
            "Epoch 00045: val_loss did not improve from 2.16942\n",
            "1250/1250 - 5s - loss: 1.7253 - accuracy: 0.5234 - val_loss: 2.1743 - val_accuracy: 0.4435 - 5s/epoch - 4ms/step\n",
            "Epoch 46/100\n",
            "\n",
            "Epoch 00046: val_loss improved from 2.16942 to 2.16193, saving model to best-cifar100-v2.h5\n",
            "1250/1250 - 5s - loss: 1.7047 - accuracy: 0.5307 - val_loss: 2.1619 - val_accuracy: 0.4471 - 5s/epoch - 4ms/step\n",
            "Epoch 47/100\n",
            "\n",
            "Epoch 00047: val_loss improved from 2.16193 to 2.16069, saving model to best-cifar100-v2.h5\n",
            "1250/1250 - 6s - loss: 1.6844 - accuracy: 0.5344 - val_loss: 2.1607 - val_accuracy: 0.4489 - 6s/epoch - 4ms/step\n",
            "Epoch 48/100\n",
            "\n",
            "Epoch 00048: val_loss improved from 2.16069 to 2.15838, saving model to best-cifar100-v2.h5\n",
            "1250/1250 - 5s - loss: 1.6621 - accuracy: 0.5391 - val_loss: 2.1584 - val_accuracy: 0.4486 - 5s/epoch - 4ms/step\n",
            "Epoch 49/100\n",
            "\n",
            "Epoch 00049: val_loss improved from 2.15838 to 2.15686, saving model to best-cifar100-v2.h5\n",
            "1250/1250 - 5s - loss: 1.6433 - accuracy: 0.5421 - val_loss: 2.1569 - val_accuracy: 0.4468 - 5s/epoch - 4ms/step\n",
            "Epoch 50/100\n",
            "\n",
            "Epoch 00050: val_loss improved from 2.15686 to 2.15665, saving model to best-cifar100-v2.h5\n",
            "1250/1250 - 5s - loss: 1.6269 - accuracy: 0.5480 - val_loss: 2.1566 - val_accuracy: 0.4503 - 5s/epoch - 4ms/step\n",
            "Epoch 51/100\n",
            "\n",
            "Epoch 00051: val_loss did not improve from 2.15665\n",
            "1250/1250 - 5s - loss: 1.6053 - accuracy: 0.5523 - val_loss: 2.1620 - val_accuracy: 0.4484 - 5s/epoch - 4ms/step\n",
            "Epoch 52/100\n",
            "\n",
            "Epoch 00052: val_loss improved from 2.15665 to 2.15379, saving model to best-cifar100-v2.h5\n",
            "1250/1250 - 5s - loss: 1.5752 - accuracy: 0.5581 - val_loss: 2.1538 - val_accuracy: 0.4507 - 5s/epoch - 4ms/step\n",
            "Epoch 53/100\n",
            "\n",
            "Epoch 00053: val_loss did not improve from 2.15379\n",
            "1250/1250 - 5s - loss: 1.5639 - accuracy: 0.5601 - val_loss: 2.1609 - val_accuracy: 0.4537 - 5s/epoch - 4ms/step\n",
            "Epoch 54/100\n",
            "\n",
            "Epoch 00054: val_loss improved from 2.15379 to 2.15131, saving model to best-cifar100-v2.h5\n",
            "1250/1250 - 5s - loss: 1.5449 - accuracy: 0.5648 - val_loss: 2.1513 - val_accuracy: 0.4511 - 5s/epoch - 4ms/step\n",
            "Epoch 55/100\n",
            "\n",
            "Epoch 00055: val_loss did not improve from 2.15131\n",
            "1250/1250 - 6s - loss: 1.5213 - accuracy: 0.5693 - val_loss: 2.1553 - val_accuracy: 0.4531 - 6s/epoch - 4ms/step\n",
            "Epoch 56/100\n",
            "\n",
            "Epoch 00056: val_loss did not improve from 2.15131\n",
            "1250/1250 - 5s - loss: 1.5071 - accuracy: 0.5739 - val_loss: 2.1610 - val_accuracy: 0.4530 - 5s/epoch - 4ms/step\n",
            "Epoch 57/100\n",
            "\n",
            "Epoch 00057: val_loss did not improve from 2.15131\n",
            "1250/1250 - 5s - loss: 1.4966 - accuracy: 0.5754 - val_loss: 2.1519 - val_accuracy: 0.4531 - 5s/epoch - 4ms/step\n",
            "Epoch 58/100\n",
            "\n",
            "Epoch 00058: val_loss did not improve from 2.15131\n",
            "1250/1250 - 5s - loss: 1.4711 - accuracy: 0.5811 - val_loss: 2.1592 - val_accuracy: 0.4537 - 5s/epoch - 4ms/step\n",
            "Epoch 59/100\n",
            "\n",
            "Epoch 00059: val_loss did not improve from 2.15131\n",
            "1250/1250 - 5s - loss: 1.4554 - accuracy: 0.5867 - val_loss: 2.1571 - val_accuracy: 0.4538 - 5s/epoch - 4ms/step\n",
            "Epoch 60/100\n",
            "\n",
            "Epoch 00060: val_loss improved from 2.15131 to 2.14096, saving model to best-cifar100-v2.h5\n",
            "1250/1250 - 5s - loss: 1.4450 - accuracy: 0.5857 - val_loss: 2.1410 - val_accuracy: 0.4580 - 5s/epoch - 4ms/step\n",
            "Epoch 61/100\n",
            "\n",
            "Epoch 00061: val_loss did not improve from 2.14096\n",
            "1250/1250 - 5s - loss: 1.4246 - accuracy: 0.5935 - val_loss: 2.1445 - val_accuracy: 0.4569 - 5s/epoch - 4ms/step\n",
            "Epoch 62/100\n",
            "\n",
            "Epoch 00062: val_loss did not improve from 2.14096\n",
            "1250/1250 - 5s - loss: 1.4044 - accuracy: 0.5987 - val_loss: 2.1623 - val_accuracy: 0.4547 - 5s/epoch - 4ms/step\n",
            "Epoch 63/100\n",
            "\n",
            "Epoch 00063: val_loss did not improve from 2.14096\n",
            "1250/1250 - 5s - loss: 1.3908 - accuracy: 0.6026 - val_loss: 2.1700 - val_accuracy: 0.4554 - 5s/epoch - 4ms/step\n",
            "Epoch 64/100\n",
            "\n",
            "Epoch 00064: val_loss did not improve from 2.14096\n",
            "1250/1250 - 5s - loss: 1.3754 - accuracy: 0.6046 - val_loss: 2.1546 - val_accuracy: 0.4538 - 5s/epoch - 4ms/step\n",
            "Epoch 65/100\n",
            "\n",
            "Epoch 00065: val_loss did not improve from 2.14096\n",
            "1250/1250 - 5s - loss: 1.3641 - accuracy: 0.6079 - val_loss: 2.1613 - val_accuracy: 0.4528 - 5s/epoch - 4ms/step\n",
            "Epoch 66/100\n",
            "\n",
            "Epoch 00066: val_loss did not improve from 2.14096\n",
            "1250/1250 - 5s - loss: 1.3381 - accuracy: 0.6128 - val_loss: 2.1698 - val_accuracy: 0.4538 - 5s/epoch - 4ms/step\n",
            "Epoch 67/100\n",
            "\n",
            "Epoch 00067: val_loss did not improve from 2.14096\n",
            "1250/1250 - 5s - loss: 1.3334 - accuracy: 0.6122 - val_loss: 2.1695 - val_accuracy: 0.4616 - 5s/epoch - 4ms/step\n",
            "Epoch 68/100\n",
            "\n",
            "Epoch 00068: val_loss did not improve from 2.14096\n",
            "1250/1250 - 5s - loss: 1.3193 - accuracy: 0.6162 - val_loss: 2.1833 - val_accuracy: 0.4578 - 5s/epoch - 4ms/step\n",
            "Epoch 69/100\n",
            "\n",
            "Epoch 00069: val_loss did not improve from 2.14096\n",
            "1250/1250 - 5s - loss: 1.3084 - accuracy: 0.6188 - val_loss: 2.1619 - val_accuracy: 0.4584 - 5s/epoch - 4ms/step\n",
            "Epoch 70/100\n",
            "\n",
            "Epoch 00070: val_loss did not improve from 2.14096\n",
            "1250/1250 - 5s - loss: 1.2839 - accuracy: 0.6271 - val_loss: 2.1792 - val_accuracy: 0.4559 - 5s/epoch - 4ms/step\n"
          ]
        }
      ]
    },
    {
      "cell_type": "code",
      "source": [
        "best_model = load_model(model_path)\n",
        "best_model.evaluate(X_test, Y_test)"
      ],
      "metadata": {
        "colab": {
          "base_uri": "https://localhost:8080/"
        },
        "id": "dgBWrSdueOiu",
        "outputId": "40d7ad7e-6c50-4a25-b3c6-99641ccce9a9"
      },
      "execution_count": null,
      "outputs": [
        {
          "output_type": "stream",
          "name": "stdout",
          "text": [
            "313/313 [==============================] - 1s 3ms/step - loss: 2.1003 - accuracy: 0.4695\n"
          ]
        },
        {
          "output_type": "execute_result",
          "data": {
            "text/plain": [
              "[2.1002752780914307, 0.46950000524520874]"
            ]
          },
          "metadata": {},
          "execution_count": 18
        }
      ]
    },
    {
      "cell_type": "markdown",
      "source": [
        "- 학습과정 시각화"
      ],
      "metadata": {
        "id": "5LrEmtjilMbh"
      }
    },
    {
      "cell_type": "code",
      "source": [
        "y_acc = hist.history['accuracy']\n",
        "y_vloss = hist.history['val_loss']\n",
        "xs = np.arange(1, len(y_acc)+1)"
      ],
      "metadata": {
        "id": "bgpSb0ejlaGl"
      },
      "execution_count": null,
      "outputs": []
    },
    {
      "cell_type": "code",
      "source": [
        "plt.figure(figsize=(12,8))\n",
        "plt.plot(xs, y_acc, label='train accuracy')\n",
        "plt.plot(xs, y_vloss, label='validation loss')\n",
        "plt.legend()\n",
        "plt.grid()\n",
        "plt.xlabel(\"Epoch\")\n",
        "plt.show()"
      ],
      "metadata": {
        "colab": {
          "base_uri": "https://localhost:8080/"
        },
        "id": "10d35J_rl_04",
        "outputId": "72517067-7101-427c-c980-0632f1c0adc6"
      },
      "execution_count": null,
      "outputs": [
        {
          "output_type": "display_data",
          "data": {
            "image/png": "[encoded data removed]",
            "text/plain": [
              "<Figure size 864x576 with 1 Axes>"
            ]
          },
          "metadata": {
            "needs_background": "light"
          }
        }
      ]
    },
    {
      "cell_type": "code",
      "source": [
        ""
      ],
      "metadata": {
        "id": "VYrat1NomALG"
      },
      "execution_count": null,
      "outputs": []
    }
  ]
}