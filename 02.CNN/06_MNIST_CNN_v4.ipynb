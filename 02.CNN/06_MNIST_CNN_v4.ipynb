{
  "nbformat": 4,
  "nbformat_minor": 0,
  "metadata": {
    "colab": {
      "name": "06_MNIST_CNN_v4.ipynb",
      "provenance": [],
      "collapsed_sections": []
    },
    "kernelspec": {
      "name": "python3",
      "display_name": "Python 3"
    },
    "language_info": {
      "name": "python"
    }
  },
  "cells": [
    {
      "cell_type": "markdown",
      "source": [
        "# MNIST 손글씨 - CNN v4\n",
        "- 2 Conv2D layers ==> 2 Conv2D with padding layers\n",
        "- 1 MaxPoling2D layer\n",
        "- 1 Dropout(0.25) layer\n",
        "- 1 Fully Connected Network layer\n",
        "- 1 Dropout(0.5) layer\n",
        "- 1 Output layer"
      ],
      "metadata": {
        "id": "aFqRrfHEoPI3"
      }
    },
    {
      "cell_type": "code",
      "execution_count": 13,
      "metadata": {
        "id": "fTxFsl9soOO4"
      },
      "outputs": [],
      "source": [
        "import numpy as np\n",
        "import tensorflow as tf\n",
        "seed = 2022\n",
        "np.random.seed(seed)\n",
        "tf.random.set_seed(seed)"
      ]
    },
    {
      "cell_type": "markdown",
      "source": [
        "* 데이터 전처리"
      ],
      "metadata": {
        "id": "_9ZcbdcNorgP"
      }
    },
    {
      "cell_type": "code",
      "source": [
        "from tensorflow.keras.datasets import mnist\n",
        "(X_train, y_train), (X_test, y_test) = mnist.load_data()"
      ],
      "metadata": {
        "id": "pzMP8qixowx_"
      },
      "execution_count": 14,
      "outputs": []
    },
    {
      "cell_type": "code",
      "source": [
        "# X data: 0 ~ 1 사이의 값, 3차원 --> 4차원\n",
        "X_train = X_train.reshape(-1, 28, 28, 1) / 255.\n",
        "X_test = X_test.reshape(-1,28,28,1) / 255."
      ],
      "metadata": {
        "id": "aUqTglESo7K1"
      },
      "execution_count": 15,
      "outputs": []
    },
    {
      "cell_type": "code",
      "source": [
        "# One-hot encoding\n",
        "from tensorflow.keras.utils import to_categorical\n",
        "Y_train = to_categorical(y_train)\n",
        "Y_test = to_categorical(y_test)"
      ],
      "metadata": {
        "id": "ER-a-ILApWAE"
      },
      "execution_count": 16,
      "outputs": []
    },
    {
      "cell_type": "markdown",
      "source": [
        "- 모델 정의, 설정, 학습, 평가"
      ],
      "metadata": {
        "id": "YCoxpc5rqAXT"
      }
    },
    {
      "cell_type": "code",
      "source": [
        "from tensorflow.keras.models import Sequential, load_model\n",
        "from tensorflow.keras.layers import Dense, Conv2D, Flatten, MaxPooling2D\n",
        "from tensorflow.keras.layers import Dropout\n",
        "from tensorflow.keras.callbacks import ModelCheckpoint, EarlyStopping"
      ],
      "metadata": {
        "id": "pZ0raPBWqHBY"
      },
      "execution_count": 17,
      "outputs": []
    },
    {
      "cell_type": "code",
      "source": [
        "model = Sequential([ \n",
        "    Conv2D(32, kernel_size=(3,3), padding='same', input_shape=(28,28,1),activation='relu'),\n",
        "    Conv2D(64, (3,3), padding='same', activation='relu'),\n",
        "    MaxPooling2D(),             # MaxPooling2D(pool_size=(2,2))\n",
        "    Dropout(0.25), \n",
        "    Flatten(),\n",
        "    Dense(512, activation='relu'),\n",
        "    Dropout(0.5),\n",
        "    Dense(10, activation='softmax')\n",
        "])\n",
        "model.summary()"
      ],
      "metadata": {
        "colab": {
          "base_uri": "https://localhost:8080/"
        },
        "id": "cVt1lzAHqgNA",
        "outputId": "ea7133d2-decb-4d8c-d9e1-3c42f5aef884"
      },
      "execution_count": 20,
      "outputs": [
        {
          "output_type": "stream",
          "name": "stdout",
          "text": [
            "Model: \"sequential_3\"\n",
            "_________________________________________________________________\n",
            " Layer (type)                Output Shape              Param #   \n",
            "=================================================================\n",
            " conv2d_6 (Conv2D)           (None, 28, 28, 32)        320       \n",
            "                                                                 \n",
            " conv2d_7 (Conv2D)           (None, 28, 28, 64)        18496     \n",
            "                                                                 \n",
            " max_pooling2d_3 (MaxPooling  (None, 14, 14, 64)       0         \n",
            " 2D)                                                             \n",
            "                                                                 \n",
            " dropout_6 (Dropout)         (None, 14, 14, 64)        0         \n",
            "                                                                 \n",
            " flatten_3 (Flatten)         (None, 12544)             0         \n",
            "                                                                 \n",
            " dense_6 (Dense)             (None, 512)               6423040   \n",
            "                                                                 \n",
            " dropout_7 (Dropout)         (None, 512)               0         \n",
            "                                                                 \n",
            " dense_7 (Dense)             (None, 10)                5130      \n",
            "                                                                 \n",
            "=================================================================\n",
            "Total params: 6,446,986\n",
            "Trainable params: 6,446,986\n",
            "Non-trainable params: 0\n",
            "_________________________________________________________________\n"
          ]
        }
      ]
    },
    {
      "cell_type": "code",
      "source": [
        "model.compile(optimizer='adam', loss='categorical_crossentropy', metrics=['accuracy'])"
      ],
      "metadata": {
        "id": "Esf7GJQOrfYC"
      },
      "execution_count": 25,
      "outputs": []
    },
    {
      "cell_type": "code",
      "source": [
        "model_path = 'best-mnist-cnn-v4.h5'\n",
        "checkpoint = ModelCheckpoint(model_path, save_best_only=True, verbose=1)\n",
        "early_stop = EarlyStopping(patience=10)"
      ],
      "metadata": {
        "id": "JZ5J_pEbsspb"
      },
      "execution_count": 26,
      "outputs": []
    },
    {
      "cell_type": "code",
      "source": [
        "hist = model.fit(\n",
        "    X_train, Y_train, validation_split=0.2, epochs=100, batch_size=200, \n",
        "    callbacks=[checkpoint, early_stop], verbose=0\n",
        ")"
      ],
      "metadata": {
        "colab": {
          "base_uri": "https://localhost:8080/"
        },
        "id": "-h4oH83AtDFI",
        "outputId": "3b8c35d1-8356-41dd-d1ec-b58b79523c50"
      },
      "execution_count": 27,
      "outputs": [
        {
          "output_type": "stream",
          "name": "stdout",
          "text": [
            "\n",
            "Epoch 00001: val_loss improved from inf to 0.05717, saving model to best-mnist-cnn-v4.h5\n",
            "\n",
            "Epoch 00002: val_loss improved from 0.05717 to 0.04674, saving model to best-mnist-cnn-v4.h5\n",
            "\n",
            "Epoch 00003: val_loss improved from 0.04674 to 0.04120, saving model to best-mnist-cnn-v4.h5\n",
            "\n",
            "Epoch 00004: val_loss improved from 0.04120 to 0.03807, saving model to best-mnist-cnn-v4.h5\n",
            "\n",
            "Epoch 00005: val_loss did not improve from 0.03807\n",
            "\n",
            "Epoch 00006: val_loss improved from 0.03807 to 0.03655, saving model to best-mnist-cnn-v4.h5\n",
            "\n",
            "Epoch 00007: val_loss did not improve from 0.03655\n",
            "\n",
            "Epoch 00008: val_loss improved from 0.03655 to 0.03490, saving model to best-mnist-cnn-v4.h5\n",
            "\n",
            "Epoch 00009: val_loss did not improve from 0.03490\n",
            "\n",
            "Epoch 00010: val_loss did not improve from 0.03490\n",
            "\n",
            "Epoch 00011: val_loss did not improve from 0.03490\n",
            "\n",
            "Epoch 00012: val_loss did not improve from 0.03490\n",
            "\n",
            "Epoch 00013: val_loss did not improve from 0.03490\n",
            "\n",
            "Epoch 00014: val_loss improved from 0.03490 to 0.03430, saving model to best-mnist-cnn-v4.h5\n",
            "\n",
            "Epoch 00015: val_loss did not improve from 0.03430\n",
            "\n",
            "Epoch 00016: val_loss did not improve from 0.03430\n",
            "\n",
            "Epoch 00017: val_loss did not improve from 0.03430\n",
            "\n",
            "Epoch 00018: val_loss did not improve from 0.03430\n",
            "\n",
            "Epoch 00019: val_loss did not improve from 0.03430\n",
            "\n",
            "Epoch 00020: val_loss did not improve from 0.03430\n",
            "\n",
            "Epoch 00021: val_loss did not improve from 0.03430\n",
            "\n",
            "Epoch 00022: val_loss did not improve from 0.03430\n",
            "\n",
            "Epoch 00023: val_loss did not improve from 0.03430\n",
            "\n",
            "Epoch 00024: val_loss did not improve from 0.03430\n"
          ]
        }
      ]
    },
    {
      "cell_type": "code",
      "source": [
        "best_model = load_model(model_path)\n",
        "best_model.evaluate(X_test, Y_test)"
      ],
      "metadata": {
        "colab": {
          "base_uri": "https://localhost:8080/"
        },
        "id": "clHeDiCZtf2L",
        "outputId": "916ccad5-b273-4b97-d9b3-ddbe9c699333"
      },
      "execution_count": 28,
      "outputs": [
        {
          "output_type": "stream",
          "name": "stdout",
          "text": [
            "313/313 [==============================] - 1s 3ms/step - loss: 0.0285 - accuracy: 0.9913\n"
          ]
        },
        {
          "output_type": "execute_result",
          "data": {
            "text/plain": [
              "[0.02849917858839035, 0.9912999868392944]"
            ]
          },
          "metadata": {},
          "execution_count": 28
        }
      ]
    },
    {
      "cell_type": "code",
      "source": [
        ""
      ],
      "metadata": {
        "id": "Z7fETV4j88p_"
      },
      "execution_count": 12,
      "outputs": []
    }
  ]
}