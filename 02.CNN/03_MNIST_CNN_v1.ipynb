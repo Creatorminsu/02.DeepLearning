{
  "cells": [
    {
      "cell_type": "markdown",
      "metadata": {
        "id": "aFqRrfHEoPI3"
      },
      "source": [
        "# MNIST 손글씨 - CNN v1\n",
        "- 2 Conv2D layers\n",
        "- 1 Fully Connected Network layer\n",
        "- 1 Output layer"
      ]
    },
    {
      "cell_type": "code",
      "execution_count": 1,
      "metadata": {
        "id": "fTxFsl9soOO4"
      },
      "outputs": [],
      "source": [
        "import numpy as np\n",
        "import tensorflow as tf\n",
        "seed = 2022\n",
        "np.random.seed(seed)\n",
        "tf.random.set_seed(seed)"
      ]
    },
    {
      "cell_type": "markdown",
      "metadata": {
        "id": "_9ZcbdcNorgP"
      },
      "source": [
        "* 데이터 전처리"
      ]
    },
    {
      "cell_type": "code",
      "execution_count": 2,
      "metadata": {
        "colab": {
          "base_uri": "https://localhost:8080/"
        },
        "id": "pzMP8qixowx_",
        "outputId": "82332be8-fdb1-4101-e6b1-62ed8632d1d3"
      },
      "outputs": [
        {
          "name": "stdout",
          "output_type": "stream",
          "text": [
            "Downloading data from https://storage.googleapis.com/tensorflow/tf-keras-datasets/mnist.npz\n",
            "11493376/11490434 [==============================] - 0s 0us/step\n",
            "11501568/11490434 [==============================] - 0s 0us/step\n"
          ]
        }
      ],
      "source": [
        "from tensorflow.keras.datasets import mnist\n",
        "(X_train, y_train), (X_test, y_test) = mnist.load_data()"
      ]
    },
    {
      "cell_type": "code",
      "execution_count": 3,
      "metadata": {
        "id": "aUqTglESo7K1"
      },
      "outputs": [],
      "source": [
        "# X data: 0 ~ 1 사이의 값, 3차원 --> 4차원\n",
        "X_train = X_train.reshape(-1, 28, 28, 1) / 255.\n",
        "X_test = X_test.reshape(-1,28,28,1) / 255."
      ]
    },
    {
      "cell_type": "code",
      "execution_count": 4,
      "metadata": {
        "id": "ER-a-ILApWAE"
      },
      "outputs": [],
      "source": [
        "# One-hot encoding\n",
        "from tensorflow.keras.utils import to_categorical\n",
        "Y_train = to_categorical(y_train)\n",
        "Y_test = to_categorical(y_test)"
      ]
    },
    {
      "cell_type": "markdown",
      "metadata": {
        "id": "YCoxpc5rqAXT"
      },
      "source": [
        "- 모델 정의, 설정, 학습, 평가"
      ]
    },
    {
      "cell_type": "code",
      "execution_count": 5,
      "metadata": {
        "id": "pZ0raPBWqHBY"
      },
      "outputs": [],
      "source": [
        "from tensorflow.keras.models import Sequential, load_model\n",
        "from tensorflow.keras.layers import Dense, Conv2D, Flatten\n",
        "from tensorflow.keras.callbacks import ModelCheckpoint, EarlyStopping"
      ]
    },
    {
      "cell_type": "code",
      "execution_count": 6,
      "metadata": {
        "colab": {
          "base_uri": "https://localhost:8080/"
        },
        "id": "cVt1lzAHqgNA",
        "outputId": "c3dcc95c-fcac-4a76-e2e1-0f0c65aed000"
      },
      "outputs": [
        {
          "name": "stdout",
          "output_type": "stream",
          "text": [
            "Model: \"sequential\"\n",
            "_________________________________________________________________\n",
            " Layer (type)                Output Shape              Param #   \n",
            "=================================================================\n",
            " conv2d (Conv2D)             (None, 26, 26, 32)        320       \n",
            "                                                                 \n",
            " conv2d_1 (Conv2D)           (None, 24, 24, 64)        18496     \n",
            "                                                                 \n",
            " flatten (Flatten)           (None, 36864)             0         \n",
            "                                                                 \n",
            " dense (Dense)               (None, 512)               18874880  \n",
            "                                                                 \n",
            " dense_1 (Dense)             (None, 10)                5130      \n",
            "                                                                 \n",
            "=================================================================\n",
            "Total params: 18,898,826\n",
            "Trainable params: 18,898,826\n",
            "Non-trainable params: 0\n",
            "_________________________________________________________________\n"
          ]
        }
      ],
      "source": [
        "model = Sequential([ \n",
        "    Conv2D(32, kernel_size=(3,3), input_shape=(28,28,1),activation='relu'),\n",
        "    Conv2D(64, (3,3), activation='relu'),\n",
        "    Flatten(),\n",
        "    Dense(512, activation='relu'),\n",
        "    Dense(10, activation='softmax')\n",
        "])\n",
        "model.summary()"
      ]
    },
    {
      "cell_type": "code",
      "execution_count": 7,
      "metadata": {
        "id": "Esf7GJQOrfYC"
      },
      "outputs": [],
      "source": [
        "model.compile(optimizer='adam', loss='categorical_crossentropy', metrics=['accuracy'])"
      ]
    },
    {
      "cell_type": "code",
      "execution_count": 8,
      "metadata": {
        "id": "JZ5J_pEbsspb"
      },
      "outputs": [],
      "source": [
        "model_path = 'best-mnist-cnn-v1.h5'\n",
        "checkpoint = ModelCheckpoint(model_path, save_best_only=True, verbose=1)\n",
        "early_stop = EarlyStopping(patience=10)"
      ]
    },
    {
      "cell_type": "code",
      "execution_count": 9,
      "metadata": {
        "colab": {
          "base_uri": "https://localhost:8080/"
        },
        "id": "-h4oH83AtDFI",
        "outputId": "db415d60-dfb4-4418-e37e-fd7bcede2516"
      },
      "outputs": [
        {
          "name": "stdout",
          "output_type": "stream",
          "text": [
            "Epoch 1/100\n",
            "239/240 [============================>.] - ETA: 0s - loss: 0.1524 - accuracy: 0.9531\n",
            "Epoch 00001: val_loss improved from inf to 0.05598, saving model to best-mnist-cnn-v1.h5\n",
            "240/240 [==============================] - 21s 22ms/step - loss: 0.1521 - accuracy: 0.9532 - val_loss: 0.0560 - val_accuracy: 0.9835\n",
            "Epoch 2/100\n",
            "238/240 [============================>.] - ETA: 0s - loss: 0.0355 - accuracy: 0.9890\n",
            "Epoch 00002: val_loss improved from 0.05598 to 0.05429, saving model to best-mnist-cnn-v1.h5\n",
            "240/240 [==============================] - 5s 21ms/step - loss: 0.0354 - accuracy: 0.9890 - val_loss: 0.0543 - val_accuracy: 0.9847\n",
            "Epoch 3/100\n",
            "238/240 [============================>.] - ETA: 0s - loss: 0.0176 - accuracy: 0.9945\n",
            "Epoch 00003: val_loss improved from 0.05429 to 0.04584, saving model to best-mnist-cnn-v1.h5\n",
            "240/240 [==============================] - 5s 21ms/step - loss: 0.0176 - accuracy: 0.9945 - val_loss: 0.0458 - val_accuracy: 0.9870\n",
            "Epoch 4/100\n",
            "238/240 [============================>.] - ETA: 0s - loss: 0.0098 - accuracy: 0.9970\n",
            "Epoch 00004: val_loss did not improve from 0.04584\n",
            "240/240 [==============================] - 5s 19ms/step - loss: 0.0098 - accuracy: 0.9971 - val_loss: 0.0551 - val_accuracy: 0.9863\n",
            "Epoch 5/100\n",
            "238/240 [============================>.] - ETA: 0s - loss: 0.0067 - accuracy: 0.9978\n",
            "Epoch 00005: val_loss did not improve from 0.04584\n",
            "240/240 [==============================] - 5s 19ms/step - loss: 0.0068 - accuracy: 0.9978 - val_loss: 0.0818 - val_accuracy: 0.9801\n",
            "Epoch 6/100\n",
            "238/240 [============================>.] - ETA: 0s - loss: 0.0086 - accuracy: 0.9971\n",
            "Epoch 00006: val_loss did not improve from 0.04584\n",
            "240/240 [==============================] - 5s 19ms/step - loss: 0.0086 - accuracy: 0.9971 - val_loss: 0.0519 - val_accuracy: 0.9863\n",
            "Epoch 7/100\n",
            "238/240 [============================>.] - ETA: 0s - loss: 0.0032 - accuracy: 0.9989\n",
            "Epoch 00007: val_loss did not improve from 0.04584\n",
            "240/240 [==============================] - 5s 19ms/step - loss: 0.0032 - accuracy: 0.9989 - val_loss: 0.0539 - val_accuracy: 0.9883\n",
            "Epoch 8/100\n",
            "238/240 [============================>.] - ETA: 0s - loss: 0.0033 - accuracy: 0.9988\n",
            "Epoch 00008: val_loss did not improve from 0.04584\n",
            "240/240 [==============================] - 5s 19ms/step - loss: 0.0033 - accuracy: 0.9988 - val_loss: 0.0529 - val_accuracy: 0.9894\n",
            "Epoch 9/100\n",
            "238/240 [============================>.] - ETA: 0s - loss: 0.0045 - accuracy: 0.9987\n",
            "Epoch 00009: val_loss did not improve from 0.04584\n",
            "240/240 [==============================] - 5s 19ms/step - loss: 0.0046 - accuracy: 0.9987 - val_loss: 0.0648 - val_accuracy: 0.9855\n",
            "Epoch 10/100\n",
            "239/240 [============================>.] - ETA: 0s - loss: 0.0044 - accuracy: 0.9985\n",
            "Epoch 00010: val_loss did not improve from 0.04584\n",
            "240/240 [==============================] - 5s 20ms/step - loss: 0.0044 - accuracy: 0.9985 - val_loss: 0.0776 - val_accuracy: 0.9857\n",
            "Epoch 11/100\n",
            "238/240 [============================>.] - ETA: 0s - loss: 0.0044 - accuracy: 0.9986\n",
            "Epoch 00011: val_loss did not improve from 0.04584\n",
            "240/240 [==============================] - 5s 20ms/step - loss: 0.0044 - accuracy: 0.9986 - val_loss: 0.0613 - val_accuracy: 0.9868\n",
            "Epoch 12/100\n",
            "238/240 [============================>.] - ETA: 0s - loss: 0.0024 - accuracy: 0.9994\n",
            "Epoch 00012: val_loss did not improve from 0.04584\n",
            "240/240 [==============================] - 5s 20ms/step - loss: 0.0023 - accuracy: 0.9994 - val_loss: 0.0598 - val_accuracy: 0.9893\n",
            "Epoch 13/100\n",
            "238/240 [============================>.] - ETA: 0s - loss: 0.0014 - accuracy: 0.9996\n",
            "Epoch 00013: val_loss did not improve from 0.04584\n",
            "240/240 [==============================] - 5s 20ms/step - loss: 0.0014 - accuracy: 0.9996 - val_loss: 0.0737 - val_accuracy: 0.9863\n"
          ]
        }
      ],
      "source": [
        "hist = model.fit(\n",
        "    X_train, Y_train, validation_split=0.2, epochs=100, batch_size=200, \n",
        "    callbacks=[checkpoint, early_stop], verbose=0\n",
        ")"
      ]
    },
    {
      "cell_type": "code",
      "execution_count": 10,
      "metadata": {
        "colab": {
          "base_uri": "https://localhost:8080/"
        },
        "id": "clHeDiCZtf2L",
        "outputId": "4d5db5bb-bce2-44f0-b35c-21cdb6e88e3d"
      },
      "outputs": [
        {
          "name": "stdout",
          "output_type": "stream",
          "text": [
            "313/313 [==============================] - 1s 4ms/step - loss: 0.0410 - accuracy: 0.9873\n"
          ]
        },
        {
          "data": {
            "text/plain": [
              "[0.04103410616517067, 0.9872999787330627]"
            ]
          },
          "execution_count": 10,
          "metadata": {},
          "output_type": "execute_result"
        }
      ],
      "source": [
        "best_model = load_model(model_path)\n",
        "best_model.evaluate(X_test, Y_test)"
      ]
    },
    {
      "cell_type": "code",
      "execution_count": null,
      "metadata": {
        "id": "Hw7LI094vaIH"
      },
      "outputs": [],
      "source": []
    }
  ],
  "metadata": {
    "accelerator": "GPU",
    "colab": {
      "name": "03.MNIST-CNN-v1.ipynb",
      "provenance": []
    },
    "kernelspec": {
      "display_name": "Python 3",
      "name": "python3"
    },
    "language_info": {
      "name": "python"
    }
  },
  "nbformat": 4,
  "nbformat_minor": 0
}
